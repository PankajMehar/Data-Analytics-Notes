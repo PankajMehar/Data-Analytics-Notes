{
 "cells": [
  {
   "cell_type": "code",
   "execution_count": 2,
   "metadata": {
    "collapsed": true
   },
   "outputs": [],
   "source": [
    "import wptools"
   ]
  },
  {
   "cell_type": "code",
   "execution_count": 3,
   "metadata": {},
   "outputs": [
    {
     "name": "stderr",
     "output_type": "stream",
     "text": [
      "en.wikipedia.org (query) E.T._the_Extra-Terrestrial\n",
      "en.wikipedia.org (parse) 73441\n",
      "www.wikidata.org (wikidata) Q11621\n",
      "www.wikidata.org (labels) Q45171911|Q131285|Q505449|P905|Q1011509...\n",
      "www.wikidata.org (labels) Q488651|Q3953565|Q30|P268|Q2143665|P244...\n",
      "www.wikidata.org (labels) P1562|Q981030|P272|P344|Q237207|P3135|Q...\n",
      "www.wikidata.org (labels) Q377616|P3844|P3138|P3107|P1712|P1552|Q130232\n",
      "en.wikipedia.org (restbase) /page/summary/E.T._the_Extra-Terrestrial\n",
      "en.wikipedia.org (imageinfo) File:ET logo 3.svg|File:E t the extr...\n",
      "E.T. the Extra-Terrestrial (en) data\n",
      "{\n",
      "  aliases: <list(2)> E.T., ET\n",
      "  claims: <dict(79)> P1562, P57, P272, P345, P31, P161, P373, P480...\n",
      "  description: 1982 American science fiction film\n",
      "  exhtml: <str(825)> <p><i><b>E.T. the Extra-Terrestrial</b></i> i...\n",
      "  exrest: <str(794)> E.T. the Extra-Terrestrial is a 1982 American...\n",
      "  extext: <str(1808)> _**E.T. the Extra-Terrestrial**_ is a 1982 A...\n",
      "  extract: <str(1898)> <p><i><b>E.T. the Extra-Terrestrial</b></i>...\n",
      "  image: <list(4)> {'kind': 'parse-image', 'file': 'File:E t the e...\n",
      "  infobox: <dict(19)> name, image, alt, caption, director, produce...\n",
      "  iwlinks: <list(4)> https://commons.wikimedia.org/wiki/Special:Se...\n",
      "  label: E.T. the Extra-Terrestrial\n",
      "  labels: <dict(157)> Q45171911, Q131285, Q505449, P905, Q1011509,...\n",
      "  length: 75,064\n",
      "  links: <list(407)> 12 Monkeys, 12 Years a Slave (film), 1941 (fi...\n",
      "  modified: <dict(2)> page, wikidata\n",
      "  pageid: 73441\n",
      "  parsetree: <str(93364)> <root><template><title>Redirect</title><...\n",
      "  random: RRS Discovery II\n",
      "  redirects: <list(38)> {'pageid': 177061, 'ns': 0, 'title': 'E.T....\n",
      "  requests: <list(9)> query, parse, wikidata, labels, labels, labe...\n",
      "  title: E.T._the_Extra-Terrestrial\n",
      "  url: https://en.wikipedia.org/wiki/E.T._the_Extra-Terrestrial\n",
      "  url_raw: <str(67)> https://en.wikipedia.org/wiki/E.T._the_Extra-...\n",
      "  watchers: 258\n",
      "  what: film\n",
      "  wikibase: Q11621\n",
      "  wikidata: <dict(79)> AllMovie movie ID (P1562), director (P57), ...\n",
      "  wikidata_url: https://www.wikidata.org/wiki/Q11621\n",
      "  wikitext: <str(74777)> {{Redirect|E.T.|other uses|ET (disambigua...\n",
      "}\n"
     ]
    }
   ],
   "source": [
    "# Your code here: get the E.T. page object\n",
    "# This cell make take a few seconds to run\n",
    "page =wptools.page('E.T._the_Extra-Terrestrial').get()"
   ]
  },
  {
   "cell_type": "code",
   "execution_count": 4,
   "metadata": {},
   "outputs": [
    {
     "data": {
      "text/plain": [
       "[{'descriptionshorturl': 'https://en.wikipedia.org/w/index.php?curid=7419503',\n",
       "  'descriptionurl': 'https://en.wikipedia.org/wiki/File:E_t_the_extra_terrestrial_ver3.jpg',\n",
       "  'file': 'File:E t the extra terrestrial ver3.jpg',\n",
       "  'height': 394,\n",
       "  'kind': 'parse-image',\n",
       "  'orig': 'E t the extra terrestrial ver3.jpg',\n",
       "  'size': 83073,\n",
       "  'timestamp': '2016-06-04T10:30:46Z',\n",
       "  'title': 'File:E t the extra terrestrial ver3.jpg',\n",
       "  'url': 'https://upload.wikimedia.org/wikipedia/en/6/66/E_t_the_extra_terrestrial_ver3.jpg',\n",
       "  'width': 253},\n",
       " {'descriptionshorturl': 'https://commons.wikimedia.org/w/index.php?curid=14138952',\n",
       "  'descriptionurl': 'https://commons.wikimedia.org/wiki/File:ET_logo_3.svg',\n",
       "  'file': 'File:ET logo 3.svg',\n",
       "  'height': 380,\n",
       "  'kind': 'wikidata-image',\n",
       "  'orig': 'ET logo 3.svg',\n",
       "  'size': 77290,\n",
       "  'timestamp': '2011-05-14T20:38:17Z',\n",
       "  'title': 'File:ET logo 3.svg',\n",
       "  'url': 'https://upload.wikimedia.org/wikipedia/commons/8/85/ET_logo_3.svg',\n",
       "  'width': 512},\n",
       " {'file': 'File:E t the extra terrestrial ver3.jpg',\n",
       "  'height': 394,\n",
       "  'kind': 'restbase-original',\n",
       "  'orig': 'E_t_the_extra_terrestrial_ver3.jpg',\n",
       "  'url': 'https://upload.wikimedia.org/wikipedia/en/6/66/E_t_the_extra_terrestrial_ver3.jpg',\n",
       "  'width': 253},\n",
       " {'file': 'File:205px-E t the extra terrestrial ver3.jpg',\n",
       "  'height': 320,\n",
       "  'kind': 'restbase-thumb',\n",
       "  'orig': '205px-E_t_the_extra_terrestrial_ver3.jpg',\n",
       "  'url': 'https://upload.wikimedia.org/wikipedia/en/thumb/6/66/E_t_the_extra_terrestrial_ver3.jpg/205px-E_t_the_extra_terrestrial_ver3.jpg',\n",
       "  'width': 205}]"
      ]
     },
     "execution_count": 4,
     "metadata": {},
     "output_type": "execute_result"
    }
   ],
   "source": [
    "# Accessing the image attribute will return the lis of images from this page\n",
    "page.data['image']"
   ]
  },
  {
   "cell_type": "code",
   "execution_count": null,
   "metadata": {
    "collapsed": true
   },
   "outputs": [],
   "source": []
  }
 ],
 "metadata": {
  "kernelspec": {
   "display_name": "Python 3",
   "language": "python",
   "name": "python3"
  },
  "language_info": {
   "codemirror_mode": {
    "name": "ipython",
    "version": 3
   },
   "file_extension": ".py",
   "mimetype": "text/x-python",
   "name": "python",
   "nbconvert_exporter": "python",
   "pygments_lexer": "ipython3",
   "version": "3.6.2"
  }
 },
 "nbformat": 4,
 "nbformat_minor": 2
}
