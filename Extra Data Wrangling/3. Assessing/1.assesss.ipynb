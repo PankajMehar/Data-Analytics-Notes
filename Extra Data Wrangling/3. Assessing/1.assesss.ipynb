{
 "cells": [
  {
   "cell_type": "markdown",
   "metadata": {},
   "source": [
    "### Unclean Data: Dirty vs. Messy\n",
    "There are two types of unclean data:\n",
    "\n",
    "- Dirty data, also known as low quality data. Low quality data has content issues.\n",
    "- Messy data, also known as untidy data. Untidy data has structural issues.\n",
    "\n",
    "Why write observations of issues instead of writing observations as well as how to fix them? When your data's issues get complicated, writing how to fix each can get confusing, lengthy, and time-consuming. It can get overwhelming trying to think of how to clean something complicated immediately after documenting it.\n",
    "\n",
    "If you are separating the assessing and cleaning steps of data wrangling, as we are in this lesson, writing observations only is good practice.\n",
    "\n",
    "If you choose to assess an issue then immediately clean that issue (which is very much allowed), you can skip the observation and go straight to defining how to clean it "
   ]
  },
  {
   "cell_type": "markdown",
   "metadata": {
    "collapsed": true
   },
   "source": [
    "__Assessing__ is also identifying structural (tidiness) issues that make analysis difficult.\n",
    "\n",
    "The discovery of these data quality and ensure that the analysis can be executed, which for this clinical trial data includes calculated average patient metrics (e.g. age, weight, height, and BMI) and calculating the confidence interval for the difference in HbA1c change means between Novodra and Auralin patients.\n",
    "\n",
    "__Exploring__, in the context of this dataset, might be:\n",
    "\n",
    "Using summary statistics like count on the state column or mean on the weight column to see if patients from certain states or of certain weights are more likely to have diabetes, which we can use to exclude certain patients from the analysis and make it less biased\n",
    "Exploring, in the context of a clinical trial, is less likely to happen given that clinical trials are expensive and consist of extreme pre-planning. So exploring on this dataset would likely exclusively happen before the treatments and adverse_reactions tables were created, i.e., before the clinical trial was conducted."
   ]
  },
  {
   "cell_type": "code",
   "execution_count": null,
   "metadata": {
    "collapsed": true
   },
   "outputs": [],
   "source": []
  }
 ],
 "metadata": {
  "kernelspec": {
   "display_name": "Python 3",
   "language": "python",
   "name": "python3"
  },
  "language_info": {
   "codemirror_mode": {
    "name": "ipython",
    "version": 3
   },
   "file_extension": ".py",
   "mimetype": "text/x-python",
   "name": "python",
   "nbconvert_exporter": "python",
   "pygments_lexer": "ipython3",
   "version": "3.6.2"
  }
 },
 "nbformat": 4,
 "nbformat_minor": 2
}
