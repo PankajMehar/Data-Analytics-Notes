{
 "cells": [
  {
   "cell_type": "markdown",
   "metadata": {},
   "source": [
    "# Tuples"
   ]
  },
  {
   "cell_type": "markdown",
   "metadata": {},
   "source": [
    "__Tuples__ are used to store related pieces of information. Tuples are similar to lists in that they store an ordered collection of objects which can be accessed by their indexes. Unlike lists, tuples are immutable. You can't add and remove items from tuples, or sort them in place."
   ]
  },
  {
   "cell_type": "code",
   "execution_count": 1,
   "metadata": {},
   "outputs": [
    {
     "name": "stdout",
     "output_type": "stream",
     "text": [
      "('Gambhir', 92)\n",
      "<class 'tuple'>\n"
     ]
    }
   ],
   "source": [
    "# Creating a tuple\n",
    "player1 = ('Gambhir',92)\n",
    "print(player1)\n",
    "print(type(player1))"
   ]
  },
  {
   "cell_type": "code",
   "execution_count": 2,
   "metadata": {},
   "outputs": [
    {
     "name": "stdout",
     "output_type": "stream",
     "text": [
      "Gambhir\n",
      "92\n"
     ]
    }
   ],
   "source": [
    "#  objects can be accessed by their indexes. \n",
    "print(player1[0])\n",
    "print(player1[1])"
   ]
  },
  {
   "cell_type": "markdown",
   "metadata": {},
   "source": [
    "The parentheses are optional when making tuples, and programmers frequently omit them if parentheses don't clarify the code."
   ]
  },
  {
   "cell_type": "code",
   "execution_count": 3,
   "metadata": {},
   "outputs": [
    {
     "data": {
      "text/plain": [
       "(20, 10, 30)"
      ]
     },
     "execution_count": 3,
     "metadata": {},
     "output_type": "execute_result"
    }
   ],
   "source": [
    "# Creating a tuple\n",
    "dimensions = 20,10,30\n",
    "dimensions"
   ]
  },
  {
   "cell_type": "markdown",
   "metadata": {},
   "source": [
    "Tuples can be used to assign multiple variables in a compact way. This is called tuple unpacking. \n",
    "\n",
    "Tuple unpacking can be used to assign the information from a tuple into multiple variables without having to access them one by one and make multiple assignment statements."
   ]
  },
  {
   "cell_type": "code",
   "execution_count": 4,
   "metadata": {},
   "outputs": [
    {
     "name": "stdout",
     "output_type": "stream",
     "text": [
      "Length is :  20\n",
      "width is :  10\n",
      "Height is :  30\n"
     ]
    }
   ],
   "source": [
    "length, width, height = dimensions \n",
    "print(\"Length is : \", dimensions[0])\n",
    "print(\"width is : \", dimensions[1])\n",
    "print(\"Height is : \",dimensions[2])"
   ]
  },
  {
   "cell_type": "markdown",
   "metadata": {},
   "source": [
    "A common use for tuples is to return multiple values from a function:"
   ]
  },
  {
   "cell_type": "code",
   "execution_count": 5,
   "metadata": {
    "collapsed": true
   },
   "outputs": [],
   "source": [
    "def first_and_last(sequence):\n",
    "    \"\"\"returns the first and last elements of a sequence\"\"\"\n",
    "    return(sequence[0], sequence[-1])"
   ]
  },
  {
   "cell_type": "code",
   "execution_count": 6,
   "metadata": {},
   "outputs": [
    {
     "data": {
      "text/plain": [
       "('Spam', 'Spam')"
      ]
     },
     "execution_count": 6,
     "metadata": {},
     "output_type": "execute_result"
    }
   ],
   "source": [
    "first_and_last([\"Spam\", \"egg\", \"sausage\", \"Spam\"])"
   ]
  },
  {
   "cell_type": "code",
   "execution_count": 7,
   "metadata": {},
   "outputs": [
    {
     "name": "stdout",
     "output_type": "stream",
     "text": [
      "Messi\n",
      "Bale\n"
     ]
    }
   ],
   "source": [
    "start, end = first_and_last([\"Messi\", \"Neymar\", \"Ronaldo\", \"Bale\"])\n",
    "print(start)\n",
    "print(end)"
   ]
  }
 ],
 "metadata": {
  "kernelspec": {
   "display_name": "Python [default]",
   "language": "python",
   "name": "python3"
  },
  "language_info": {
   "codemirror_mode": {
    "name": "ipython",
    "version": 3
   },
   "file_extension": ".py",
   "mimetype": "text/x-python",
   "name": "python",
   "nbconvert_exporter": "python",
   "pygments_lexer": "ipython3",
   "version": "3.6.1"
  }
 },
 "nbformat": 4,
 "nbformat_minor": 2
}
