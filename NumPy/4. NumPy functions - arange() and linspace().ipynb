{
 "cells": [
  {
   "cell_type": "markdown",
   "metadata": {},
   "source": [
    "# NumPy functions : - arange() and linspace()"
   ]
  },
  {
   "cell_type": "code",
   "execution_count": 1,
   "metadata": {
    "collapsed": true
   },
   "outputs": [],
   "source": [
    "# Importing package\n",
    "import numpy as np"
   ]
  },
  {
   "cell_type": "markdown",
   "metadata": {},
   "source": [
    "## 1. numpy.arange([start, ]stop, [step, ])\n",
    "_The terms in square brackets start and step are optional._\n",
    "\n",
    "This function returns a numpy array with evenly spaced values within a given interval. The numpy array starts with the _start element_  but will exclude the _stop element_. "
   ]
  },
  {
   "cell_type": "code",
   "execution_count": 4,
   "metadata": {},
   "outputs": [
    {
     "data": {
      "text/plain": [
       "array([0, 1, 2, 3, 4])"
      ]
     },
     "execution_count": 4,
     "metadata": {},
     "output_type": "execute_result"
    }
   ],
   "source": [
    "# By default the array will start from 0 and end at a value less than 5 ; with even spaces(or, step size) of 1.\n",
    "np.arange(5)"
   ]
  },
  {
   "cell_type": "code",
   "execution_count": 13,
   "metadata": {},
   "outputs": [
    {
     "data": {
      "text/plain": [
       "numpy.ndarray"
      ]
     },
     "execution_count": 13,
     "metadata": {},
     "output_type": "execute_result"
    }
   ],
   "source": [
    "type(np.arange(5))"
   ]
  },
  {
   "cell_type": "code",
   "execution_count": 5,
   "metadata": {},
   "outputs": [
    {
     "data": {
      "text/plain": [
       "array([3, 4, 5, 6, 7, 8])"
      ]
     },
     "execution_count": 5,
     "metadata": {},
     "output_type": "execute_result"
    }
   ],
   "source": [
    "np.arange(3,9)"
   ]
  },
  {
   "cell_type": "code",
   "execution_count": 7,
   "metadata": {},
   "outputs": [
    {
     "data": {
      "text/plain": [
       "array([ 3,  4,  5,  6,  7,  8,  9, 10, 11, 12])"
      ]
     },
     "execution_count": 7,
     "metadata": {},
     "output_type": "execute_result"
    }
   ],
   "source": [
    "np.arange(3,13,1)"
   ]
  },
  {
   "cell_type": "code",
   "execution_count": 8,
   "metadata": {},
   "outputs": [
    {
     "data": {
      "text/plain": [
       "array([ 3,  5,  7,  9, 11])"
      ]
     },
     "execution_count": 8,
     "metadata": {},
     "output_type": "execute_result"
    }
   ],
   "source": [
    "np.arange(3,13,2)"
   ]
  },
  {
   "cell_type": "code",
   "execution_count": 14,
   "metadata": {},
   "outputs": [
    {
     "data": {
      "text/plain": [
       "array([ 0.,  1.,  2.,  3.,  4.])"
      ]
     },
     "execution_count": 14,
     "metadata": {},
     "output_type": "execute_result"
    }
   ],
   "source": [
    "np.arange(4.5)"
   ]
  },
  {
   "cell_type": "code",
   "execution_count": 17,
   "metadata": {},
   "outputs": [
    {
     "data": {
      "text/plain": [
       "array([ 1.4,  1.5,  1.6,  1.7,  1.8,  1.9,  2. ,  2.1,  2.2,  2.3,  2.4,\n",
       "        2.5,  2.6,  2.7,  2.8,  2.9,  3. ,  3.1,  3.2,  3.3,  3.4,  3.5,\n",
       "        3.6,  3.7,  3.8,  3.9,  4. ,  4.1,  4.2,  4.3,  4.4])"
      ]
     },
     "execution_count": 17,
     "metadata": {},
     "output_type": "execute_result"
    }
   ],
   "source": [
    "np.arange(1.4,4.4,0.1)"
   ]
  },
  {
   "cell_type": "markdown",
   "metadata": {},
   "source": [
    "From above example, results of numpy.arange() are not consistent with non-integer numbers. So for these cases _numpy.linspace_ is preferred."
   ]
  },
  {
   "cell_type": "markdown",
   "metadata": {},
   "source": [
    "## 2. numpy.linspace(start, stop, [num],endpoint=True, retstep=False)"
   ]
  },
  {
   "cell_type": "markdown",
   "metadata": {},
   "source": [
    "Returns a numpy array having __num__ evenly spaced samples, calculated over the interval __[start, stop]__.\n",
    "\n",
    "__num :__ (Optional) Number of samples to generate. Default is 50. Must be non-negative.\n",
    "\n",
    "If (Optional) __endpoint = True :__ stop is the last sample i.e., it will be included in the resulting series.\n",
    "\n",
    "   __endpoint = False :__ stop won't be the last sample i.e., it will be excluded from the resulting series.\n",
    "   \n",
    "   By default, endpoint is set as True.\n",
    "   \n",
    "__retstep__: (Optional) If True, return (samples, step), where step is the spacing between samples. By default, it's False.\n",
    "   \n",
    "   \n"
   ]
  },
  {
   "cell_type": "code",
   "execution_count": 19,
   "metadata": {},
   "outputs": [
    {
     "data": {
      "text/plain": [
       "array([ 5.        ,  5.06122449,  5.12244898,  5.18367347,  5.24489796,\n",
       "        5.30612245,  5.36734694,  5.42857143,  5.48979592,  5.55102041,\n",
       "        5.6122449 ,  5.67346939,  5.73469388,  5.79591837,  5.85714286,\n",
       "        5.91836735,  5.97959184,  6.04081633,  6.10204082,  6.16326531,\n",
       "        6.2244898 ,  6.28571429,  6.34693878,  6.40816327,  6.46938776,\n",
       "        6.53061224,  6.59183673,  6.65306122,  6.71428571,  6.7755102 ,\n",
       "        6.83673469,  6.89795918,  6.95918367,  7.02040816,  7.08163265,\n",
       "        7.14285714,  7.20408163,  7.26530612,  7.32653061,  7.3877551 ,\n",
       "        7.44897959,  7.51020408,  7.57142857,  7.63265306,  7.69387755,\n",
       "        7.75510204,  7.81632653,  7.87755102,  7.93877551,  8.        ])"
      ]
     },
     "execution_count": 19,
     "metadata": {},
     "output_type": "execute_result"
    }
   ],
   "source": [
    "# This command will result in a numpy array having 50 samples between 5 and 8. \n",
    "np.linspace(5,8)"
   ]
  },
  {
   "cell_type": "code",
   "execution_count": 20,
   "metadata": {},
   "outputs": [
    {
     "data": {
      "text/plain": [
       "array([ 2. ,  2.8,  3.6,  4.4,  5.2])"
      ]
     },
     "execution_count": 20,
     "metadata": {},
     "output_type": "execute_result"
    }
   ],
   "source": [
    "np.linspace(2.0, 6.0, num=5, endpoint=False)"
   ]
  },
  {
   "cell_type": "code",
   "execution_count": 21,
   "metadata": {},
   "outputs": [
    {
     "data": {
      "text/plain": [
       "array([ 2.,  3.,  4.,  5.,  6.])"
      ]
     },
     "execution_count": 21,
     "metadata": {},
     "output_type": "execute_result"
    }
   ],
   "source": [
    "np.linspace(2.0, 6.0, num=5, endpoint=True)"
   ]
  },
  {
   "cell_type": "code",
   "execution_count": 23,
   "metadata": {},
   "outputs": [
    {
     "data": {
      "text/plain": [
       "(array([ 2. ,  2.8,  3.6,  4.4,  5.2]), 0.80000000000000004)"
      ]
     },
     "execution_count": 23,
     "metadata": {},
     "output_type": "execute_result"
    }
   ],
   "source": [
    "np.linspace(2.0, 6.0, num=5, endpoint=False,retstep=True)"
   ]
  },
  {
   "cell_type": "markdown",
   "metadata": {},
   "source": [
    "Here the step size choosen by numpy is 0.8"
   ]
  }
 ],
 "metadata": {
  "kernelspec": {
   "display_name": "Python 3",
   "language": "python",
   "name": "python3"
  },
  "language_info": {
   "codemirror_mode": {
    "name": "ipython",
    "version": 3
   },
   "file_extension": ".py",
   "mimetype": "text/x-python",
   "name": "python",
   "nbconvert_exporter": "python",
   "pygments_lexer": "ipython3",
   "version": "3.6.3"
  }
 },
 "nbformat": 4,
 "nbformat_minor": 2
}
