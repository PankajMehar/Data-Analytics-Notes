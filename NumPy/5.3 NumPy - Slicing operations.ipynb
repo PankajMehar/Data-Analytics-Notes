{
 "cells": [
  {
   "cell_type": "markdown",
   "metadata": {},
   "source": [
    "# NumPy - Slicing operations"
   ]
  },
  {
   "cell_type": "code",
   "execution_count": 5,
   "metadata": {
    "collapsed": true
   },
   "outputs": [],
   "source": [
    "# Importing package\n",
    "import numpy as np"
   ]
  },
  {
   "cell_type": "markdown",
   "metadata": {},
   "source": [
    "Slicing operation in a numpy array is different from that in a python list.\n",
    "\n",
    "### Slicing a Python list"
   ]
  },
  {
   "cell_type": "code",
   "execution_count": 1,
   "metadata": {},
   "outputs": [
    {
     "name": "stdout",
     "output_type": "stream",
     "text": [
      "List a :  [1, 2, 3, 4, 5]\n"
     ]
    }
   ],
   "source": [
    "# Create a python list\n",
    "a = [1,2,3,4,5] \n",
    "print(\"List a : \",a)"
   ]
  },
  {
   "cell_type": "code",
   "execution_count": 2,
   "metadata": {},
   "outputs": [
    {
     "name": "stdout",
     "output_type": "stream",
     "text": [
      "slice of a :  [1, 2, 3]\n"
     ]
    }
   ],
   "source": [
    "# Taking a slice of the list a\n",
    "slice_of_a = a[0:3]  # Slice of a list results in a list\n",
    "print(\"slice of a : \",slice_of_a)"
   ]
  },
  {
   "cell_type": "code",
   "execution_count": 3,
   "metadata": {},
   "outputs": [
    {
     "name": "stdout",
     "output_type": "stream",
     "text": [
      "slice of a :  [999, 2, 3]\n",
      "List a :  [1, 2, 3, 4, 5]\n"
     ]
    }
   ],
   "source": [
    "# Changing a value of the slice obtained from list a\n",
    "slice_of_a[0] = 999    \n",
    "print(\"slice of a : \",slice_of_a)\n",
    "print(\"List a : \",a)"
   ]
  },
  {
   "cell_type": "markdown",
   "metadata": {},
   "source": [
    "So any change made on the slice of a i.e., __slice_of_a__ is not affected on the __list a__.\n",
    "\n",
    "## Slicing a Numpy array\n",
    "\n",
    "When a slice of a numpy array is taken it does not create a new numpy array but instead it creates a __view__ of the original array. Both these point to the original numpy array __m__. So if a view is modified the array's cooresponding positions'value is also modified.\n",
    "<img  src=\"view.PNG\">"
   ]
  },
  {
   "cell_type": "code",
   "execution_count": 6,
   "metadata": {},
   "outputs": [
    {
     "name": "stdout",
     "output_type": "stream",
     "text": [
      "Type of m is :  <class 'numpy.ndarray'>\n",
      "Numpy array m :  [10 20 30 40 50]\n"
     ]
    }
   ],
   "source": [
    "# Creating a numpy array m\n",
    "m = np.array([10,20,30,40,50])\n",
    "print(\"Type of m is : \",type(m))\n",
    "print(\"Numpy array m : \",m)"
   ]
  },
  {
   "cell_type": "code",
   "execution_count": 7,
   "metadata": {},
   "outputs": [
    {
     "name": "stdout",
     "output_type": "stream",
     "text": [
      "Type of Slice of numpy array m : <class 'numpy.ndarray'>\n",
      "Slice of numpy array m : [10 20 30]\n"
     ]
    }
   ],
   "source": [
    "# Taking a slice of the numpy array m\n",
    "slice_numpy_m = m[0:3]\n",
    "print(\"Type of Slice of numpy array m :\",type(slice_numpy_m))\n",
    "print(\"Slice of numpy array m :\",slice_numpy_m)"
   ]
  },
  {
   "cell_type": "code",
   "execution_count": 8,
   "metadata": {},
   "outputs": [
    {
     "name": "stdout",
     "output_type": "stream",
     "text": [
      "Slice of numpy array m : [9999   20   30]\n",
      "Numpy array m :  [9999   20   30   40   50]\n"
     ]
    }
   ],
   "source": [
    "# Changing a value of the slice obtained from numpy array m\n",
    "slice_numpy_m[0] = 9999\n",
    "print(\"Slice of numpy array m :\",slice_numpy_m)\n",
    "print(\"Numpy array m : \",m)"
   ]
  },
  {
   "cell_type": "markdown",
   "metadata": {},
   "source": [
    "So observe that value in the 0th index position of both slice/view and numpy array m has changed."
   ]
  },
  {
   "cell_type": "code",
   "execution_count": 9,
   "metadata": {},
   "outputs": [
    {
     "name": "stdout",
     "output_type": "stream",
     "text": [
      "Slice of numpy array m : [9999   20  555]\n",
      "Numpy array m :  [9999   20  555   40   50]\n"
     ]
    }
   ],
   "source": [
    "m[2] = 555\n",
    "print(\"Slice of numpy array m :\",slice_numpy_m)\n",
    "print(\"Numpy array m : \",m)"
   ]
  },
  {
   "cell_type": "markdown",
   "metadata": {},
   "source": [
    "So any change on either the view or m affects both. "
   ]
  }
 ],
 "metadata": {
  "kernelspec": {
   "display_name": "Python 3",
   "language": "python",
   "name": "python3"
  },
  "language_info": {
   "codemirror_mode": {
    "name": "ipython",
    "version": 3
   },
   "file_extension": ".py",
   "mimetype": "text/x-python",
   "name": "python",
   "nbconvert_exporter": "python",
   "pygments_lexer": "ipython3",
   "version": "3.6.3"
  }
 },
 "nbformat": 4,
 "nbformat_minor": 2
}
