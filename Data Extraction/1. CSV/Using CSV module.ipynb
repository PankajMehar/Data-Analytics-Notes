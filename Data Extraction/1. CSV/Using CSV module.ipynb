{
 "cells": [
  {
   "cell_type": "markdown",
   "metadata": {},
   "source": [
    "# Using CSV module"
   ]
  },
  {
   "cell_type": "code",
   "execution_count": 1,
   "metadata": {
    "collapsed": true
   },
   "outputs": [],
   "source": [
    "import csv\n",
    "import os\n",
    "import pprint"
   ]
  },
  {
   "cell_type": "code",
   "execution_count": 2,
   "metadata": {
    "collapsed": true
   },
   "outputs": [],
   "source": [
    "DATAFILE = \"beatles_diskography.csv\"\n",
    "DATADIR = \"\""
   ]
  },
  {
   "cell_type": "markdown",
   "metadata": {},
   "source": [
    "__CSV.DictReader()__\n",
    "\n",
    "* Reads all data into dictionary.\n",
    "* Assume 1st row of each file as a header row. And those are the names we want to use for fields.\n",
    "* Deals with characters having single quotes ('). Eg: Beatles'65\n",
    "* It deals well with fields having two values automatically. Eg:  \"Capitol(US), Parlophene(NZ)\"\n",
    "* As it reads in each rows it will create a dictionary for each row, the field names from 1st row and the corresponding values associated are assigned from each row."
   ]
  },
  {
   "cell_type": "code",
   "execution_count": 3,
   "metadata": {
    "collapsed": true
   },
   "outputs": [],
   "source": [
    "def parse_csv(datafile):\n",
    "    data = []      # Create an empty list\n",
    "    with open(datafile, \"r\") as sd:   # Open csv file in read mode and create file object sd\n",
    "        r = csv.DictReader(sd)   # file object sd is read using DictReader and assigned to r\n",
    "        for line in r:\n",
    "            data.append(line)    # So list data has dictionary as its elements\n",
    "    return(data)    "
   ]
  },
  {
   "cell_type": "markdown",
   "metadata": {},
   "source": [
    "__ os.path.join()__ to combine the required path with the filename"
   ]
  },
  {
   "cell_type": "code",
   "execution_count": 4,
   "metadata": {},
   "outputs": [
    {
     "name": "stdout",
     "output_type": "stream",
     "text": [
      "beatles_diskography.csv\n"
     ]
    }
   ],
   "source": [
    "# if __name__ == '__main__':\n",
    "datafile = os.path.join(DATADIR,DATAFILE)  \n",
    "print(datafile)"
   ]
  },
  {
   "cell_type": "code",
   "execution_count": 6,
   "metadata": {},
   "outputs": [
    {
     "name": "stdout",
     "output_type": "stream",
     "text": [
      "[OrderedDict([('Title', 'Please Please Me'),\n",
      "              ('Released', '22 March 1963'),\n",
      "              ('Label', 'Parlophone(UK)'),\n",
      "              ('UK Chart Position', '1'),\n",
      "              ('US Chart Position', '-'),\n",
      "              ('BPI Certification', 'Gold'),\n",
      "              ('RIAA Certification', 'Platinum')]),\n",
      " OrderedDict([('Title', 'With the Beatles'),\n",
      "              ('Released', '22 November 1963'),\n",
      "              ('Label', 'Parlophone(UK)'),\n",
      "              ('UK Chart Position', '1'),\n",
      "              ('US Chart Position', '-'),\n",
      "              ('BPI Certification', 'Platinum'),\n",
      "              ('RIAA Certification', 'Gold')])]\n"
     ]
    }
   ],
   "source": [
    "parse_csv(datafile)\n",
    "d = parse_csv(datafile)\n",
    "pprint.pprint(d[0:2])"
   ]
  },
  {
   "cell_type": "code",
   "execution_count": null,
   "metadata": {
    "collapsed": true
   },
   "outputs": [],
   "source": []
  }
 ],
 "metadata": {
  "kernelspec": {
   "display_name": "Python [default]",
   "language": "python",
   "name": "python3"
  },
  "language_info": {
   "codemirror_mode": {
    "name": "ipython",
    "version": 3
   },
   "file_extension": ".py",
   "mimetype": "text/x-python",
   "name": "python",
   "nbconvert_exporter": "python",
   "pygments_lexer": "ipython3",
   "version": "3.6.1"
  }
 },
 "nbformat": 4,
 "nbformat_minor": 2
}
