{
 "cells": [
  {
   "cell_type": "markdown",
   "metadata": {},
   "source": [
    "# Screen Scrapping Udacity"
   ]
  },
  {
   "cell_type": "markdown",
   "metadata": {},
   "source": [
    "Parsing HTML, using beautifulsoup(4) : BeautifulSoup gives us the ability to parse the HTML document tree. Its similar to parsing the element tree in the XML document."
   ]
  },
  {
   "cell_type": "code",
   "execution_count": 7,
   "metadata": {
    "collapsed": true
   },
   "outputs": [],
   "source": [
    "from bs4 import BeautifulSoup"
   ]
  },
  {
   "cell_type": "code",
   "execution_count": 8,
   "metadata": {
    "collapsed": true
   },
   "outputs": [],
   "source": [
    "# Imp: Refer the html code for the concerned page\n",
    "def options(soup,id):\n",
    "    option_values = []\n",
    "    carrier_list = soup.find(id=id)\n",
    "    for option in carrier_list.find_all('option'): # finds all  descendants which are option tags or option elements\n",
    "        option_values.append(option['value'])  # Hence build up a list of all dos values\n",
    "    return(option_values)\n",
    "\n",
    "def print_list(label,codes):\n",
    "    print(\"\\n \",label)\n",
    "    for c in codes:\n",
    "        print(c)"
   ]
  },
  {
   "cell_type": "code",
   "execution_count": 11,
   "metadata": {},
   "outputs": [],
   "source": [
    "#def main():\n",
    "soup = BeautifulSoup(open(\"virgin_and_logan_airport.html\"),'lxml') # This passes the top level element for the given html document.\n",
    "#print(soup)    \n",
    "codes = options(soup, 'CarrierList') # find the 1st descendant element in this document tree where id attribute for\n",
    "                                         #  this element is carrier list."
   ]
  },
  {
   "cell_type": "code",
   "execution_count": null,
   "metadata": {},
   "outputs": [],
   "source": [
    "print_list(\"Carriers\",codes)"
   ]
  },
  {
   "cell_type": "code",
   "execution_count": null,
   "metadata": {},
   "outputs": [],
   "source": [
    "codes = options(soup, 'AirportList')\n",
    "print_list(\"Airports\",codes)"
   ]
  },
  {
   "cell_type": "code",
   "execution_count": null,
   "metadata": {
    "collapsed": true
   },
   "outputs": [],
   "source": []
  }
 ],
 "metadata": {
  "kernelspec": {
   "display_name": "Python [default]",
   "language": "python",
   "name": "python3"
  },
  "language_info": {
   "codemirror_mode": {
    "name": "ipython",
    "version": 3
   },
   "file_extension": ".py",
   "mimetype": "text/x-python",
   "name": "python",
   "nbconvert_exporter": "python",
   "pygments_lexer": "ipython3",
   "version": "3.6.1"
  }
 },
 "nbformat": 4,
 "nbformat_minor": 2
}
