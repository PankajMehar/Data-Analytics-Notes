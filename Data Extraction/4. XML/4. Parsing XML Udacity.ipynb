{
 "cells": [
  {
   "cell_type": "markdown",
   "metadata": {},
   "source": [
    "# Parsing XML Udacity\n",
    "## Refer [Geek for Geeks : XML Parsing in python](http://www.geeksforgeeks.org/xml-parsing-python/)\n",
    "JSON maps are perfectly onto parsing dictionaries and arrays. Parsing XML is more complex."
   ]
  },
  {
   "cell_type": "markdown",
   "metadata": {},
   "source": [
    "## XML Tree Structure\n",
    "XML documents form a tree structure that starts at \"the root\" and branches to \"the leaves\".  \n",
    "<img src=\"XML Tree.PNG\">\n",
    "\n",
    "XML documents are formed as element trees.\n",
    "\n",
    "An XML tree starts at a root element and branches from the root to child elements. The terms parent, child, and sibling are used to describe the relationships between elements.\n",
    "\n",
    "Parent have children. Children have parents. Siblings are children on the same level (brothers and sisters).\n",
    "\n",
    "All elements can have text content (Harry Potter) and attributes (category=\"cooking\").\n",
    "\n",
    "All elements can have sub elements (child elements):\n",
    "<img src=\"xml2.PNG\">\n",
    "\n",
    "\n",
    "\n",
    "## XML uses a much self-describing syntax.\n",
    "\n",
    "\n",
    "<img src = \"xml3.PNG\">\n",
    "\n",
    "The XML prolog is optional. If it exists, it must come first in the document.\n",
    "\n",
    "XML documents can contain international characters, like Norwegian øæå or French êèé.\n",
    "\n",
    "To avoid errors, you should specify the encoding used, or save your XML files as UTF-8.\n",
    "\n",
    "<img src = \"xml4.PNG\">"
   ]
  },
  {
   "cell_type": "markdown",
   "metadata": {},
   "source": [
    "## Parsing XML into a document tree"
   ]
  },
  {
   "cell_type": "markdown",
   "metadata": {},
   "source": [
    "Here we are going to read entire XML tree into memory."
   ]
  },
  {
   "cell_type": "code",
   "execution_count": 1,
   "metadata": {
    "collapsed": true
   },
   "outputs": [],
   "source": [
    "import xml.etree.ElementTree as ET\n",
    "import pprint"
   ]
  },
  {
   "cell_type": "code",
   "execution_count": 2,
   "metadata": {
    "collapsed": true
   },
   "outputs": [],
   "source": [
    "# Using ET we can parse data in couple of different ways\n",
    "tree = ET.parse('exampleResearchArticle.xml') \n",
    "root = tree.getroot()  # from tree we are getting the root element"
   ]
  },
  {
   "cell_type": "code",
   "execution_count": 7,
   "metadata": {},
   "outputs": [
    {
     "data": {
      "text/plain": [
       "'art'"
      ]
     },
     "execution_count": 7,
     "metadata": {},
     "output_type": "execute_result"
    }
   ],
   "source": [
    "root.tag"
   ]
  },
  {
   "cell_type": "code",
   "execution_count": 8,
   "metadata": {},
   "outputs": [
    {
     "data": {
      "text/plain": [
       "{}"
      ]
     },
     "execution_count": 8,
     "metadata": {},
     "output_type": "execute_result"
    }
   ],
   "source": [
    "root.attrib"
   ]
  },
  {
   "cell_type": "code",
   "execution_count": 9,
   "metadata": {},
   "outputs": [
    {
     "data": {
      "text/plain": [
       "xml.etree.ElementTree.Element"
      ]
     },
     "execution_count": 9,
     "metadata": {},
     "output_type": "execute_result"
    }
   ],
   "source": [
    "type(root)"
   ]
  },
  {
   "cell_type": "code",
   "execution_count": 3,
   "metadata": {
    "scrolled": true
   },
   "outputs": [
    {
     "name": "stdout",
     "output_type": "stream",
     "text": [
      "\n",
      "Children of root\n",
      "ui\n",
      "ji\n",
      "fm\n",
      "bdy\n",
      "bm\n"
     ]
    }
   ],
   "source": [
    "# Here, iterating over children over root element\n",
    "print(\"\\nChildren of root\")\n",
    "for child in root:\n",
    "    print(child.tag)  # Use tag attribute to print out the tag attribute of each child element\n",
    "    "
   ]
  },
  {
   "cell_type": "code",
   "execution_count": 12,
   "metadata": {},
   "outputs": [
    {
     "name": "stdout",
     "output_type": "stream",
     "text": [
      "title\n",
      "aug\n",
      "insg\n",
      "source\n",
      "issn\n",
      "pubdate\n",
      "volume\n",
      "issue\n",
      "fpage\n",
      "url\n",
      "xrefbib\n"
     ]
    }
   ],
   "source": [
    "for child in root.findall('./fm/bibl/'):   # can be used to find the child elements of a root child\n",
    "    print(child.tag)"
   ]
  },
  {
   "cell_type": "markdown",
   "metadata": {},
   "source": [
    "### Trying to extract the title of the article.\n",
    "Its found in the bibligraphy section of front matter(fm).\n",
    "\n",
    "Element tree supports basic x-path expressions coz in data wrangling we are pulling most of the data out from the XML document.\n",
    "\n",
    "Here we are using an x-path expression __('./fm/bibl/title')__ to show where i expect to find a title expression. __'.'__ means start at current element and work your way down from fm/bibl/title.\n",
    "\n",
    "In this, file all text elements are wrapped in paragraph texts. With the title element got from the x-path expression, we will iterate over the children of title, and only take the text of the title using __ .text__ ."
   ]
  },
  {
   "cell_type": "code",
   "execution_count": 16,
   "metadata": {},
   "outputs": [
    {
     "data": {
      "text/plain": [
       "'Standardization of the functional syndesmosis widening by dynamic U.S examination'"
      ]
     },
     "execution_count": 16,
     "metadata": {},
     "output_type": "execute_result"
    }
   ],
   "source": [
    "title = root.find('./fm/bibl/title/p')\n",
    "p.text\n",
    "#title_text = \"\"\n",
    "#for p in title:\n",
    "#    title_text += p.text\n",
    "#print(\"\\nTitle : \\n\",title_text)"
   ]
  },
  {
   "cell_type": "code",
   "execution_count": 5,
   "metadata": {},
   "outputs": [
    {
     "name": "stdout",
     "output_type": "stream",
     "text": [
      "\n",
      "Author email addresses : \n",
      "omer@extremegate.com\n",
      "mcarmont@hotmail.com\n",
      "laver17@gmail.com\n",
      "nyska@internet-zahav.net\n",
      "kammarh@gmail.com\n",
      "gideon.mann.md@gmail.com\n",
      "barns.nz@gmail.com\n",
      "eukots@gmail.com\n"
     ]
    }
   ],
   "source": [
    "print(\"\\nAuthor email addresses : \")\n",
    "for a in root.findall('./fm/bibl/aug/au'): # Here, findall will return all elemnets which matches the x-path expression\n",
    "    email = a.find('email')\n",
    "    if email is not None:\n",
    "        print(email.text)"
   ]
  },
  {
   "cell_type": "markdown",
   "metadata": {
    "collapsed": true
   },
   "source": [
    "###  To extract data from xml on authors of an article. The data for each author will be stored in a python dictionary and all the dictionary must be stored in a list. (ignore insr tag)"
   ]
  },
  {
   "cell_type": "code",
   "execution_count": 6,
   "metadata": {},
   "outputs": [
    {
     "name": "stdout",
     "output_type": "stream",
     "text": [
      "[{'email': 'omer@extremegate.com',\n",
      "  'fnm': 'Omer',\n",
      "  'insr': ['I1'],\n",
      "  'snm': 'Mei-Dan'},\n",
      " {'email': 'mcarmont@hotmail.com',\n",
      "  'fnm': 'Mike',\n",
      "  'insr': ['I2'],\n",
      "  'snm': 'Carmont'},\n",
      " {'email': 'laver17@gmail.com',\n",
      "  'fnm': 'Lior',\n",
      "  'insr': ['I3', 'I4'],\n",
      "  'snm': 'Laver'},\n",
      " {'email': 'nyska@internet-zahav.net',\n",
      "  'fnm': 'Meir',\n",
      "  'insr': ['I3'],\n",
      "  'snm': 'Nyska'},\n",
      " {'email': 'kammarh@gmail.com',\n",
      "  'fnm': 'Hagay',\n",
      "  'insr': ['I8'],\n",
      "  'snm': 'Kammar'},\n",
      " {'email': 'gideon.mann.md@gmail.com',\n",
      "  'fnm': 'Gideon',\n",
      "  'insr': ['I3', 'I5'],\n",
      "  'snm': 'Mann'},\n",
      " {'email': 'barns.nz@gmail.com',\n",
      "  'fnm': 'Barnaby',\n",
      "  'insr': ['I6'],\n",
      "  'snm': 'Clarck'},\n",
      " {'email': 'eukots@gmail.com', 'fnm': 'Eugene', 'insr': ['I7'], 'snm': 'Kots'}]\n"
     ]
    }
   ],
   "source": [
    "authors = []\n",
    "for author in root.findall('./fm/bibl/aug/au'):\n",
    "        data = {\n",
    "                \"fnm\": None,\n",
    "                \"snm\": None,\n",
    "                \"email\": None,\n",
    "                \"insr\" : []\n",
    "        }\n",
    "        \n",
    "        data['snm'] = author.find('snm').text # since the names and email for authors are unique for each author, we use \"find\".\n",
    "        data['fnm'] = author.find('fnm').text  # The text method can be used to get the value of the tag.\n",
    "        data['email'] = author.find('email').text\n",
    "        insr = author.findall('./insr')  # since \"insr\" contains several values, we use \"findall\" and iterate the returned list.\n",
    "        for i in insr:\n",
    "            data[\"insr\"].append(i.attrib[\"iid\"]) # access attributes of a tag by method \"attrib\" and use attribute name \"iid\"\n",
    "        authors.append(data)\n",
    "\n",
    "\n",
    "\n",
    "pprint.pprint(authors)"
   ]
  },
  {
   "cell_type": "code",
   "execution_count": null,
   "metadata": {
    "collapsed": true
   },
   "outputs": [],
   "source": []
  }
 ],
 "metadata": {
  "kernelspec": {
   "display_name": "Python [default]",
   "language": "python",
   "name": "python3"
  },
  "language_info": {
   "codemirror_mode": {
    "name": "ipython",
    "version": 3
   },
   "file_extension": ".py",
   "mimetype": "text/x-python",
   "name": "python",
   "nbconvert_exporter": "python",
   "pygments_lexer": "ipython3",
   "version": "3.6.1"
  }
 },
 "nbformat": 4,
 "nbformat_minor": 2
}
