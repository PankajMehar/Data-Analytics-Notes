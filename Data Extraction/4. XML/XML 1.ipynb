{
 "cells": [
  {
   "cell_type": "markdown",
   "metadata": {},
   "source": [
    "# Introduction to XML"
   ]
  },
  {
   "cell_type": "markdown",
   "metadata": {},
   "source": [
    "XML is a software- and hardware-independent tool for storing and transporting data.\n",
    "\n",
    "* XML stands for eXtensible Markup Language\n",
    "* XML is a markup language much like HTML\n",
    "* XML was designed to store and transport data\n",
    "* XML was designed to be self-descriptive\n",
    "* XML is a W3C Recommendation"
   ]
  },
  {
   "cell_type": "markdown",
   "metadata": {},
   "source": [
    "## The Difference Between XML and HTML\n",
    "\n",
    "XML and HTML were designed with different goals:\n",
    "* XML was designed to carry data - with focus on what data is\n",
    "* HTML was designed to display data - with focus on how data looks\n",
    "* XML tags are not predefined like HTML tags are.\n",
    "\n",
    "HTML works with predefined tags. \n",
    "While with XML, the author must define both the tags and the document structure. \n",
    "\n",
    "Most XML applications will work as expected even if new data is added (or removed).\n"
   ]
  },
  {
   "cell_type": "markdown",
   "metadata": {},
   "source": [
    "## XML simplifies things\n",
    "* It simplifies data sharing.\n",
    "\n",
    "    * Many computer systems contain data in incompatible formats. Exchanging data between incompatible systems (or upgraded systems) is a time-consuming task for web developers. Large amounts of data must be converted, and incompatible data is often lost.\n",
    "\n",
    "* It simplifies data transport.\n",
    "\n",
    "    * XML stores data in plain text format. This provides a software- and hardware-independent way of storing, transporting, and sharing data.\n",
    "\n",
    "* It simplifies platform changes.\n",
    "\n",
    "    * XML also makes it easier to expand or upgrade to new operating systems, new applications, or new browsers, without losing data.\n",
    "\n",
    "* It simplifies data availability.\n",
    "\n",
    "    * With XML, data can be available to all kinds of \"reading machines\" like people, computers, voice machines, news feeds, etc.\n"
   ]
  },
  {
   "cell_type": "markdown",
   "metadata": {},
   "source": [
    "## XML Standard"
   ]
  },
  {
   "cell_type": "markdown",
   "metadata": {},
   "source": [
    "* Robust parsers in most languages : Hence, we can focus easily on our own application(data scientist).\n",
    "* It's free (i.e., format is not owned).\n"
   ]
  },
  {
   "cell_type": "markdown",
   "metadata": {},
   "source": [
    "## XML Design Principles\n",
    "\n",
    "* XML information can be manipulated programmatically. So we can built databases to support specific types of queries.\n",
    "* Or, we can piece together data from different sources or piece it apart to use it in different ways.\n",
    "* XML documents can be converted into other document types or programmes with no loss of information. (Eg: PDF, HTML, etc)\n",
    "* XML helps to seperate appearence from content. XML file contains document info all texts and data. So, formatting and other processing can be done in style sheet or processing system. "
   ]
  },
  {
   "cell_type": "markdown",
   "metadata": {},
   "source": [
    "XML was designed to work with nesting or tree like structure."
   ]
  }
 ],
 "metadata": {
  "kernelspec": {
   "display_name": "Python [default]",
   "language": "python",
   "name": "python3"
  },
  "language_info": {
   "codemirror_mode": {
    "name": "ipython",
    "version": 3
   },
   "file_extension": ".py",
   "mimetype": "text/x-python",
   "name": "python",
   "nbconvert_exporter": "python",
   "pygments_lexer": "ipython3",
   "version": "3.6.1"
  }
 },
 "nbformat": 4,
 "nbformat_minor": 2
}
