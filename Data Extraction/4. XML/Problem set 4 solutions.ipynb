{
 "cells": [
  {
   "cell_type": "code",
   "execution_count": 1,
   "metadata": {
    "collapsed": true
   },
   "outputs": [],
   "source": [
    "from bs4 import BeautifulSoup\n",
    "from pprint import pprint"
   ]
  },
  {
   "cell_type": "code",
   "execution_count": 2,
   "metadata": {},
   "outputs": [
    {
     "name": "stdout",
     "output_type": "stream",
     "text": [
      "<class 'bs4.BeautifulSoup'>\n"
     ]
    }
   ],
   "source": [
    "soup = BeautifulSoup(open(\"virgin_and_logan_airport.html\"),'lxml')   \n",
    "print(type(soup))"
   ]
  },
  {
   "cell_type": "markdown",
   "metadata": {},
   "source": [
    "## Q1. To print list of all carriers."
   ]
  },
  {
   "cell_type": "code",
   "execution_count": 3,
   "metadata": {},
   "outputs": [
    {
     "name": "stdout",
     "output_type": "stream",
     "text": [
      "<class 'bs4.element.Tag'>\n"
     ]
    },
    {
     "data": {
      "text/plain": [
       "<select class=\"slcBox\" id=\"CarrierList\" name=\"CarrierList\" style=\"width:450px;\">\n",
       "<option selected=\"selected\" value=\"All\">All U.S. and Foreign Carriers</option>\n",
       "<option value=\"AllUS\">All U.S. Carriers</option>\n",
       "<option value=\"AllForeign\">All Foreign Carriers</option>\n",
       "<option value=\"AS\">Alaska Airlines </option>\n",
       "<option value=\"G4\">Allegiant Air</option>\n",
       "<option value=\"AA\">American Airlines </option>\n",
       "<option value=\"5Y\">Atlas Air </option>\n",
       "<option value=\"DL\">Delta Air Lines </option>\n",
       "<option value=\"MQ\">Envoy Air</option>\n",
       "<option value=\"EV\">ExpressJet Airlines </option>\n",
       "<option value=\"F9\">Frontier Airlines </option>\n",
       "<option value=\"HA\">Hawaiian Airlines </option>\n",
       "<option value=\"B6\">JetBlue Airways</option>\n",
       "<option value=\"OO\">SkyWest Airlines </option>\n",
       "<option value=\"WN\">Southwest Airlines </option>\n",
       "<option value=\"NK\">Spirit Air Lines</option>\n",
       "<option value=\"UA\">United Air Lines </option>\n",
       "<option value=\"VX\">Virgin America</option>\n",
       "</select>"
      ]
     },
     "execution_count": 3,
     "metadata": {},
     "output_type": "execute_result"
    }
   ],
   "source": [
    "carrier_list = soup.find(id = \"CarrierList\")\n",
    "print(type(carrier_list))\n",
    "carrier_list"
   ]
  },
  {
   "cell_type": "code",
   "execution_count": 4,
   "metadata": {},
   "outputs": [
    {
     "name": "stdout",
     "output_type": "stream",
     "text": [
      "List of carriers :  ['AS', 'G4', 'AA', '5Y', 'DL', 'MQ', 'EV', 'F9', 'HA', 'B6', 'OO', 'WN', 'NK', 'UA', 'VX']\n",
      "Total number of carriers :  15\n"
     ]
    }
   ],
   "source": [
    "carrier_names = []\n",
    "for carriers in carrier_list.find_all('option'):\n",
    "    carrier_names.append(carriers['value'])\n",
    "    \n",
    "carrier_names = carrier_names[3:]\n",
    "print(\"List of carriers : \",carrier_names)\n",
    "print(\"Total number of carriers : \",len(carrier_names))"
   ]
  },
  {
   "cell_type": "markdown",
   "metadata": {},
   "source": [
    "## Q2. To print list of all airports."
   ]
  },
  {
   "cell_type": "code",
   "execution_count": 5,
   "metadata": {
    "collapsed": true
   },
   "outputs": [],
   "source": [
    "airport_list = soup.find(id=\"AirportList\")"
   ]
  },
  {
   "cell_type": "code",
   "execution_count": 6,
   "metadata": {},
   "outputs": [
    {
     "data": {
      "text/plain": [
       "<option selected=\"selected\" value=\"All\">All</option>"
      ]
     },
     "execution_count": 6,
     "metadata": {},
     "output_type": "execute_result"
    }
   ],
   "source": [
    "airport_list.find('option')  # If we use .find() only first value of option will be taken"
   ]
  },
  {
   "cell_type": "code",
   "execution_count": 7,
   "metadata": {},
   "outputs": [
    {
     "name": "stdout",
     "output_type": "stream",
     "text": [
      "Total number of airports :  1206\n"
     ]
    }
   ],
   "source": [
    "airport_names = []\n",
    "for airports in airport_list.find_all('option'):  # .find_all() will find and return all values of 'option'\n",
    "    if \"All\" not in airports['value']:\n",
    "        airport_names.append(airports['value'])\n",
    "\n",
    "#print(\"List of airports : \",airport_names)\n",
    "print(\"Total number of airports : \",len(airport_names))"
   ]
  },
  {
   "cell_type": "markdown",
   "metadata": {
    "collapsed": true
   },
   "source": [
    "# Q3. Processing all"
   ]
  },
  {
   "cell_type": "markdown",
   "metadata": {},
   "source": [
    "The table with flight info has a table __class=\"dataTDRight\"__. Extracts data from the file in a list of dictionaries. \n",
    "\n",
    "Example of the data structure you should\n",
    "    return:\n",
    "\n",
    "    data = [{\"courier\": \"FL\",\n",
    "             \"airport\": \"ATL\",\n",
    "             \"year\": 2012,\n",
    "             \"month\": 12,\n",
    "             \"flights\": {\"domestic\": 100,\n",
    "                         \"international\": 100}\n",
    "            },\n",
    "            {\"courier\": \"...\"}\n",
    "    ]\n",
    "\n",
    "\n",
    "    Note - year, month, and the flight data should be integers.\n",
    "    You should skip the rows that contain the TOTAL data for a year."
   ]
  },
  {
   "cell_type": "code",
   "execution_count": 27,
   "metadata": {
    "collapsed": true
   },
   "outputs": [],
   "source": [
    "\n",
    "    "
   ]
  },
  {
   "cell_type": "code",
   "execution_count": 28,
   "metadata": {
    "collapsed": true
   },
   "outputs": [],
   "source": [
    "data =[]"
   ]
  },
  {
   "cell_type": "code",
   "execution_count": 9,
   "metadata": {
    "collapsed": true
   },
   "outputs": [],
   "source": [
    "soup = BeautifulSoup(open(\"Question3.html\"),'lxml')"
   ]
  },
  {
   "cell_type": "code",
   "execution_count": 23,
   "metadata": {
    "collapsed": true
   },
   "outputs": [],
   "source": [
    "table = soup.find(id = \"DataGrid1\")"
   ]
  },
  {
   "cell_type": "code",
   "execution_count": 73,
   "metadata": {},
   "outputs": [],
   "source": [
    "#i = 0\n",
    "data = []\n",
    "for rows_data in table.find_all('tr'):\n",
    "        info = {\n",
    "        \n",
    "        \"courier\" : \"\",\n",
    "        \"airport\" : \"\",\n",
    "        \"year\"    : 0,\n",
    "        \"month\"   : 0,\n",
    "        \"flights\" : { \"domestics\" : 0 , \"international\" : 0 }    \n",
    "        }\n",
    "        \n",
    "        #print(rows_data)\n",
    "        td_list = []\n",
    "        for req_data in rows_data.find_all('td'):\n",
    "            #print(req_data.text)\n",
    "            td_list.append(req_data.text)\n",
    "            \n",
    "            \n",
    "            \n",
    "            #print(req_data.text)\n",
    "            #td_list.append(int(req_data.text))\n",
    "            #print(td_list)\n",
    "            \n",
    "            #info[\"year\"] = int(req_data.text)\n",
    "            #info[\"month\"] = int(req_data.text)\n",
    "            #\n",
    "            #info[\"flights\"][\"international\"] = int(req_data.text)\n",
    "            #print(req_data.text)\n",
    "            #print(type(req_data.text))\n",
    "            #print(info)\n",
    "        #i+=1\n",
    "        if td_list[1] == 'Month' or td_list[1] == 'TOTAL':\n",
    "            continue\n",
    "        #print(td_list)\n",
    "        info[\"year\"] = int(td_list[0])\n",
    "        info[\"month\"] = int(td_list[1])\n",
    "        info[\"flights\"][\"domestics\"] = int(td_list[2].replace(',',''))\n",
    "        info[\"flights\"][\"international\"] = int(td_list[3].replace(',',''))\n",
    "        #print(info)\n",
    "        #print('\\n')\n",
    "        data.append(info)\n",
    "        \n",
    "        \n",
    "       # if i>=5:\n",
    "       #     break\n",
    "            \n",
    "   \n",
    "       \n",
    "    "
   ]
  },
  {
   "cell_type": "code",
   "execution_count": 75,
   "metadata": {},
   "outputs": [
    {
     "data": {
      "text/plain": [
       "15"
      ]
     },
     "execution_count": 75,
     "metadata": {},
     "output_type": "execute_result"
    }
   ],
   "source": [
    "len(data)"
   ]
  },
  {
   "cell_type": "code",
   "execution_count": 74,
   "metadata": {},
   "outputs": [
    {
     "data": {
      "text/plain": [
       "''"
      ]
     },
     "execution_count": 74,
     "metadata": {},
     "output_type": "execute_result"
    }
   ],
   "source": [
    "data[0][\"courier\"]"
   ]
  },
  {
   "cell_type": "code",
   "execution_count": null,
   "metadata": {
    "collapsed": true
   },
   "outputs": [],
   "source": []
  },
  {
   "cell_type": "code",
   "execution_count": 68,
   "metadata": {},
   "outputs": [
    {
     "data": {
      "text/plain": [
       "'92565'"
      ]
     },
     "execution_count": 68,
     "metadata": {},
     "output_type": "execute_result"
    }
   ],
   "source": [
    "k = '92,565'\n",
    "k = k.replace(',','')\n",
    "k"
   ]
  },
  {
   "cell_type": "code",
   "execution_count": 69,
   "metadata": {},
   "outputs": [
    {
     "data": {
      "text/plain": [
       "92565"
      ]
     },
     "execution_count": 69,
     "metadata": {},
     "output_type": "execute_result"
    }
   ],
   "source": [
    "j = int(k)\n",
    "j"
   ]
  },
  {
   "cell_type": "code",
   "execution_count": null,
   "metadata": {
    "collapsed": true
   },
   "outputs": [],
   "source": []
  }
 ],
 "metadata": {
  "kernelspec": {
   "display_name": "Python [default]",
   "language": "python",
   "name": "python3"
  },
  "language_info": {
   "codemirror_mode": {
    "name": "ipython",
    "version": 3
   },
   "file_extension": ".py",
   "mimetype": "text/x-python",
   "name": "python",
   "nbconvert_exporter": "python",
   "pygments_lexer": "ipython3",
   "version": "3.6.1"
  }
 },
 "nbformat": 4,
 "nbformat_minor": 2
}
