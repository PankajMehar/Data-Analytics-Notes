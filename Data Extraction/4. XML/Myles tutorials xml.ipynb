{
 "cells": [
  {
   "cell_type": "code",
   "execution_count": 1,
   "metadata": {
    "collapsed": true
   },
   "outputs": [],
   "source": [
    "import xml.etree.ElementTree as ET"
   ]
  },
  {
   "cell_type": "code",
   "execution_count": 2,
   "metadata": {
    "collapsed": true
   },
   "outputs": [],
   "source": [
    "filename = \"myles_tutorials.xml\""
   ]
  },
  {
   "cell_type": "code",
   "execution_count": 5,
   "metadata": {},
   "outputs": [
    {
     "name": "stdout",
     "output_type": "stream",
     "text": [
      "Tree of the XML filename is :  <xml.etree.ElementTree.ElementTree object at 0x000000B3DCC73940>\n",
      "Root of the XML file is :  <Element 'myles_tutorials' at 0x000000B3DBAE8868>\n"
     ]
    }
   ],
   "source": [
    "tree = ET.parse(filename) \n",
    "root = tree.getroot()  # from tree we get the root element\n",
    "print(\"Tree of the XML filename is : \",tree)\n",
    "print(\"Root of the XML file is : \",root)"
   ]
  },
  {
   "cell_type": "code",
   "execution_count": 6,
   "metadata": {},
   "outputs": [
    {
     "data": {
      "text/plain": [
       "'myles_tutorials'"
      ]
     },
     "execution_count": 6,
     "metadata": {},
     "output_type": "execute_result"
    }
   ],
   "source": [
    "root.tag"
   ]
  },
  {
   "cell_type": "code",
   "execution_count": 7,
   "metadata": {},
   "outputs": [
    {
     "data": {
      "text/plain": [
       "{}"
      ]
     },
     "execution_count": 7,
     "metadata": {},
     "output_type": "execute_result"
    }
   ],
   "source": [
    "root.attrib"
   ]
  },
  {
   "cell_type": "markdown",
   "metadata": {},
   "source": [
    "## Use of ET.iterparse() and event "
   ]
  },
  {
   "cell_type": "code",
   "execution_count": 17,
   "metadata": {},
   "outputs": [
    {
     "name": "stdout",
     "output_type": "stream",
     "text": [
      "tag tag tag tag tag tag tag tag node node nd nd nd nd nd nd nd nd nd nd nd nd nd nd nd nd nd nd nd nd nd nd nd nd nd nd nd nd nd nd nd nd nd nd tag tag tag tag tag tag tag tag tag tag tag tag tag tag tag tag tag tag tag way myles_tutorials "
     ]
    }
   ],
   "source": [
    "for event,element in ET.iterparse(filename):\n",
    "    #print(\"\\n\")\n",
    "    print(element.tag, end = \" \")\n",
    "    #print(element.attrib)"
   ]
  },
  {
   "cell_type": "code",
   "execution_count": 26,
   "metadata": {},
   "outputs": [
    {
     "name": "stdout",
     "output_type": "stream",
     "text": [
      "myles_tutorials node tag tag tag tag tag tag tag tag node way nd nd nd nd nd nd nd nd nd nd nd nd nd nd nd nd nd nd nd nd nd nd nd nd nd nd nd nd nd nd nd nd nd nd tag tag tag tag tag tag tag tag tag tag tag tag tag tag tag tag tag tag tag "
     ]
    }
   ],
   "source": [
    "for event, element in ET.iterparse(filename, (\"start\",\"end\")):\n",
    "    #print(\"START :\\n\")\n",
    "    if event == \"start\":\n",
    "        print(element.tag, end = \" \")\n",
    "    #print(element.attrib)"
   ]
  },
  {
   "cell_type": "code",
   "execution_count": 27,
   "metadata": {},
   "outputs": [
    {
     "name": "stdout",
     "output_type": "stream",
     "text": [
      "tag tag tag tag tag tag tag tag node node nd nd nd nd nd nd nd nd nd nd nd nd nd nd nd nd nd nd nd nd nd nd nd nd nd nd nd nd nd nd nd nd nd nd tag tag tag tag tag tag tag tag tag tag tag tag tag tag tag tag tag tag tag way myles_tutorials "
     ]
    }
   ],
   "source": [
    "for event, element in ET.iterparse(filename, (\"start\",\"end\")):\n",
    "    #print(\"START :\\n\")\n",
    "    if event == \"end\":\n",
    "        print(element.tag, end = \" \")\n",
    "    #print(element.attrib)"
   ]
  },
  {
   "cell_type": "code",
   "execution_count": null,
   "metadata": {
    "collapsed": true
   },
   "outputs": [],
   "source": []
  }
 ],
 "metadata": {
  "kernelspec": {
   "display_name": "Python [default]",
   "language": "python",
   "name": "python3"
  },
  "language_info": {
   "codemirror_mode": {
    "name": "ipython",
    "version": 3
   },
   "file_extension": ".py",
   "mimetype": "text/x-python",
   "name": "python",
   "nbconvert_exporter": "python",
   "pygments_lexer": "ipython3",
   "version": "3.6.1"
  }
 },
 "nbformat": 4,
 "nbformat_minor": 2
}
