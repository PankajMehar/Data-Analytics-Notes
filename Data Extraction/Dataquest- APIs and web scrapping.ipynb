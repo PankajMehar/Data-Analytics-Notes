{
 "cells": [
  {
   "cell_type": "markdown",
   "metadata": {},
   "source": [
    "# Dataquest- APIs and web scrapping"
   ]
  },
  {
   "cell_type": "code",
   "execution_count": 8,
   "metadata": {
    "collapsed": true
   },
   "outputs": [],
   "source": [
    "import requests\n",
    "from pprint import pprint"
   ]
  },
  {
   "cell_type": "code",
   "execution_count": 3,
   "metadata": {},
   "outputs": [
    {
     "data": {
      "text/plain": [
       "200"
      ]
     },
     "execution_count": 3,
     "metadata": {},
     "output_type": "execute_result"
    }
   ],
   "source": [
    "response = requests.get(\"http://api.open-notify.org/iss-now.json\")\n",
    "status_code = response.status_code\n",
    "status_code"
   ]
  },
  {
   "cell_type": "markdown",
   "metadata": {},
   "source": [
    "The server will send a __status code__ indicating the success or failure of your request. You can get the status code of the response from response.status_code.\n",
    "\n",
    "The request we just made returned a status code of 200. Web servers return status codes every time they receive an API request. A status code provides information about what happened with a request. Here are some codes that are relevant to GET requests:\n",
    "\n",
    "* 200 - Everything went okay, and the server returned a result (if any).\n",
    "* 301 - The server is redirecting you to a different endpoint. This can happen when a company switches domain names, or an endpoint's name has changed.\n",
    "* 401 - The server thinks you're not authenticated. This happens when you don't send the right credentials to access an API \n",
    "* 400 - The server thinks you made a bad request. This can happen when you don't send the information the API requires to process your request, among other things.\n",
    "* 403 - The resource you're trying to access is forbidden; you don't have the right permissions to see it.\n",
    "* 404 - The server didn't find the resource you tried to access."
   ]
  },
  {
   "cell_type": "code",
   "execution_count": 9,
   "metadata": {},
   "outputs": [
    {
     "name": "stdout",
     "output_type": "stream",
     "text": [
      "(b'{\\n  \"message\": \"success\", \\n  \"request\": {\\n    \"altitude\": 100, \\n    \"dat'\n",
      " b'etime\": 1502760212, \\n    \"latitude\": 37.78, \\n    \"longitude\": -122.41, \\n'\n",
      " b'    \"passes\": 5\\n  }, \\n  \"response\": [\\n    {\\n      \"duration\": 607, \\n'\n",
      " b'      \"risetime\": 1502762253\\n    }, \\n    {\\n      \"duration\": 616, \\n     '\n",
      " b' \"risetime\": 1502768039\\n    }, \\n    {\\n      \"duration\": 84, \\n      \"rise'\n",
      " b'time\": 1502774043\\n    }, \\n    {\\n      \"duration\": 571, \\n      \"risetime\"'\n",
      " b': 1502822197\\n    }, \\n    {\\n      \"duration\": 632, \\n      \"risetime\": 150'\n",
      " b'2827940\\n    }\\n  ]\\n}\\n')\n"
     ]
    }
   ],
   "source": [
    "# (the coordinates of San Francisco)\n",
    "parameters = {\"lat\": 37.78, \"lon\": -122.41}\n",
    "\n",
    "# Make a get request with the parameters.\n",
    "response = requests.get(\"http://api.open-notify.org/iss-pass.json\", params=parameters)\n",
    "\n",
    "# Print the content of the response (the data the server returned)\n",
    "pprint(response.content)"
   ]
  },
  {
   "cell_type": "markdown",
   "metadata": {},
   "source": [
    "You may have noticed that the content of the API response we received earlier was a string. Strings are the way we pass information back and forth through APIs, but it's hard to get the information we want out of them. How do we know how to decode the string we receive and work with it in Python?\n",
    "\n",
    "Luckily, there's a format we call JSON. We mentioned it earlier in the mission. This format encodes data structures like lists and dictionaries as strings to ensure that machines can read them easily. JSON is the primary format for sending and receiving data through APIs.\n",
    "\n",
    "Python offers great support for JSON through its json library. We can convert lists and dictionaries to JSON, and vice versa.\n",
    "\n",
    "The JSON library has two main methods:\n",
    "\n",
    "* dumps -- Takes in a Python object, and converts it to a string\n",
    "* loads -- Takes a JSON string, and converts it to a Python object"
   ]
  },
  {
   "cell_type": "code",
   "execution_count": 10,
   "metadata": {},
   "outputs": [
    {
     "name": "stdout",
     "output_type": "stream",
     "text": [
      "<class 'list'>\n",
      "<class 'str'>\n",
      "<class 'list'>\n",
      "<class 'str'>\n",
      "<class 'dict'>\n"
     ]
    }
   ],
   "source": [
    "# Make a list of fast food chains.\n",
    "best_food_chains = [\"Taco Bell\", \"Shake Shack\", \"Chipotle\"]\n",
    "print(type(best_food_chains))\n",
    "\n",
    "# Import the JSON library.\n",
    "import json\n",
    "\n",
    "# Use json.dumps to convert best_food_chains to a string.\n",
    "best_food_chains_string = json.dumps(best_food_chains)\n",
    "print(type(best_food_chains_string))\n",
    "\n",
    "# Convert best_food_chains_string back to a list.\n",
    "print(type(json.loads(best_food_chains_string)))\n",
    "\n",
    "# Make a dictionary\n",
    "fast_food_franchise = {\n",
    "    \"Subway\": 24722,\n",
    "    \"McDonalds\": 14098,\n",
    "    \"Starbucks\": 10821,\n",
    "    \"Pizza Hut\": 7600\n",
    "}\n",
    "\n",
    "# We can also dump a dictionary to a string and load it.\n",
    "fast_food_franchise_string = json.dumps(fast_food_franchise)\n",
    "print(type(fast_food_franchise_string))\n",
    "\n",
    "fast_food_franchise_2 = json.loads(fast_food_franchise_string)\n",
    "print(type(fast_food_franchise_2))"
   ]
  },
  {
   "cell_type": "markdown",
   "metadata": {},
   "source": [
    "We can get the content of a response as a Python object by using the .json() method on the response."
   ]
  },
  {
   "cell_type": "code",
   "execution_count": 14,
   "metadata": {},
   "outputs": [
    {
     "name": "stdout",
     "output_type": "stream",
     "text": [
      "<class 'dict'>\n",
      "{'message': 'success',\n",
      " 'request': {'altitude': 100,\n",
      "             'datetime': 1502760212,\n",
      "             'latitude': 37.78,\n",
      "             'longitude': -122.41,\n",
      "             'passes': 5},\n",
      " 'response': [{'duration': 607, 'risetime': 1502762253},\n",
      "              {'duration': 616, 'risetime': 1502768039},\n",
      "              {'duration': 84, 'risetime': 1502774043},\n",
      "              {'duration': 571, 'risetime': 1502822197},\n",
      "              {'duration': 632, 'risetime': 1502827940}]}\n",
      "\n",
      " The duration value of the ISS' first pass over San Francisco :  607\n"
     ]
    }
   ],
   "source": [
    "# Make the same request we did two screens ago.\n",
    "parameters = {\"lat\": 37.78, \"lon\": -122.41}\n",
    "response = requests.get(\"http://api.open-notify.org/iss-pass.json\", params=parameters)\n",
    "\n",
    "# Get the response data as a Python object.  Verify that it's a dictionary.\n",
    "json_data = response.json()\n",
    "print(type(json_data))\n",
    "pprint(json_data)\n",
    "\n",
    "# Get the duration value of the ISS' first pass over San Francisco\n",
    "# (this is the duration key of the first dictionary in the response list).\n",
    "\n",
    "first_pass_duration = json_data[\"response\"][0][\"duration\"]\n",
    "print(\"\\n The duration value of the ISS' first pass over San Francisco : \",first_pass_duration)"
   ]
  },
  {
   "cell_type": "markdown",
   "metadata": {},
   "source": [
    "The server sends more than a status code and the data when it generates a response. It also sends __metadata containing information on how it generated the data and how to decode it. This information appears in the response headers__. We can access it using the .headers property that responses have.\n",
    "\n",
    "The headers will appear as a dictionary. For now, the content-type within the headers is the most important key. It tells us the format of the response, and how to decode it. For the OpenNotify API, the format is JSON, which is why we could decode it with JSON earlier"
   ]
  },
  {
   "cell_type": "code",
   "execution_count": 16,
   "metadata": {},
   "outputs": [
    {
     "name": "stdout",
     "output_type": "stream",
     "text": [
      "{'Server': 'nginx/1.10.3', 'Date': 'Tue, 15 Aug 2017 01:36:07 GMT', 'Content-Type': 'application/json', 'Content-Length': '520', 'Connection': 'keep-alive', 'Via': '1.1 vegur'}\n"
     ]
    }
   ],
   "source": [
    "# Headers is a dictionary\n",
    "pprint(response.headers)"
   ]
  },
  {
   "cell_type": "code",
   "execution_count": null,
   "metadata": {
    "collapsed": true
   },
   "outputs": [],
   "source": []
  }
 ],
 "metadata": {
  "kernelspec": {
   "display_name": "Python [default]",
   "language": "python",
   "name": "python3"
  },
  "language_info": {
   "codemirror_mode": {
    "name": "ipython",
    "version": 3
   },
   "file_extension": ".py",
   "mimetype": "text/x-python",
   "name": "python",
   "nbconvert_exporter": "python",
   "pygments_lexer": "ipython3",
   "version": "3.6.1"
  }
 },
 "nbformat": 4,
 "nbformat_minor": 2
}
