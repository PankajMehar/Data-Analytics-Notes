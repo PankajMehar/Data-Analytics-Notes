{
 "cells": [
  {
   "cell_type": "code",
   "execution_count": 2,
   "metadata": {
    "collapsed": true
   },
   "outputs": [],
   "source": [
    "import json\n",
    "import requests\n",
    "from pprint import pprint"
   ]
  },
  {
   "cell_type": "code",
   "execution_count": 3,
   "metadata": {},
   "outputs": [
    {
     "data": {
      "text/plain": [
       "'http://musicbrainz.org/ws/2/artist/'"
      ]
     },
     "execution_count": 3,
     "metadata": {},
     "output_type": "execute_result"
    }
   ],
   "source": [
    "BASE_URL = \"http://musicbrainz.org/ws/2/\"\n",
    "ARTIST_URL = BASE_URL + \"artist/\"\n",
    "ARTIST_URL"
   ]
  },
  {
   "cell_type": "code",
   "execution_count": 4,
   "metadata": {
    "collapsed": true
   },
   "outputs": [],
   "source": [
    "# query parameters are given to the requests.get function as a dictionary; this\n",
    "# variable contains some starter parameters.\n",
    "# query_type = {  \"simple\": {},\n",
    "#                \"atr\": {\"inc\": \"aliases+tags+ratings\"},\n",
    "#                \"aliases\": {\"inc\": \"aliases\"},\n",
    "#                \"releases\": {\"inc\": \"releases\"}}"
   ]
  },
  {
   "cell_type": "code",
   "execution_count": 28,
   "metadata": {},
   "outputs": [
    {
     "data": {
      "text/plain": [
       "{'fmt': 'json', 'query': 'artist:Nirvana'}"
      ]
     },
     "execution_count": 28,
     "metadata": {},
     "output_type": "execute_result"
    }
   ],
   "source": [
    "name = \"Nirvana\"\n",
    "PARAMS = {}\n",
    "PARAMS = {\"query\": \"artist:\"+name, \"fmt\":\"json\"}\n",
    "PARAMS"
   ]
  },
  {
   "cell_type": "code",
   "execution_count": 31,
   "metadata": {},
   "outputs": [
    {
     "data": {
      "text/plain": [
       "'http://musicbrainz.org/ws/2/artist/?query=artist%3ANirvana&fmt=json'"
      ]
     },
     "execution_count": 31,
     "metadata": {},
     "output_type": "execute_result"
    }
   ],
   "source": [
    "# Remember url is the query by which we specify our query to a webservice\n",
    "r = requests.get(ARTIST_URL,params=PARAMS)\n",
    "r.url"
   ]
  },
  {
   "cell_type": "code",
   "execution_count": 30,
   "metadata": {},
   "outputs": [
    {
     "name": "stdout",
     "output_type": "stream",
     "text": [
      "{   'artists': [   {   'aliases': [   {   'begin-date': None,\n",
      "                                          'end-date': None,\n",
      "                                          'locale': None,\n",
      "                                          'name': 'Nirvana US',\n",
      "                                          'primary': None,\n",
      "                                          'sort-name': 'Nirvana US',\n",
      "                                          'type': None}],\n",
      "                       'area': {   'id': '489ce91b-6658-3307-9877-795b68554c98',\n",
      "                                   'name': 'United States',\n",
      "                                   'sort-name': 'United States'},\n",
      "                       'begin-area': {   'id': 'a640b45c-c173-49b1-8030-973603e895b5',\n",
      "                                         'name': 'Aberdeen',\n",
      "                                         'sort-name': 'Aberdeen'},\n",
      "                       'country': 'US',\n",
      "                       'disambiguation': '90s US grunge band',\n",
      "                       'id': '5b11f4ce-a62d-471e-81fc-a69a8278c7da',\n",
      "                       'life-span': {   'begin': '1988-01',\n",
      "                                        'end': '1994-04-05',\n",
      "                                        'ended': True},\n",
      "                       'name': 'Nirvana',\n",
      "                       'score': '100',\n",
      "                       'sort-name': 'Nirvana',\n",
      "                       'tags': [   {'count': 9, 'name': 'rock'},\n",
      "                                   {'count': 4, 'name': 'alternative rock'},\n",
      "                                   {'count': 1, 'name': '90s'},\n",
      "                                   {'count': 1, 'name': 'punk'},\n",
      "                                   {'count': 5, 'name': 'american'},\n",
      "                                   {'count': 1, 'name': 'seattle'},\n",
      "                                   {'count': 14, 'name': 'grunge'},\n",
      "                                   {'count': 0, 'name': 'band'},\n",
      "                                   {'count': 1, 'name': 'usa'},\n",
      "                                   {'count': 0, 'name': 'alternative'},\n",
      "                                   {'count': 0, 'name': 'américain'},\n",
      "                                   {'count': 0, 'name': 'legendary'},\n",
      "                                   {'count': 1, 'name': 'acoustic rock'},\n",
      "                                   {'count': 1, 'name': 'noise rock'},\n",
      "                                   {'count': 0, 'name': '90'},\n",
      "                                   {'count': 0, 'name': 'northwest'},\n",
      "                                   {'count': 0, 'name': 'rock and indie'},\n",
      "                                   {'count': 0, 'name': 'united states'},\n",
      "                                   {'count': 0, 'name': 'nirvana'},\n",
      "                                   {'count': 0, 'name': 'kurt cobain'}],\n",
      "                       'type': 'Group'},\n",
      "                   {   'area': {   'id': '8a754a16-0027-3a29-b6d7-2b40ea0481ed',\n",
      "                                   'name': 'United Kingdom',\n",
      "                                   'sort-name': 'United Kingdom'},\n",
      "                       'begin-area': {   'id': 'f03d09b3-39dc-4083-afd6-159e3f0d462f',\n",
      "                                         'name': 'London',\n",
      "                                         'sort-name': 'London'},\n",
      "                       'country': 'GB',\n",
      "                       'disambiguation': '60s band from the UK',\n",
      "                       'id': '9282c8b4-ca0b-4c6b-b7e3-4f7762dfc4d6',\n",
      "                       'life-span': {'begin': '1967', 'ended': None},\n",
      "                       'name': 'Nirvana',\n",
      "                       'score': '100',\n",
      "                       'sort-name': 'Nirvana',\n",
      "                       'tags': [   {'count': 1, 'name': 'rock'},\n",
      "                                   {'count': 1, 'name': 'pop'},\n",
      "                                   {'count': 1, 'name': 'progressive rock'},\n",
      "                                   {'count': 1, 'name': 'orchestral'},\n",
      "                                   {'count': 1, 'name': 'british'},\n",
      "                                   {'count': 1, 'name': 'power pop'},\n",
      "                                   {'count': 1, 'name': 'psychedelic rock'},\n",
      "                                   {'count': 1, 'name': 'soft rock'},\n",
      "                                   {'count': 1, 'name': 'symphonic rock'},\n",
      "                                   {'count': 1, 'name': 'english'}],\n",
      "                       'type': 'Group'},\n",
      "                   {   'area': {   'id': '6a264f94-6ff1-30b1-9a81-41f7bfabd616',\n",
      "                                   'name': 'Finland',\n",
      "                                   'sort-name': 'Finland'},\n",
      "                       'country': 'FI',\n",
      "                       'disambiguation': \"Early 1980's Finnish punk band\",\n",
      "                       'id': '85af0709-95db-4fbc-801a-120e9f4766d0',\n",
      "                       'life-span': {'ended': None},\n",
      "                       'name': 'Nirvana',\n",
      "                       'score': '100',\n",
      "                       'sort-name': 'Nirvana',\n",
      "                       'tags': [   {'count': 1, 'name': 'punk'},\n",
      "                                   {'count': 1, 'name': 'finland'}],\n",
      "                       'type': 'Group'},\n",
      "                   {   'disambiguation': 'founded in 1987 by a Michael Jackson '\n",
      "                                         'double/imitator',\n",
      "                       'id': '3aa878c0-224b-41e5-abd1-63be359d2bca',\n",
      "                       'life-span': {'begin': '1987', 'ended': None},\n",
      "                       'name': 'Nirvana',\n",
      "                       'score': '100',\n",
      "                       'sort-name': 'Nirvana'},\n",
      "                   {   'disambiguation': 'French band from Martigues, activ '\n",
      "                                         'during the 70s.',\n",
      "                       'id': 'c49d69dc-e008-47cf-b5ff-160fafb1fe1f',\n",
      "                       'life-span': {'ended': None},\n",
      "                       'name': 'Nirvana',\n",
      "                       'score': '100',\n",
      "                       'sort-name': 'Nirvana'},\n",
      "                   {   'area': {   'id': '489ce91b-6658-3307-9877-795b68554c98',\n",
      "                                   'name': 'United States',\n",
      "                                   'sort-name': 'United States'},\n",
      "                       'country': 'US',\n",
      "                       'id': 'c3a64a25-251b-4d03-afba-1471440245b8',\n",
      "                       'life-span': {'begin': '2009', 'ended': None},\n",
      "                       'name': 'Approaching Nirvana',\n",
      "                       'score': '62',\n",
      "                       'sort-name': 'Approaching Nirvana',\n",
      "                       'type': 'Group'},\n",
      "                   {   'aliases': [   {   'begin-date': None,\n",
      "                                          'end-date': None,\n",
      "                                          'locale': None,\n",
      "                                          'name': 'Nirvana',\n",
      "                                          'primary': None,\n",
      "                                          'sort-name': 'Nirvana',\n",
      "                                          'type': None},\n",
      "                                      {   'begin-date': None,\n",
      "                                          'end-date': None,\n",
      "                                          'locale': None,\n",
      "                                          'name': 'Prophet 2002',\n",
      "                                          'primary': None,\n",
      "                                          'sort-name': 'Prophet 2002',\n",
      "                                          'type': None}],\n",
      "                       'area': {   'id': '23d10872-f5ae-3f0c-bf55-332788a16ecb',\n",
      "                                   'name': 'Sweden',\n",
      "                                   'sort-name': 'Sweden'},\n",
      "                       'country': 'SE',\n",
      "                       'disambiguation': 'Swedish death metal band',\n",
      "                       'id': 'f2dfdff9-3862-4be0-bf85-9c833fa3059e',\n",
      "                       'life-span': {'begin': '1988', 'ended': None},\n",
      "                       'name': 'Nirvana 2002',\n",
      "                       'score': '62',\n",
      "                       'sort-name': 'Nirvana 2002',\n",
      "                       'type': 'Group'},\n",
      "                   {   'id': '329c04ae-3b73-4ca3-996f-75608ab1befb',\n",
      "                       'life-span': {'ended': None},\n",
      "                       'name': 'Nirvana Singh',\n",
      "                       'score': '62',\n",
      "                       'sort-name': 'Singh, Nirvana',\n",
      "                       'type': 'Person'},\n",
      "                   {   'id': 'b305320e-c158-43f4-b5be-4450e2f99a32',\n",
      "                       'life-span': {'ended': None},\n",
      "                       'name': 'El Nirvana',\n",
      "                       'score': '62',\n",
      "                       'sort-name': 'Nirvana, El'},\n",
      "                   {   'id': '86f9ae24-ba2a-4d55-9275-0b89b85f6e3a',\n",
      "                       'life-span': {'ended': None},\n",
      "                       'name': 'Weed Nirvana',\n",
      "                       'score': '62',\n",
      "                       'sort-name': 'Weed Nirvana'},\n",
      "                   {   'area': {   'id': '489ce91b-6658-3307-9877-795b68554c98',\n",
      "                                   'name': 'United States',\n",
      "                                   'sort-name': 'United States'},\n",
      "                       'country': 'US',\n",
      "                       'gender': 'female',\n",
      "                       'id': '206419e0-3a7a-49ce-8437-4e757767d02b',\n",
      "                       'life-span': {'ended': None},\n",
      "                       'name': 'Nirvana Savoury',\n",
      "                       'score': '62',\n",
      "                       'sort-name': 'Savoury, Nirvana',\n",
      "                       'type': 'Person'},\n",
      "                   {   'id': 'f58febd3-18de-4371-8d95-4a68d4f79456',\n",
      "                       'life-span': {'ended': None},\n",
      "                       'name': 'Nirvana Kelly',\n",
      "                       'score': '62',\n",
      "                       'sort-name': 'Kelly, Nirvana',\n",
      "                       'type': 'Person'},\n",
      "                   {   'area': {   'id': 'c920948b-83e3-40b7-8fe9-9ab5abaac55b',\n",
      "                                   'name': 'Houston',\n",
      "                                   'sort-name': 'Houston'},\n",
      "                       'begin-area': {   'id': 'c920948b-83e3-40b7-8fe9-9ab5abaac55b',\n",
      "                                         'name': 'Houston',\n",
      "                                         'sort-name': 'Houston'},\n",
      "                       'disambiguation': 'Nirvana Cover Band',\n",
      "                       'id': '45eacd92-6857-4faa-9283-023e72a1d4b1',\n",
      "                       'life-span': {'begin': '2012', 'ended': None},\n",
      "                       'name': 'The Nirvana Experience',\n",
      "                       'score': '50',\n",
      "                       'sort-name': 'The Nirvana Experience',\n",
      "                       'type': 'Group'},\n",
      "                   {   'id': 'e43ad11b-5d29-45ae-90f7-73ac47fb815d',\n",
      "                       'life-span': {'ended': None},\n",
      "                       'name': 'smells like nirvana',\n",
      "                       'score': '50',\n",
      "                       'sort-name': 'smells like nirvana'},\n",
      "                   {   'id': 'bb94730d-22c2-422d-a0a7-fe16a5b3e429',\n",
      "                       'life-span': {'ended': None},\n",
      "                       'name': 'The Attainment of Nirvana',\n",
      "                       'score': '50',\n",
      "                       'sort-name': 'Attainment of Nirvana, The',\n",
      "                       'type': 'Group'},\n",
      "                   {   'area': {   'id': 'e8ad73e9-9e7f-41c4-a395-6e29260ff1df',\n",
      "                                   'name': 'Graz',\n",
      "                                   'sort-name': 'Graz'},\n",
      "                       'begin-area': {   'id': 'e8ad73e9-9e7f-41c4-a395-6e29260ff1df',\n",
      "                                         'name': 'Graz',\n",
      "                                         'sort-name': 'Graz'},\n",
      "                       'disambiguation': 'Nirvana-Coverband',\n",
      "                       'id': '46d8dae4-abec-438b-9c62-a3dbb2aaa1b7',\n",
      "                       'life-span': {'begin': '2000', 'ended': None},\n",
      "                       'name': 'Nirvana Teen Spirit',\n",
      "                       'score': '50',\n",
      "                       'sort-name': 'Nirvana Teen Spirit',\n",
      "                       'type': 'Group'},\n",
      "                   {   'area': {   'id': 'c621114d-73cc-4832-8afe-f13dc261e5af',\n",
      "                                   'name': 'Gatineau',\n",
      "                                   'sort-name': 'Gatineau'},\n",
      "                       'begin-area': {   'id': 'c621114d-73cc-4832-8afe-f13dc261e5af',\n",
      "                                         'name': 'Gatineau',\n",
      "                                         'sort-name': 'Gatineau'},\n",
      "                       'id': '02c4e6bb-7b7a-4686-8c23-df01bfd42b0e',\n",
      "                       'life-span': {'begin': '2012-04-05', 'ended': None},\n",
      "                       'name': 'Sappy Nirvana Tribute',\n",
      "                       'score': '50',\n",
      "                       'sort-name': 'Sappy Nirvana Tribute',\n",
      "                       'type': 'Group'},\n",
      "                   {   'id': 'e1388435-f80d-434a-9980-f1c9f5aa9b90',\n",
      "                       'life-span': {'ended': None},\n",
      "                       'name': 'Nirvana Sitar & String Group',\n",
      "                       'score': '43',\n",
      "                       'sort-name': 'Nirvana Sitar & String Group'}],\n",
      "    'count': 18,\n",
      "    'created': '2017-08-12T02:28:36.145Z',\n",
      "    'offset': 0}\n"
     ]
    }
   ],
   "source": [
    "data = r.json()\n",
    "pprint(data,indent =4)"
   ]
  },
  {
   "cell_type": "code",
   "execution_count": 26,
   "metadata": {},
   "outputs": [
    {
     "name": "stdout",
     "output_type": "stream",
     "text": [
      "\n",
      "ARTIST:\n",
      "{'disambiguation': 'founded in 1987 by a Michael Jackson double/imitator',\n",
      " 'id': '3aa878c0-224b-41e5-abd1-63be359d2bca',\n",
      " 'life-span': {'begin': '1987', 'ended': None},\n",
      " 'name': 'Nirvana',\n",
      " 'score': '100',\n",
      " 'sort-name': 'Nirvana'}\n"
     ]
    }
   ],
   "source": [
    "# Isolate information from the 4th band returned (index 3)\n",
    "print(\"\\nARTIST:\")\n",
    "pprint(data[\"artists\"][3])"
   ]
  },
  {
   "cell_type": "markdown",
   "metadata": {},
   "source": [
    "## Query for releases from that band using the artist_id"
   ]
  },
  {
   "cell_type": "code",
   "execution_count": 27,
   "metadata": {},
   "outputs": [
    {
     "data": {
      "text/plain": [
       "'3aa878c0-224b-41e5-abd1-63be359d2bca'"
      ]
     },
     "execution_count": 27,
     "metadata": {},
     "output_type": "execute_result"
    }
   ],
   "source": [
    "# Isolate information from the 4th band returned (index 3)\n",
    "artist_id = data[\"artists\"][3][\"id\"]       # here to get the id for \"Nirvana\"\n",
    "artist_id"
   ]
  },
  {
   "cell_type": "code",
   "execution_count": 34,
   "metadata": {},
   "outputs": [
    {
     "data": {
      "text/plain": [
       "{'fmt': 'json', 'releases': {'inc': 'releases'}}"
      ]
     },
     "execution_count": 34,
     "metadata": {},
     "output_type": "execute_result"
    }
   ],
   "source": [
    "query_type = {\"releases\": {\"inc\": \"releases\"}, \"fmt\":\"json\"}\n",
    "PARAMS = query_type\n",
    "PARAMS"
   ]
  },
  {
   "cell_type": "code",
   "execution_count": 36,
   "metadata": {},
   "outputs": [
    {
     "data": {
      "text/plain": [
       "'http://musicbrainz.org/ws/2/artist/3aa878c0-224b-41e5-abd1-63be359d2bca3aa878c0-224b-41e5-abd1-63be359d2bca'"
      ]
     },
     "execution_count": 36,
     "metadata": {},
     "output_type": "execute_result"
    }
   ],
   "source": [
    "ARTIST_URL = ARTIST_URL + artist_id\n",
    "ARTIST_URL"
   ]
  },
  {
   "cell_type": "code",
   "execution_count": 43,
   "metadata": {},
   "outputs": [
    {
     "data": {
      "text/plain": [
       "200"
      ]
     },
     "execution_count": 43,
     "metadata": {},
     "output_type": "execute_result"
    }
   ],
   "source": [
    "release_data = requests.get(ARTIST_URL,PARAMS)\n",
    "requests.codes.ok"
   ]
  },
  {
   "cell_type": "code",
   "execution_count": 40,
   "metadata": {},
   "outputs": [
    {
     "data": {
      "text/plain": [
       "400"
      ]
     },
     "execution_count": 40,
     "metadata": {},
     "output_type": "execute_result"
    }
   ],
   "source": [
    "release_data.status_code   "
   ]
  },
  {
   "cell_type": "code",
   "execution_count": 38,
   "metadata": {},
   "outputs": [
    {
     "data": {
      "text/plain": [
       "'http://musicbrainz.org/ws/2/artist/3aa878c0-224b-41e5-abd1-63be359d2bca3aa878c0-224b-41e5-abd1-63be359d2bca?releases=inc&fmt=json'"
      ]
     },
     "execution_count": 38,
     "metadata": {},
     "output_type": "execute_result"
    }
   ],
   "source": [
    "release_data.url"
   ]
  },
  {
   "cell_type": "code",
   "execution_count": 39,
   "metadata": {},
   "outputs": [
    {
     "name": "stdout",
     "output_type": "stream",
     "text": [
      "{'error': 'Invalid mbid.'}\n"
     ]
    }
   ],
   "source": [
    "release_json_data = release_data.json()\n",
    "pprint(release_json_data)"
   ]
  },
  {
   "cell_type": "code",
   "execution_count": 44,
   "metadata": {},
   "outputs": [
    {
     "data": {
      "text/plain": [
       "<bound method Response.raise_for_status of <Response [400]>>"
      ]
     },
     "execution_count": 44,
     "metadata": {},
     "output_type": "execute_result"
    }
   ],
   "source": [
    "release_data.raise_for_status"
   ]
  },
  {
   "cell_type": "code",
   "execution_count": null,
   "metadata": {
    "collapsed": true
   },
   "outputs": [],
   "source": []
  },
  {
   "cell_type": "code",
   "execution_count": null,
   "metadata": {
    "collapsed": true
   },
   "outputs": [],
   "source": []
  },
  {
   "cell_type": "code",
   "execution_count": null,
   "metadata": {
    "collapsed": true
   },
   "outputs": [],
   "source": []
  },
  {
   "cell_type": "code",
   "execution_count": null,
   "metadata": {
    "collapsed": true
   },
   "outputs": [],
   "source": []
  },
  {
   "cell_type": "code",
   "execution_count": null,
   "metadata": {
    "collapsed": true
   },
   "outputs": [],
   "source": []
  },
  {
   "cell_type": "code",
   "execution_count": null,
   "metadata": {
    "collapsed": true
   },
   "outputs": [],
   "source": []
  },
  {
   "cell_type": "code",
   "execution_count": null,
   "metadata": {
    "collapsed": true
   },
   "outputs": [],
   "source": []
  },
  {
   "cell_type": "markdown",
   "metadata": {},
   "source": [
    "## We can check the response status code:\n",
    "\n",
    "<img src = \"Capture.PNG\">"
   ]
  },
  {
   "cell_type": "code",
   "execution_count": null,
   "metadata": {
    "collapsed": true
   },
   "outputs": [],
   "source": []
  }
 ],
 "metadata": {
  "kernelspec": {
   "display_name": "Python [default]",
   "language": "python",
   "name": "python3"
  },
  "language_info": {
   "codemirror_mode": {
    "name": "ipython",
    "version": 3
   },
   "file_extension": ".py",
   "mimetype": "text/x-python",
   "name": "python",
   "nbconvert_exporter": "python",
   "pygments_lexer": "ipython3",
   "version": "3.6.1"
  }
 },
 "nbformat": 4,
 "nbformat_minor": 2
}
