{
 "cells": [
  {
   "cell_type": "markdown",
   "metadata": {},
   "source": [
    "## Arrays as JSON Objects\n",
    "\n",
    "Eg : [ \"Ford\", \"BMW\", \"Fiat\" ]\n",
    "\n",
    "Arrays in JSON are almost the same as arrays in JavaScript.\n",
    "\n",
    "In JSON, array values must be of type string, number, object, array, boolean or null."
   ]
  },
  {
   "cell_type": "markdown",
   "metadata": {},
   "source": [
    "## Arrays in JSON Objects\n",
    "\n",
    "Arrays can be values of an object property:\n",
    "\n",
    "myObj = \n",
    "\n",
    "{\n",
    "\n",
    "    \"name\":\"Jeswin\",\n",
    "\n",
    "    \"age\":25,\n",
    "\n",
    "    \"cars\":  [ \"Ford\", \"BMW\", \"Fiat\" ]\n",
    "    \n",
    "}"
   ]
  },
  {
   "cell_type": "markdown",
   "metadata": {},
   "source": [
    "## Accessing Array Values\n",
    "\n",
    "You access the array values by using the index number:\n",
    "\n",
    "x = myObj.cars[0];"
   ]
  },
  {
   "cell_type": "markdown",
   "metadata": {},
   "source": [
    "## Looping Through an Array\n",
    "\n",
    "* Can access array values by using a for-in loop:\n",
    "\n",
    "for (i in myObj.cars) \n",
    "\n",
    "{\n",
    "\n",
    "    x += myObj.cars[i];\n",
    "    \n",
    "}\n",
    "\n",
    "* can use a for loop:\n",
    "\n",
    "for (i = 0; i < myObj.cars.length; i++) \n",
    "\n",
    "{\n",
    "\n",
    "    x += myObj.cars[i];\n",
    "    \n",
    "}"
   ]
  },
  {
   "cell_type": "markdown",
   "metadata": {},
   "source": [
    "## Nested Arrays in JSON Objects\n",
    "\n",
    "* Values in an array can also be another array, or even another JSON object:\n",
    "\n",
    "    myObj = {\n",
    "    \n",
    "        \"name\":\"John\",\n",
    "        \n",
    "        \"age\":30,\n",
    "        \n",
    "        \"cars\": [\n",
    "        \n",
    "            { \"name\":\"Ford\", \"models\":[ \"Fiesta\", \"Focus\", \"Mustang\" ] },\n",
    "            \n",
    "            { \"name\":\"BMW\", \"models\":[ \"320\", \"X3\", \"X5\" ] },\n",
    "            \n",
    "            { \"name\":\"Fiat\", \"models\":[ \"500\", \"Panda\" ] }\n",
    "            \n",
    "        ]\n",
    "        \n",
    "     }\n",
    "     \n",
    "* To access arrays inside arrays, use a for-in loop for each array:\n",
    "\n",
    "    for (i in myObj.cars) {\n",
    "    \n",
    "        x += \"<h1>\" + myObj.cars[i].name + \"</h1>\";\n",
    "        \n",
    "        for (j in myObj.cars[i].models) {\n",
    "        \n",
    "            x += myObj.cars[i].models[j];\n",
    "            \n",
    "        }\n",
    "        \n",
    "    }\n",
    "    \n",
    "    <img src = '4.PNG'>"
   ]
  },
  {
   "cell_type": "markdown",
   "metadata": {},
   "source": [
    "## Modify Array Values\n",
    "\n",
    "Use the index number to modify an array:\n",
    "\n",
    "myObj.cars[1] = \"Mercedes\";"
   ]
  },
  {
   "cell_type": "markdown",
   "metadata": {},
   "source": [
    "## Delete Array Items\n",
    "\n",
    "Use the __delete__ keyword to delete items from an array:\n",
    "\n",
    "__delete__ myObj.cars[1];"
   ]
  }
 ],
 "metadata": {
  "kernelspec": {
   "display_name": "Python [default]",
   "language": "python",
   "name": "python3"
  },
  "language_info": {
   "codemirror_mode": {
    "name": "ipython",
    "version": 3
   },
   "file_extension": ".py",
   "mimetype": "text/x-python",
   "name": "python",
   "nbconvert_exporter": "python",
   "pygments_lexer": "ipython3",
   "version": "3.6.1"
  }
 },
 "nbformat": 4,
 "nbformat_minor": 2
}
