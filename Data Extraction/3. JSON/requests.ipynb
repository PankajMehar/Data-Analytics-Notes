{
 "cells": [
  {
   "cell_type": "markdown",
   "metadata": {},
   "source": [
    "# Requests library in python \n",
    "\n",
    "Refer from [geek for geeks](url=http://www.geeksforgeeks.org/get-post-requests-using-python/)."
   ]
  },
  {
   "cell_type": "code",
   "execution_count": 1,
   "metadata": {
    "collapsed": true
   },
   "outputs": [],
   "source": [
    "import json\n",
    "import requests\n",
    "from pprint import pprint"
   ]
  },
  {
   "cell_type": "markdown",
   "metadata": {},
   "source": [
    "There are two HTTP (Hypertext Transfer Protocol) request methods  __GET and POST requests__ in Python and their implementation in python. \n",
    "\n",
    "HTTP is a set of protocols designed to enable communication between clients and servers. It works as a request-response protocol between a client and server.\n",
    "A web browser may be the client, and an application on a computer that hosts a web site may be the server."
   ]
  },
  {
   "cell_type": "markdown",
   "metadata": {},
   "source": [
    "So, to request a response from the server, there are mainly two methods:\n",
    "\n",
    "__GET__ : to request data from the server.\n",
    "\n",
    "__POST__ : to submit data to be processed to the server.\n",
    "\n",
    "<img src=\"1.PNG\">"
   ]
  },
  {
   "cell_type": "markdown",
   "metadata": {},
   "source": [
    "Now, to make HTTP requests in python, we can use several HTTP libraries like:\n",
    "\n",
    "* httplib\n",
    "* urllib\n",
    "* requests\n",
    "\n",
    "The most elegant and simplest of above listed libraries is __Requests.__ "
   ]
  },
  {
   "cell_type": "markdown",
   "metadata": {},
   "source": [
    "## Documentation : requests.get()\n",
    "'''\n",
    "\n",
    "Sends a GET request.\n",
    "\n",
    "Parameters:\t\n",
    "\n",
    "url – URL for the new Request object.\n",
    "\n",
    "params – (optional) Dictionary or bytes to be sent in the query string for the Request.\n",
    "\n",
    "**kwargs – Optional arguments that request takes.\n",
    "\n",
    "__Returns:\t\n",
    "\n",
    "__Response object__\n",
    "\n",
    "__Return type:\t\n",
    "\n",
    "__requests.Response\n",
    "\n",
    "'''"
   ]
  },
  {
   "cell_type": "markdown",
   "metadata": {},
   "source": [
    "# Making a Get request"
   ]
  },
  {
   "cell_type": "code",
   "execution_count": 2,
   "metadata": {
    "collapsed": true
   },
   "outputs": [],
   "source": [
    "# api-endpoint\n",
    "URL = \"http://maps.googleapis.com/maps/api/geocode/json\"\n",
    " \n",
    "# location given here\n",
    "location = \"delhi technological university\"\n",
    " \n",
    "# defining a params dict for the parameters to be sent to the API\n",
    "PARAMS = {'address':location}"
   ]
  },
  {
   "cell_type": "code",
   "execution_count": 4,
   "metadata": {
    "collapsed": true
   },
   "outputs": [],
   "source": [
    "# sending get request and saving the response as response object\n",
    "r = requests.get(url=URL, params=PARAMS)"
   ]
  },
  {
   "cell_type": "code",
   "execution_count": 5,
   "metadata": {},
   "outputs": [
    {
     "name": "stdout",
     "output_type": "stream",
     "text": [
      "<Response [200]>\n"
     ]
    }
   ],
   "source": [
    "pprint(r)  # The resulting object cant be deciphered so convert it to a json format"
   ]
  },
  {
   "cell_type": "markdown",
   "metadata": {},
   "source": [
    "Now, in order to retrieve the data from the response object, we need to convert the raw response content into a JSON type data structure. This is achieved by using json() method. Finally, we extract the required information by parsing down the JSON type object."
   ]
  },
  {
   "cell_type": "code",
   "execution_count": 6,
   "metadata": {
    "collapsed": true
   },
   "outputs": [],
   "source": [
    "# extracting data in json format\n",
    "data = r.json()"
   ]
  },
  {
   "cell_type": "code",
   "execution_count": 7,
   "metadata": {},
   "outputs": [
    {
     "name": "stdout",
     "output_type": "stream",
     "text": [
      "{'results': [{'address_components': [{'long_name': 'Delhi',\n",
      "                                      'short_name': 'Delhi',\n",
      "                                      'types': ['locality', 'political']},\n",
      "                                     {'long_name': 'Delhi',\n",
      "                                      'short_name': 'DL',\n",
      "                                      'types': ['administrative_area_level_1',\n",
      "                                                'political']},\n",
      "                                     {'long_name': 'India',\n",
      "                                      'short_name': 'IN',\n",
      "                                      'types': ['country', 'political']},\n",
      "                                     {'long_name': '110042',\n",
      "                                      'short_name': '110042',\n",
      "                                      'types': ['postal_code']}],\n",
      "              'formatted_address': 'Shahbad Daulatpur, Main Bawana Road, '\n",
      "                                   'Delhi, 110042, India',\n",
      "              'geometry': {'location': {'lat': 28.7500749,\n",
      "                                        'lng': 77.11766519999999},\n",
      "                           'location_type': 'GEOMETRIC_CENTER',\n",
      "                           'viewport': {'northeast': {'lat': 28.7514238802915,\n",
      "                                                      'lng': 77.11901418029149},\n",
      "                                        'southwest': {'lat': 28.7487259197085,\n",
      "                                                      'lng': 77.11631621970848}}},\n",
      "              'place_id': 'ChIJZclnKiEBDTkRsNEwHMpw1Ic',\n",
      "              'types': ['establishment', 'point_of_interest']}],\n",
      " 'status': 'OK'}\n"
     ]
    }
   ],
   "source": [
    "pprint(data)"
   ]
  },
  {
   "cell_type": "code",
   "execution_count": 8,
   "metadata": {
    "collapsed": true
   },
   "outputs": [],
   "source": [
    "# extracting latitude, longitude and formatted address of the first matching location\n",
    "\n",
    "latitude = data[\"results\"][0][\"geometry\"][\"location\"][\"lat\"]\n",
    "longtitude = data[\"results\"][0][\"geometry\"][\"location\"][\"lng\"]\n",
    "formatted_address = data[\"results\"][0][\"formatted_address\"]"
   ]
  },
  {
   "cell_type": "code",
   "execution_count": 9,
   "metadata": {},
   "outputs": [
    {
     "name": "stdout",
     "output_type": "stream",
     "text": [
      "Latitude : 28.7500749 \n",
      "Longitude : 77.11766519999999 \n",
      "Formatted Address : Shahbad Daulatpur, Main Bawana Road, Delhi, 110042, India\n"
     ]
    }
   ],
   "source": [
    "# printing the output\n",
    "print(\"Latitude : {} \\nLongitude : {} \\nFormatted Address : {}\".format(latitude, longtitude,formatted_address))"
   ]
  },
  {
   "cell_type": "markdown",
   "metadata": {},
   "source": [
    "The above example finds latitude, longitude and formatted address of a given location by sending a GET request to the Google Maps API. An API (Application Programming Interface) enables you to access the internal features of a program in a limited fashion. And in most cases, the data provided is in JSON(JavaScript Object Notation) format (which is implemented as dictionary objects in Python!)."
   ]
  },
  {
   "cell_type": "markdown",
   "metadata": {},
   "source": [
    "# Important points to infer :\n",
    "\n",
    "## PARAMS = {'address':location}\n",
    "\n",
    "The URL for a GET request generally carries some parameters with it. For requests library, parameters can be defined as a dictionary. These parameters are later parsed down and added to the base url or the api-endpoint.\n",
    "\n",
    "To understand the parameters role, try to print r.url after the response object is created."
   ]
  },
  {
   "cell_type": "code",
   "execution_count": 10,
   "metadata": {},
   "outputs": [
    {
     "data": {
      "text/plain": [
       "'http://maps.googleapis.com/maps/api/geocode/json?address=delhi+technological+university'"
      ]
     },
     "execution_count": 10,
     "metadata": {},
     "output_type": "execute_result"
    }
   ],
   "source": [
    "r.url # This is the actual URL on which GET request is made"
   ]
  },
  {
   "cell_type": "markdown",
   "metadata": {},
   "source": [
    "## r = requests.get(url = URL, params = PARAMS)\n",
    "\n",
    "Here we create a response object ‘r’ which will store the request-response. We use requests.get() method since we are sending a GET request. The two arguments we pass are url and the parameters dictionary."
   ]
  },
  {
   "cell_type": "markdown",
   "metadata": {},
   "source": [
    "## data = r.json()\n",
    "\n",
    "Now, in order to retrieve the data from the response object, we need to convert the raw response content into a JSON type data structure. This is achieved by using json() method. Finally, we extract the required information by parsing down the JSON type object."
   ]
  },
  {
   "cell_type": "markdown",
   "metadata": {},
   "source": [
    "# Example 2 : Udacity Notes"
   ]
  },
  {
   "cell_type": "code",
   "execution_count": 11,
   "metadata": {},
   "outputs": [
    {
     "data": {
      "text/plain": [
       "'http://musicbrainz.org/ws/2/artist/'"
      ]
     },
     "execution_count": 11,
     "metadata": {},
     "output_type": "execute_result"
    }
   ],
   "source": [
    "url = \"http://musicbrainz.org/ws/2/\"\n",
    "ARTIST_URL = url + \"artist/\"\n",
    "ARTIST_URL"
   ]
  },
  {
   "cell_type": "code",
   "execution_count": 12,
   "metadata": {},
   "outputs": [
    {
     "data": {
      "text/plain": [
       "{'fmt': 'json', 'query': 'artist:Lucero'}"
      ]
     },
     "execution_count": 12,
     "metadata": {},
     "output_type": "execute_result"
    }
   ],
   "source": [
    "name = \"Lucero\"\n",
    "PARAMS = {}\n",
    "PARAMS = {\"query\": \"artist:Lucero\", \"fmt\":\"json\"}\n",
    "PARAMS"
   ]
  },
  {
   "cell_type": "code",
   "execution_count": 13,
   "metadata": {},
   "outputs": [
    {
     "data": {
      "text/plain": [
       "'http://musicbrainz.org/ws/2/artist/?query=artist%3ALucero&fmt=json'"
      ]
     },
     "execution_count": 13,
     "metadata": {},
     "output_type": "execute_result"
    }
   ],
   "source": [
    "r = requests.get(ARTIST_URL,params=PARAMS)\n",
    "r.url"
   ]
  },
  {
   "cell_type": "code",
   "execution_count": 14,
   "metadata": {
    "collapsed": true
   },
   "outputs": [],
   "source": [
    "data = r.json()"
   ]
  },
  {
   "cell_type": "code",
   "execution_count": 15,
   "metadata": {},
   "outputs": [
    {
     "name": "stdout",
     "output_type": "stream",
     "text": [
      "{'artists': [{'aliases': [{'begin-date': None,\n",
      "                           'end-date': None,\n",
      "                           'locale': None,\n",
      "                           'name': 'Lucerito',\n",
      "                           'primary': None,\n",
      "                           'sort-name': 'Lucerito',\n",
      "                           'type': None}],\n",
      "              'area': {'id': '3e08b2cd-69f3-317c-b1e4-e71be581839e',\n",
      "                       'name': 'Mexico',\n",
      "                       'sort-name': 'Mexico'},\n",
      "              'begin-area': {'id': '3c810219-baf2-4fff-b98c-46b425eea1f5',\n",
      "                             'name': 'Ciudad de México',\n",
      "                             'sort-name': 'Ciudad de México'},\n",
      "              'country': 'MX',\n",
      "              'disambiguation': 'Mexican singer and actress',\n",
      "              'gender': 'female',\n",
      "              'id': '4befe93e-7cb6-4adb-b822-8b19ceb59768',\n",
      "              'life-span': {'begin': '1969-08-29', 'ended': None},\n",
      "              'name': 'Lucero',\n",
      "              'score': '100',\n",
      "              'sort-name': 'Lucero',\n",
      "              'tags': [{'count': 1, 'name': 'pop'},\n",
      "                       {'count': 1, 'name': 'latin'},\n",
      "                       {'count': 1, 'name': 'ranchera'},\n",
      "                       {'count': 1, 'name': 'national folk'}],\n",
      "              'type': 'Person'},\n",
      "             {'area': {'id': 'c2d96f61-75a4-4375-aed5-6aacb0b6326a',\n",
      "                       'name': 'Memphis',\n",
      "                       'sort-name': 'Memphis'},\n",
      "              'begin-area': {'id': 'c2d96f61-75a4-4375-aed5-6aacb0b6326a',\n",
      "                             'name': 'Memphis',\n",
      "                             'sort-name': 'Memphis'},\n",
      "              'disambiguation': 'Memphis, TN based band',\n",
      "              'id': '1a681dad-cb15-43be-9d0f-4a807badff9f',\n",
      "              'life-span': {'begin': '1998', 'ended': None},\n",
      "              'name': 'Lucero',\n",
      "              'score': '100',\n",
      "              'sort-name': 'Lucero',\n",
      "              'tags': [{'count': 1, 'name': 'alternative rock'},\n",
      "                       {'count': 1, 'name': 'punk rock'},\n",
      "                       {'count': 1, 'name': 'rockabilly'},\n",
      "                       {'count': 1, 'name': 'blues rock'},\n",
      "                       {'count': 1, 'name': 'southern rock'},\n",
      "                       {'count': 1, 'name': 'cowpunk'},\n",
      "                       {'count': 1, 'name': 'alternative country'},\n",
      "                       {'count': 1, 'name': 'heartland rock'},\n",
      "                       {'count': 1, 'name': 'memphis soul'}],\n",
      "              'type': 'Group'},\n",
      "             {'id': '2826f824-7505-479c-834d-43e9861af11e',\n",
      "              'life-span': {'ended': None},\n",
      "              'name': 'Reyna Lucero',\n",
      "              'score': '62',\n",
      "              'sort-name': 'Lucero, Reyna'},\n",
      "             {'gender': 'male',\n",
      "              'id': '44c178e3-d716-4a48-a019-e29dae6c4ffc',\n",
      "              'life-span': {'ended': None},\n",
      "              'name': 'Chuck Lucero',\n",
      "              'score': '62',\n",
      "              'sort-name': 'Lucero, Chuck',\n",
      "              'type': 'Person'},\n",
      "             {'area': {'id': '3e08b2cd-69f3-317c-b1e4-e71be581839e',\n",
      "                       'name': 'Mexico',\n",
      "                       'sort-name': 'Mexico'},\n",
      "              'country': 'MX',\n",
      "              'gender': 'female',\n",
      "              'id': '9193a87a-a5ec-4fa5-800e-63f139aca089',\n",
      "              'life-span': {'begin': '1938', 'ended': None},\n",
      "              'name': 'Lucero Tena',\n",
      "              'score': '62',\n",
      "              'sort-name': 'Tena, Lucero',\n",
      "              'type': 'Person'},\n",
      "             {'id': '5e29f7dc-f02e-49cf-b0bd-96065e9283ac',\n",
      "              'life-span': {'ended': None},\n",
      "              'name': 'F. Lucero',\n",
      "              'score': '62',\n",
      "              'sort-name': 'Lucero, F.',\n",
      "              'type': 'Person'},\n",
      "             {'id': '0cbdf987-cea8-424a-8296-98a50ff0d49c',\n",
      "              'life-span': {'ended': None},\n",
      "              'name': 'Nick Lucero',\n",
      "              'score': '62',\n",
      "              'sort-name': 'Lucero, Nick',\n",
      "              'type': 'Person'},\n",
      "             {'id': '403368f9-94fa-4ccf-a3b3-23c1391b5c39',\n",
      "              'life-span': {'ended': None},\n",
      "              'name': 'Eric Lucero',\n",
      "              'score': '62',\n",
      "              'sort-name': 'Lucero, Eric',\n",
      "              'type': 'Person'},\n",
      "             {'gender': 'male',\n",
      "              'id': 'aa5faf27-e0a5-42a6-9d0f-bb81cd6655fa',\n",
      "              'life-span': {'ended': None},\n",
      "              'name': 'Enrique Lucero',\n",
      "              'score': '62',\n",
      "              'sort-name': 'Lucero, Enrique',\n",
      "              'type': 'Person'},\n",
      "             {'id': '36e09a0a-ef07-4446-9e20-e998d5e810cc',\n",
      "              'life-span': {'ended': None},\n",
      "              'name': 'Angelina Lucero',\n",
      "              'score': '62',\n",
      "              'sort-name': 'Angelina Lucero'},\n",
      "             {'gender': 'male',\n",
      "              'id': 'd273b44b-1b0e-4810-b02b-717673deeb11',\n",
      "              'life-span': {'ended': None},\n",
      "              'name': 'Mark Lucero',\n",
      "              'score': '62',\n",
      "              'sort-name': 'Lucero, Mark',\n",
      "              'type': 'Person'},\n",
      "             {'id': 'fa015208-c59f-4f66-9719-e3bf06e3f561',\n",
      "              'life-span': {'ended': None},\n",
      "              'name': 'Jezrael Lucero',\n",
      "              'score': '62',\n",
      "              'sort-name': 'Lucero, Jezrael',\n",
      "              'type': 'Person'},\n",
      "             {'gender': 'female',\n",
      "              'id': '49b562a4-e546-4d0e-a2cd-8dd746f7f5bf',\n",
      "              'life-span': {'ended': None},\n",
      "              'name': 'Lucero Aguilar',\n",
      "              'score': '62',\n",
      "              'sort-name': 'Aguilar, Lucero',\n",
      "              'type': 'Person'},\n",
      "             {'disambiguation': 'tango singer',\n",
      "              'gender': 'female',\n",
      "              'id': '80e730d8-0a16-494f-8113-47e26b73a5c7',\n",
      "              'life-span': {'ended': None},\n",
      "              'name': 'Claudia Lucero',\n",
      "              'score': '62',\n",
      "              'sort-name': 'Lucero, Claudia',\n",
      "              'tags': [{'count': 1, 'name': 'tango'}],\n",
      "              'type': 'Person'},\n",
      "             {'id': '0d46d254-4d3f-489f-b05b-3c7c06619701',\n",
      "              'life-span': {'ended': None},\n",
      "              'name': 'Drew Lucero',\n",
      "              'score': '62',\n",
      "              'sort-name': 'Drew Lucero',\n",
      "              'type': 'Person'},\n",
      "             {'area': {'id': '489ce91b-6658-3307-9877-795b68554c98',\n",
      "                       'name': 'United States',\n",
      "                       'sort-name': 'United States'},\n",
      "              'country': 'US',\n",
      "              'gender': 'male',\n",
      "              'id': '52551d74-064c-45b5-836f-d4b70032e6f6',\n",
      "              'life-span': {'ended': None},\n",
      "              'name': 'Anthony Lucero',\n",
      "              'score': '62',\n",
      "              'sort-name': 'Lucero, Anthony',\n",
      "              'type': 'Person'},\n",
      "             {'area': {'id': '075e1cc9-9567-4317-a931-4f6dcecc688f',\n",
      "                       'name': 'Albuquerque',\n",
      "                       'sort-name': 'Albuquerque'},\n",
      "              'begin-area': {'id': '075e1cc9-9567-4317-a931-4f6dcecc688f',\n",
      "                             'name': 'Albuquerque',\n",
      "                             'sort-name': 'Albuquerque'},\n",
      "              'gender': 'male',\n",
      "              'id': '94fa67e0-d608-4f92-a6b4-9965f43135a1',\n",
      "              'ipis': ['00771016461'],\n",
      "              'life-span': {'begin': '1988-06-08', 'ended': None},\n",
      "              'name': 'Mario J. Lucero',\n",
      "              'score': '50',\n",
      "              'sort-name': 'Lucero, Mario J.',\n",
      "              'type': 'Person'},\n",
      "             {'begin-area': {'id': '075e1cc9-9567-4317-a931-4f6dcecc688f',\n",
      "                             'name': 'Albuquerque',\n",
      "                             'sort-name': 'Albuquerque'},\n",
      "              'gender': 'female',\n",
      "              'id': '2b9e822d-e379-4bdf-8183-54ce2ab2931b',\n",
      "              'life-span': {'begin': '1989-03-30', 'ended': None},\n",
      "              'name': 'Isabel Ruiz Lucero',\n",
      "              'score': '50',\n",
      "              'sort-name': 'Lucero, Isabel Ruiz',\n",
      "              'type': 'Person'},\n",
      "             {'gender': 'male',\n",
      "              'id': '2653dafd-c560-463e-b604-db24b1ac9f35',\n",
      "              'life-span': {'begin': '1910-10-26',\n",
      "                            'end': '1974-06-02',\n",
      "                            'ended': True},\n",
      "              'name': 'Alfredo Lucero Palacios',\n",
      "              'score': '50',\n",
      "              'sort-name': 'Palacios, Alfredo Lucero',\n",
      "              'type': 'Person'},\n",
      "             {'gender': 'male',\n",
      "              'id': 'f25f9c9f-591f-404d-a5e1-d607ce626305',\n",
      "              'life-span': {'ended': None},\n",
      "              'name': 'Walter Molina Lucero',\n",
      "              'score': '50',\n",
      "              'sort-name': 'Lucero, Walter Molina',\n",
      "              'type': 'Person'},\n",
      "             {'gender': 'male',\n",
      "              'id': '24b5ae5e-9063-402b-8ab9-ca7c7852711c',\n",
      "              'life-span': {'ended': None},\n",
      "              'name': 'Juan Lucero Campas',\n",
      "              'score': '50',\n",
      "              'sort-name': 'Lucero Campas, Juan',\n",
      "              'type': 'Person'},\n",
      "             {'id': 'c24e0411-e33c-43b8-ba1e-4ef0f034aaac',\n",
      "              'life-span': {'ended': None},\n",
      "              'name': 'Lucero En Vivo',\n",
      "              'score': '50',\n",
      "              'sort-name': 'Lucero En Vivo'}],\n",
      " 'count': 22,\n",
      " 'created': '2017-08-12T00:44:33.063Z',\n",
      " 'offset': 0}\n"
     ]
    }
   ],
   "source": [
    "pprint(data)"
   ]
  },
  {
   "cell_type": "code",
   "execution_count": 19,
   "metadata": {},
   "outputs": [
    {
     "data": {
      "text/plain": [
       "requests.models.Response"
      ]
     },
     "execution_count": 19,
     "metadata": {},
     "output_type": "execute_result"
    }
   ],
   "source": [
    "type(r)"
   ]
  },
  {
   "cell_type": "code",
   "execution_count": 17,
   "metadata": {},
   "outputs": [
    {
     "data": {
      "text/plain": [
       "200"
      ]
     },
     "execution_count": 17,
     "metadata": {},
     "output_type": "execute_result"
    }
   ],
   "source": [
    "r.status_code"
   ]
  },
  {
   "cell_type": "code",
   "execution_count": 18,
   "metadata": {},
   "outputs": [
    {
     "data": {
      "text/plain": [
       "200"
      ]
     },
     "execution_count": 18,
     "metadata": {},
     "output_type": "execute_result"
    }
   ],
   "source": [
    "requests.codes.ok"
   ]
  },
  {
   "cell_type": "markdown",
   "metadata": {
    "collapsed": true
   },
   "source": [
    "<img src = \"Capture.PNG\">"
   ]
  }
 ],
 "metadata": {
  "kernelspec": {
   "display_name": "Python [default]",
   "language": "python",
   "name": "python3"
  },
  "language_info": {
   "codemirror_mode": {
    "name": "ipython",
    "version": 3
   },
   "file_extension": ".py",
   "mimetype": "text/x-python",
   "name": "python",
   "nbconvert_exporter": "python",
   "pygments_lexer": "ipython3",
   "version": "3.6.1"
  }
 },
 "nbformat": 4,
 "nbformat_minor": 2
}
