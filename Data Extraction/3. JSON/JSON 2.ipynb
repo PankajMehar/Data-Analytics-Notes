{
 "cells": [
  {
   "cell_type": "markdown",
   "metadata": {},
   "source": [
    "## JSON Syntax\n",
    "The JSON syntax is a subset of the JavaScript syntax."
   ]
  },
  {
   "cell_type": "markdown",
   "metadata": {},
   "source": [
    "# JSON Data - A Name and a Value\n",
    "* JSON data is written as name/value pairs.\n",
    "* In JSON, __keys must be strings__, written with double quotes.\n",
    "\n",
    "    { \"name\":\"Jeswin\" }\n",
    "\n",
    "* In JavaScript, you can write string values with double or single quotes:\n",
    "        \n",
    "    {name:\"Jeswin\"}\n",
    "\n",
    "* JavaScript objects can be used as JSON.\n",
    "    * With JavaScript you can create an object and assign data to it, like this:\n",
    "    __var person = { \"name\":\"Jeswin\", \"age\":31, \"city\":\"New York\" };__\n",
    "    * You can access a JavaScript object like this:\n",
    "    __person.name;__\n",
    "    * It can also be accessed like this:\n",
    "     __person[\"name\"];__\n",
    "    * Data can be modified like this:\n",
    "    __person.name = \"Dhruv\";__ or,\n",
    "    __person[\"name\"] = \"Gilbert\";__\n",
    "      \n",
    "* JavaScript arrays can also be used as JSON."
   ]
  },
  {
   "cell_type": "markdown",
   "metadata": {},
   "source": [
    "# JSON Files\n",
    "* The file type for JSON files is \".json\"\n",
    "* The MIME type for JSON text is \"application/json\""
   ]
  },
  {
   "cell_type": "markdown",
   "metadata": {},
   "source": [
    "## JSON vs XML\n",
    "Both JSON and XML can be used to receive data from a web server.\n",
    "\n",
    "<img src = \"1.PNG\">"
   ]
  },
  {
   "cell_type": "markdown",
   "metadata": {},
   "source": [
    "## Similarities __ JSON and XML__\n",
    "\n",
    "* Both JSON and XML are \"self describing\" (human readable)\n",
    "* Both JSON and XML are hierarchical (values within values)\n",
    "* Both JSON and XML can be parsed and used by lots of programming languages\n",
    "* Both JSON and XML can be fetched with an XMLHttpRequest"
   ]
  },
  {
   "cell_type": "markdown",
   "metadata": {},
   "source": [
    "## Difference between JSON and XML\n",
    "\n",
    "* JSON doesn't use end tag\n",
    "* JSON is shorter\n",
    "* JSON is quicker to read and write\n",
    "* JSON can use arrays\n",
    "* XML has to be parsed with an XML parser. JSON can be parsed by a standard JavaScript function.\n",
    "* XML is much more difficult to parse than JSON. JSON is parsed into a ready-to-use JavaScript object."
   ]
  },
  {
   "cell_type": "markdown",
   "metadata": {},
   "source": [
    "## Using JSON\n",
    "\n",
    "* Fetch a JSON string\n",
    "* JSON.Parse the JSON string"
   ]
  },
  {
   "cell_type": "markdown",
   "metadata": {},
   "source": [
    "# Using XML\n",
    "\n",
    "* Fetch an XML document\n",
    "* Use the XML DOM to loop through the document\n",
    "* Extract values and store in variables"
   ]
  }
 ],
 "metadata": {
  "kernelspec": {
   "display_name": "Python [default]",
   "language": "python",
   "name": "python3"
  },
  "language_info": {
   "codemirror_mode": {
    "name": "ipython",
    "version": 3
   },
   "file_extension": ".py",
   "mimetype": "text/x-python",
   "name": "python",
   "nbconvert_exporter": "python",
   "pygments_lexer": "ipython3",
   "version": "3.6.1"
  }
 },
 "nbformat": 4,
 "nbformat_minor": 2
}
