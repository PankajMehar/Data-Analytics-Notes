{
 "cells": [
  {
   "cell_type": "markdown",
   "metadata": {},
   "source": [
    "# JSON Objects"
   ]
  },
  {
   "cell_type": "markdown",
   "metadata": {},
   "source": [
    "# Object Syntax\n",
    "\n",
    "Eg:\n",
    "{ \"name\":\"Jeswin\", \"age\":25, \"car\":WagonR }"
   ]
  },
  {
   "cell_type": "markdown",
   "metadata": {},
   "source": [
    "* JSON objects are surrounded by curly braces {}.\n",
    "\n",
    "* JSON objects are written in key/value pairs.\n",
    "\n",
    "* Keys must be strings, and values must be a valid JSON data type (string, number, object, array, boolean or null).\n",
    "\n",
    "* Keys and values are separated by a colon.\n",
    "\n",
    "* Each key/value pair is separated by a comma."
   ]
  },
  {
   "cell_type": "markdown",
   "metadata": {},
   "source": [
    "## Accessing Object Values\n",
    "* Can access the object values by using dot (.) notation:\n",
    "\n",
    "     myObj = { \"name\":\"Jeswin\", \"age\":25, \"car\":\"WagonR\" };\n",
    "     \n",
    "     x = myObj.name;\n",
    "     \n",
    "     \n",
    "* can also access the object values by using bracket ([]) notation:\n",
    "    \n",
    "     x = myObj[name];\n",
    "\n"
   ]
  },
  {
   "cell_type": "markdown",
   "metadata": {},
   "source": [
    "## Looping an Object\n",
    "\n",
    "* You can loop through object properties by using the for-in loop:\n",
    "\n",
    "myObj = { \"name\":\"Jeswin\", \"age\":25, \"car\":\"WagonR\" };\n",
    "\n",
    "for (x in myObj)\n",
    "\n",
    "{\n",
    "\n",
    "    document.getElementById(\"demo\").innerHTML += x;\n",
    "\n",
    "}\n",
    "\n",
    "<img src = \"2.PNG\">\n",
    "\n",
    "* use the bracket notation to access the property values:\n",
    "\n",
    "for (x in myObj) \n",
    "{\n",
    "\n",
    "    document.getElementById(\"demo\").innerHTML += myObj[x];\n",
    "\n",
    "}\n",
    "\n",
    "<img src = \"3.PNG\">\n"
   ]
  },
  {
   "cell_type": "markdown",
   "metadata": {},
   "source": [
    "## Nested JSON Objects\n",
    "Values in a JSON object can be another JSON object.\n",
    "\n",
    "* __Eg __: \n",
    "    \n",
    "    myObj = {\n",
    "    \n",
    "    \"name\":\"Jeswin\",\n",
    "    \n",
    "    \"age\":25,\n",
    "    \n",
    "    \"cars\": {\n",
    "    \n",
    "        \"car1\":\"Ford\",\n",
    "        \n",
    "        \"car2\":\"BMW\",\n",
    "        \n",
    "        \"car3\":\"Fiat\"\n",
    "        \n",
    "    }\n",
    "    \n",
    " }"
   ]
  },
  {
   "cell_type": "markdown",
   "metadata": {},
   "source": [
    "You can access nested JSON objects by using the dot notation or bracket notation:\n",
    "\n",
    "x = myObj.cars.car2;\n",
    "\n",
    "//or:\n",
    "\n",
    "x = myObj.cars[\"car2\"];"
   ]
  },
  {
   "cell_type": "markdown",
   "metadata": {},
   "source": [
    "# Modify Values\n",
    "Can use the dot/bracket notation to modify any value in a JSON object:\n",
    "\n",
    "* myObj.cars.car2 = \"Mercedes\";  __or__\n",
    "\n",
    "* myObj.cars[\"car2\"] = \"Mercedes\";\n",
    "\n"
   ]
  },
  {
   "cell_type": "markdown",
   "metadata": {},
   "source": [
    "## Delete Object Properties\n",
    "Use the __delete__ keyword to delete properties from a JSON object:\n",
    "\n",
    "delete myObj.cars.car2;"
   ]
  }
 ],
 "metadata": {
  "kernelspec": {
   "display_name": "Python [default]",
   "language": "python",
   "name": "python3"
  },
  "language_info": {
   "codemirror_mode": {
    "name": "ipython",
    "version": 3
   },
   "file_extension": ".py",
   "mimetype": "text/x-python",
   "name": "python",
   "nbconvert_exporter": "python",
   "pygments_lexer": "ipython3",
   "version": "3.6.1"
  }
 },
 "nbformat": 4,
 "nbformat_minor": 2
}
