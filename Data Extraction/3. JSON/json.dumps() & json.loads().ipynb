{
 "cells": [
  {
   "cell_type": "code",
   "execution_count": 1,
   "metadata": {
    "collapsed": true
   },
   "outputs": [],
   "source": [
    "import json\n",
    "from pprint import pprint"
   ]
  },
  {
   "cell_type": "markdown",
   "metadata": {},
   "source": [
    "## Convert Python dictionary to JSON  and write it to a text file.  "
   ]
  },
  {
   "cell_type": "code",
   "execution_count": 9,
   "metadata": {},
   "outputs": [
    {
     "data": {
      "text/plain": [
       "{'Dhawan': 0, 'Dhoni': [100, 147], 'Kohli': 59, 'Rohit': 60}"
      ]
     },
     "execution_count": 9,
     "metadata": {},
     "output_type": "execute_result"
    }
   ],
   "source": [
    "match = {}   # Created a python dictionary\n",
    "match[\"Kohli\"] = 59\n",
    "match[\"Dhoni\"] = [100,147]\n",
    "match[\"Dhawan\"] = 0\n",
    "match[\"Rohit\"] = 60\n",
    "match"
   ]
  },
  {
   "cell_type": "code",
   "execution_count": 10,
   "metadata": {},
   "outputs": [
    {
     "name": "stdout",
     "output_type": "stream",
     "text": [
      "<class 'str'>\n",
      "'{\"Kohli\": 59, \"Dhoni\": [100, 147], \"Dhawan\": 0, \"Rohit\": 60}'\n"
     ]
    }
   ],
   "source": [
    "match_json = json.dumps(match)\n",
    "print(type(match_json))\n",
    "pprint(match_json)"
   ]
  },
  {
   "cell_type": "markdown",
   "metadata": {},
   "source": [
    "## When the objects we load and store grow larger, we puny humans often need some hints on where a new sub-object starts. To get these, simply pass an indent size."
   ]
  },
  {
   "cell_type": "code",
   "execution_count": 13,
   "metadata": {},
   "outputs": [
    {
     "name": "stdout",
     "output_type": "stream",
     "text": [
      "{\n",
      "   \"Kohli\": 59,\n",
      "   \"Dhoni\": [\n",
      "      100,\n",
      "      147\n",
      "   ],\n",
      "   \"Dhawan\": 0,\n",
      "   \"Rohit\": 60\n",
      "}\n"
     ]
    }
   ],
   "source": [
    "print(json.dumps(match, indent=3))"
   ]
  },
  {
   "cell_type": "markdown",
   "metadata": {},
   "source": [
    "## Note that the \"json.dumps()\" returns a string as indicated by the \"s\" at the end of \"dumps\". This process is called encoding."
   ]
  },
  {
   "cell_type": "code",
   "execution_count": 14,
   "metadata": {
    "collapsed": true
   },
   "outputs": [],
   "source": [
    "# write it to a text file.\n",
    "with open(\"match_score.txt\",'w') as fh:\n",
    "    fh.write(match_json)"
   ]
  },
  {
   "cell_type": "markdown",
   "metadata": {},
   "source": [
    "<img src = \"12.PNG\">"
   ]
  },
  {
   "cell_type": "markdown",
   "metadata": {},
   "source": [
    "# Read in back from the file and play with it."
   ]
  },
  {
   "cell_type": "code",
   "execution_count": 15,
   "metadata": {
    "collapsed": true
   },
   "outputs": [],
   "source": [
    "# Read from the file match_score.txt\n",
    "with open(\"match_score.txt\",'r') as fh:\n",
    "    data = fh.read()"
   ]
  },
  {
   "cell_type": "code",
   "execution_count": 16,
   "metadata": {},
   "outputs": [
    {
     "name": "stdout",
     "output_type": "stream",
     "text": [
      "<class 'dict'>\n",
      "{'Kohli': 59, 'Dhoni': [100, 147], 'Dhawan': 0, 'Rohit': 60}\n"
     ]
    }
   ],
   "source": [
    "# Now decoding the JSON-encoded string back into a Python dictionary data structure:\n",
    "match_data_read = json.loads(data)\n",
    "print(type(match_data_read))\n",
    "print(match_data_read)"
   ]
  },
  {
   "cell_type": "markdown",
   "metadata": {},
   "source": [
    "# If we prefer working with files instead of strings, we may want to use json.dump() / json.load() to encode / decode JSON data:"
   ]
  },
  {
   "cell_type": "code",
   "execution_count": null,
   "metadata": {
    "collapsed": true
   },
   "outputs": [],
   "source": []
  },
  {
   "cell_type": "code",
   "execution_count": null,
   "metadata": {
    "collapsed": true
   },
   "outputs": [],
   "source": []
  },
  {
   "cell_type": "code",
   "execution_count": null,
   "metadata": {
    "collapsed": true
   },
   "outputs": [],
   "source": []
  }
 ],
 "metadata": {
  "kernelspec": {
   "display_name": "Python [default]",
   "language": "python",
   "name": "python3"
  },
  "language_info": {
   "codemirror_mode": {
    "name": "ipython",
    "version": 3
   },
   "file_extension": ".py",
   "mimetype": "text/x-python",
   "name": "python",
   "nbconvert_exporter": "python",
   "pygments_lexer": "ipython3",
   "version": "3.6.1"
  }
 },
 "nbformat": 4,
 "nbformat_minor": 2
}
