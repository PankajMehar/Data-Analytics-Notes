{
 "cells": [
  {
   "cell_type": "markdown",
   "metadata": {},
   "source": [
    "# Quiz 1 : Auditing Data Quality\n",
    "\n",
    "In this problem set you work with cities infobox data, audit it, come up with a\n",
    "cleaning idea and then clean it up. In the first exercise we want you to audit\n",
    "the datatypes that can be found in some particular fields in the dataset.\n",
    "The possible types of values can be:\n",
    "- NoneType if the value is a string \"NULL\" or an empty string \"\"\n",
    "- list, if the value starts with \"{\"\n",
    "- int, if the value can be cast to int\n",
    "- float, if the value can be cast to float, but CANNOT be cast to int.\n",
    "   For example, '3.23e+07' should be considered a float because it can be cast\n",
    "   as float but int('3.23e+07') will throw a ValueError\n",
    "- 'str', for all other values\n",
    "\n",
    "The audit_file function should return a dictionary containing fieldnames and a \n",
    "SET of the types that can be found in the field. e.g.\n",
    "{\"field1\": set([type(float()), type(int()), type(str())]),\n",
    " \"field2\": set([type(str())]),\n",
    "  ....\n",
    "}\n",
    "The type() function returns a type object describing the argument given to the \n",
    "function. You can also use examples of objects to create type objects, e.g.\n",
    "type(1.1) for a float: see the test function below for examples.\n",
    "\n",
    "Note that the first three rows (after the header row) in the cities.csv file\n",
    "are not actual data points. The contents of these rows should note be included\n",
    "when processing data types. Be sure to include functionality in your code to\n",
    "skip over or detect these rows.\n",
    "\"\"\""
   ]
  },
  {
   "cell_type": "code",
   "execution_count": 1,
   "metadata": {
    "collapsed": true
   },
   "outputs": [],
   "source": [
    "import codecs\n",
    "import csv\n",
    "import json\n",
    "from pprint import pprint"
   ]
  },
  {
   "cell_type": "code",
   "execution_count": 2,
   "metadata": {
    "collapsed": true
   },
   "outputs": [],
   "source": [
    "CITIES = 'cities2.csv.txt'\n",
    "\n",
    "FIELDS = [\"name\", \"timeZone_label\", \"utcOffset\", \"homepage\", \"governmentType_label\",\n",
    "          \"isPartOf_label\", \"areaCode\", \"populationTotal\", \"elevation\",\n",
    "          \"maximumElevation\", \"minimumElevation\", \"populationDensity\",\n",
    "          \"wgs84_pos#lat\", \"wgs84_pos#long\", \"areaLand\", \"areaMetro\", \"areaUrban\"]"
   ]
  },
  {
   "cell_type": "code",
   "execution_count": 3,
   "metadata": {
    "collapsed": true
   },
   "outputs": [],
   "source": [
    "def audit_file(filename, fields):\n",
    "    fieldtypes = {}\n",
    "\n",
    "    for fieldtype in fields: \n",
    "        fieldtypes[fieldtype] = set()\n",
    "     \n",
    "    with open(filename, \"r\") as raw:\n",
    "        data = csv.DictReader(raw)\n",
    "        \n",
    "        for i in range(3):\n",
    "            next(data)\n",
    "            \n",
    "        for line in data:\n",
    "            for field in fields: \n",
    "                if line[field] == \"NULL\" or line[field] == \"\": \n",
    "                    fieldtypes[field].add(type(None))\n",
    "                elif line[field].startswith(\"{\"):\n",
    "                    fieldtypes[field].add(type([]))\n",
    "                else:\n",
    "                    try: \n",
    "                        int(line[field])\n",
    "                        fieldtypes[field].add(type(3))\n",
    "                    except:\n",
    "                        try:\n",
    "                            float(line[field])\n",
    "                            fieldtypes[field].add(type(1.1))                          \n",
    "                        except: \n",
    "                            fieldtypes[field].add(type(\"str\"))\n",
    "    return(fieldtypes)\n"
   ]
  },
  {
   "cell_type": "code",
   "execution_count": 4,
   "metadata": {},
   "outputs": [
    {
     "name": "stdout",
     "output_type": "stream",
     "text": [
      "{'areaCode': {<class 'str'>, <class 'int'>, <class 'NoneType'>},\n",
      " 'areaLand': {<class 'float'>, <class 'list'>, <class 'NoneType'>},\n",
      " 'areaMetro': {<class 'float'>, <class 'NoneType'>},\n",
      " 'areaUrban': {<class 'float'>, <class 'NoneType'>},\n",
      " 'elevation': {<class 'float'>, <class 'list'>, <class 'NoneType'>},\n",
      " 'governmentType_label': {<class 'str'>, <class 'NoneType'>},\n",
      " 'homepage': {<class 'str'>, <class 'NoneType'>},\n",
      " 'isPartOf_label': {<class 'str'>, <class 'list'>, <class 'NoneType'>},\n",
      " 'maximumElevation': {<class 'NoneType'>},\n",
      " 'minimumElevation': {<class 'NoneType'>},\n",
      " 'name': {<class 'str'>, <class 'list'>, <class 'NoneType'>},\n",
      " 'populationDensity': {<class 'float'>, <class 'list'>, <class 'NoneType'>},\n",
      " 'populationTotal': {<class 'int'>, <class 'NoneType'>},\n",
      " 'timeZone_label': {<class 'str'>, <class 'NoneType'>},\n",
      " 'utcOffset': {<class 'list'>,\n",
      "               <class 'int'>,\n",
      "               <class 'NoneType'>,\n",
      "               <class 'str'>},\n",
      " 'wgs84_pos#lat': {<class 'float'>},\n",
      " 'wgs84_pos#long': {<class 'float'>}}\n"
     ]
    }
   ],
   "source": [
    "fieldtypes = audit_file(CITIES, FIELDS)\n",
    "\n",
    "pprint(fieldtypes)\n",
    "\n",
    "#    assert fieldtypes[\"areaLand\"] == set([type(1.1), type([]), type(None)])\n",
    "#    assert fieldtypes['areaMetro'] == set([type(1.1), type(None)])"
   ]
  },
  {
   "cell_type": "markdown",
   "metadata": {},
   "source": [
    "# Quiz 3\n",
    "\n",
    "\"\"\"\n",
    "In this problem set you work with cities infobox data, audit it, come up with a\n",
    "cleaning idea and then clean it up.\n",
    "\n",
    "Since in the previous quiz you made a decision on which value to keep for the\n",
    "\"areaLand\" field, you now know what has to be done.\n",
    "\n",
    "Finish the function fix_area(). It will receive a string as an input, and it\n",
    "has to return a float representing the value of the area or None.\n",
    "You have to change the function fix_area. You can use extra functions if you\n",
    "like, but changes to process_file will not be taken into account.\n",
    "The rest of the code is just an example on how this function can be used.\n",
    "\"\"\"\n",
    "\n",
    "## For a list of values, choose the value which has the maximum significant digits."
   ]
  },
  {
   "cell_type": "code",
   "execution_count": 5,
   "metadata": {
    "collapsed": true
   },
   "outputs": [],
   "source": [
    "def fix_area(area):\n",
    "\n",
    "    if area == 'NULL':\n",
    "        area = None\n",
    "    elif '|' in area:\n",
    "        area = area.replace('{','')\n",
    "        area = area.replace('}','')\n",
    "        area = area.split('|')\n",
    "        if len(area[0])>len(area[1]):\n",
    "            area = float(area[0])\n",
    "        else:\n",
    "            area = float(area[1])\n",
    "    else:\n",
    "        area = float(area)\n",
    "\n",
    "    return area\n"
   ]
  },
  {
   "cell_type": "code",
   "execution_count": 6,
   "metadata": {
    "collapsed": true
   },
   "outputs": [],
   "source": [
    "def process_file(filename):\n",
    "    # CHANGES TO THIS FUNCTION WILL BE IGNORED WHEN YOU SUBMIT THE EXERCISE\n",
    "    data = []\n",
    "\n",
    "    with open(filename, \"r\") as f:\n",
    "        reader = csv.DictReader(f)\n",
    "\n",
    "        #skipping the extra metadata\n",
    "        for i in range(3):\n",
    "            next(reader)\n",
    "\n",
    "        # processing file\n",
    "        for line in reader:\n",
    "            # calling your function to fix the area value\n",
    "            if \"areaLand\" in line:\n",
    "                line[\"areaLand\"] = fix_area(line[\"areaLand\"])\n",
    "            data.append(line)\n",
    "\n",
    "    return data"
   ]
  },
  {
   "cell_type": "code",
   "execution_count": 7,
   "metadata": {},
   "outputs": [
    {
     "name": "stdout",
     "output_type": "stream",
     "text": [
      "Printing three example results:\n",
      "None\n",
      "101787000.0\n",
      "31597900.0\n"
     ]
    }
   ],
   "source": [
    "data = process_file(CITIES)\n",
    "print(\"Printing three example results:\")\n",
    "for n in range(5,8):\n",
    "    pprint(data[n][\"areaLand\"])"
   ]
  },
  {
   "cell_type": "markdown",
   "metadata": {},
   "source": [
    "# Quiz 4\n",
    "\n",
    "Explore the data and mark the fields that you think also should be processed in a similar way as 'areaLand' (changed from an array to a single value)\n",
    "\n",
    "* areaMetro\n",
    "* name\n",
    "* postalCode\n",
    "* populationTotal"
   ]
  },
  {
   "cell_type": "markdown",
   "metadata": {},
   "source": [
    "__ Answer : __ populationTotal and areaMetro"
   ]
  },
  {
   "cell_type": "code",
   "execution_count": 8,
   "metadata": {
    "collapsed": true
   },
   "outputs": [],
   "source": [
    "filename = CITIES"
   ]
  },
  {
   "cell_type": "code",
   "execution_count": 9,
   "metadata": {},
   "outputs": [
    {
     "name": "stdout",
     "output_type": "stream",
     "text": [
      "'Kud'\n",
      "'Kuju'\n",
      "'Kumbhraj'\n",
      "'Kumhari'\n",
      "'Kunigal'\n",
      "'Kurgunta'\n",
      "'Athens'\n",
      "'Demopolis'\n",
      "'Chelsea Alabama'\n",
      "'Pell City Alabama'\n",
      "'City of Northport'\n",
      "'Sand Point'\n",
      "'Unalaska Alaska'\n",
      "'City of Menlo Park'\n",
      "'{Negtemiut|Nightmute}'\n",
      "'Fairbanks Alaska'\n",
      "'Homer'\n",
      "'Ketchikan Alaska'\n",
      "'{Nuniaq|Old Harbor}'\n",
      "'Rainier Washington'\n",
      "'City of Blaine'\n",
      "'Ferndale Washington'\n",
      "'Mabton Washington'\n",
      "'Zillah Washington'\n",
      "'Kenova West Virginia'\n",
      "'Fitchburg Wisconsin'\n",
      "'Stoughton Wisconsin'\n",
      "'Watertown Wisconsin'\n",
      "'LaCrosse Wisconsin'\n",
      "'Wauwatosa Wisconsin'\n",
      "'Osseo Wisconsin'\n",
      "'Muskego Wisconsin'\n",
      "'Clintonville Wisconsin'\n",
      "'Hartford Wisconsin'\n",
      "'City of Spokane Valley Washington'\n",
      "'NULL'\n",
      "'Dortmund'\n",
      "'Stratford Iowa'\n",
      "'Forest City Iowa'\n"
     ]
    }
   ],
   "source": [
    "with open(filename, \"r\") as raw:\n",
    "        data = csv.DictReader(raw)\n",
    "        \n",
    "        #skipping the extra metadata\n",
    "        for i in range(3):\n",
    "            next(data)\n",
    "            \n",
    "        for line in data:\n",
    "            pprint(line['name'])"
   ]
  },
  {
   "cell_type": "markdown",
   "metadata": {},
   "source": [
    "# Quiz 5 : Fixing Name\n",
    "\n",
    "\"\"\"\n",
    "In this problem set you work with cities infobox data, audit it, come up with a\n",
    "cleaning idea and then clean it up.\n",
    "\n",
    "In the previous quiz you recognized that the \"name\" value can be an array (or\n",
    "list in Python terms). It would make it easier to process and query the data\n",
    "later if all values for the name are in a Python list, instead of being\n",
    "just a string separated with special characters, like now.\n",
    "\n",
    "Finish the function fix_name(). It will recieve a string as an input, and it\n",
    "will return a list of all the names. If there is only one name, the list will\n",
    "have only one item in it; if the name is \"NULL\", the list should be empty.\n",
    "The rest of the code is just an example on how this function can be used.\n",
    "\"\"\""
   ]
  },
  {
   "cell_type": "code",
   "execution_count": 10,
   "metadata": {
    "collapsed": true
   },
   "outputs": [],
   "source": [
    "def fix_name(name):\n",
    "\n",
    "    t = []\n",
    "    if name == 'NULL':\n",
    "        name = t\n",
    "    elif '|' in name:\n",
    "        name = name.replace('{','')\n",
    "        name = name.replace('}','')\n",
    "        name = name.split('|')\n",
    "    else:\n",
    "        t.append(name)\n",
    "        name = t\n",
    "        \n",
    "    return name"
   ]
  },
  {
   "cell_type": "code",
   "execution_count": 11,
   "metadata": {
    "collapsed": true
   },
   "outputs": [],
   "source": [
    "def process_file_name(filename):\n",
    "    data = []\n",
    "    with open(filename, \"r\") as f:\n",
    "        reader = csv.DictReader(f)\n",
    "        #skipping the extra metadata\n",
    "        for i in range(3):\n",
    "            next(reader)\n",
    "        # processing file\n",
    "        for line in reader:\n",
    "            # calling your function to fix the area value\n",
    "            if \"name\" in line:\n",
    "                line[\"name\"] = fix_name(line[\"name\"])\n",
    "            data.append(line)\n",
    "    return data\n"
   ]
  },
  {
   "cell_type": "code",
   "execution_count": 12,
   "metadata": {},
   "outputs": [
    {
     "name": "stdout",
     "output_type": "stream",
     "text": [
      "Printing 20 results:\n",
      "['Kud']\n",
      "['Kuju']\n",
      "['Kumbhraj']\n",
      "['Kumhari']\n",
      "['Kunigal']\n",
      "['Kurgunta']\n",
      "['Athens']\n",
      "['Demopolis']\n",
      "['Chelsea Alabama']\n",
      "['Pell City Alabama']\n",
      "['City of Northport']\n",
      "['Sand Point']\n",
      "['Unalaska Alaska']\n",
      "['City of Menlo Park']\n",
      "['Negtemiut', 'Nightmute']\n",
      "['Fairbanks Alaska']\n",
      "['Homer']\n",
      "['Ketchikan Alaska']\n",
      "['Nuniaq', 'Old Harbor']\n",
      "['Rainier Washington']\n"
     ]
    }
   ],
   "source": [
    "def test():\n",
    "    data = process_file_name(CITIES)\n",
    "\n",
    "    print(\"Printing 20 results:\")\n",
    "    for n in range(20):\n",
    "        pprint(data[n][\"name\"])\n",
    "\n",
    "    assert data[14][\"name\"] == ['Negtemiut', 'Nightmute']\n",
    "    assert data[9][\"name\"] == ['Pell City Alabama']\n",
    "    assert data[3][\"name\"] == ['Kumhari']\n",
    "\n",
    "if __name__ == \"__main__\":\n",
    "    test()"
   ]
  },
  {
   "cell_type": "markdown",
   "metadata": {},
   "source": [
    "# Quiz 6 : Crossfiled auditing\n",
    "\n",
    "\"\"\"\n",
    "In this problem set you work with cities infobox data, audit it, come up with a\n",
    "cleaning idea and then clean it up.\n",
    "\n",
    "If you look at the full city data, you will notice that there are couple of\n",
    "values that seem to provide the same information in different formats: \"point\"\n",
    "seems to be the combination of \"wgs84_pos#lat\" and \"wgs84_pos#long\". However,\n",
    "we do not know if that is the case and should check if they are equivalent.\n",
    "\n",
    "Finish the function check_loc(). It will recieve 3 strings: first, the combined\n",
    "value of \"point\" followed by the separate \"wgs84_pos#\" values. You have to\n",
    "extract the lat and long values from the \"point\" argument and compare them to\n",
    "the \"wgs84_pos# values, returning True or False.\n",
    "\n",
    "Note that you do not have to fix the values, only determine if they are\n",
    "consistent. To fix them in this case you would need more information. Feel free\n",
    "to discuss possible strategies for fixing this on the discussion forum.\n",
    "\n",
    "The rest of the code is just an example on how this function can be used.\n",
    "Changes to \"process_file\" function will not be taken into account for grading.\n",
    "\"\"\""
   ]
  },
  {
   "cell_type": "code",
   "execution_count": 13,
   "metadata": {},
   "outputs": [
    {
     "name": "stdout",
     "output_type": "stream",
     "text": [
      "'33.08 75.28'\n",
      "'23.72 85.5'\n",
      "'24.37 77.05'\n",
      "'21.27 81.52'\n",
      "'13.02 77.03'\n",
      "'17.2 77.35'\n",
      "'34.789722222222224 -86.96944444444445'\n",
      "'32.50944444444445 -87.83722222222222'\n",
      "'33.329166666666666 -86.65083333333334'\n",
      "'33.57083333333333 -86.27388888888889'\n",
      "'33.25388888888889 -87.59222222222222'\n",
      "'55.336666666666666 -160.49333333333334'\n",
      "'53.888888888888886 -166.52722222222224'\n",
      "'37.454166666666666 -122.17861111111111'\n",
      "'60.49138888888889 -164.82611111111112'\n",
      "'64.84361111111112 -147.72305555555556'\n",
      "'59.643055555555556 -151.52583333333334'\n",
      "'55.35 -131.67333333333335'\n",
      "'57.19722222222222 -153.30777777777777'\n",
      "'46.89083333333333 -122.68972222222222'\n",
      "'48.988055555555555 -122.74361111111111'\n",
      "'48.84888888888889 -122.59027777777777'\n",
      "'46.211666666666666 -119.99638888888889'\n",
      "'46.40361111111111 -120.26083333333334'\n",
      "'38.39972222222222 -82.57861111111112'\n",
      "'43.006388888888885 -89.43138888888889'\n",
      "'42.92111111111111 -89.22444444444444'\n",
      "'43.2 -88.71666666666667'\n",
      "'43.81333333333333 -91.23305555555555'\n",
      "'43.05888888888889 -88.0261111111111'\n",
      "'44.57833333333333 -91.21833333333333'\n",
      "'42.90123611111111 -88.1246388888889'\n",
      "'44.62416666666667 -88.75805555555556'\n",
      "'43.318333333333335 -88.3788888888889'\n",
      "'47.67333333333333 -117.23944444444444'\n",
      "'45.75 126.63333333333334'\n",
      "'51.516666666666666 7.466666666666667'\n",
      "'42.270833333333336 -93.92694444444444'\n",
      "'43.261944444444445 -93.64027777777778'\n"
     ]
    }
   ],
   "source": [
    "with open(filename, \"r\") as raw:\n",
    "        data = csv.DictReader(raw)\n",
    "        \n",
    "        #skipping the extra metadata\n",
    "        for i in range(3):\n",
    "            next(data)\n",
    "            \n",
    "        for line in data:\n",
    "            pprint(line[\"point\"])"
   ]
  },
  {
   "cell_type": "code",
   "execution_count": 14,
   "metadata": {
    "collapsed": true
   },
   "outputs": [],
   "source": [
    "def check_loc(point, lat, longi):\n",
    "    point = point.split(' ')\n",
    "    if point[0] == lat and point[1] == longi:\n",
    "        return(True)\n",
    "    else:\n",
    "        return(False)"
   ]
  },
  {
   "cell_type": "code",
   "execution_count": 15,
   "metadata": {
    "collapsed": true
   },
   "outputs": [],
   "source": [
    "def process_file(filename):\n",
    "    data = []\n",
    "    with open(filename, \"r\") as f:\n",
    "        reader = csv.DictReader(f)\n",
    "        #skipping the extra matadata\n",
    "        for i in range(3):\n",
    "            l = reader.next()\n",
    "        # processing file\n",
    "        for line in reader:\n",
    "            # calling your function to check the location\n",
    "            result = check_loc(line[\"point\"], line[\"wgs84_pos#lat\"], line[\"wgs84_pos#long\"])\n",
    "            if not result:\n",
    "                print(\"{}: {} != {} {}\".format(line[\"name\"], line[\"point\"], line[\"wgs84_pos#lat\"], line[\"wgs84_pos#long\"]))\n",
    "            data.append(line)\n",
    "\n",
    "    return data"
   ]
  },
  {
   "cell_type": "code",
   "execution_count": 16,
   "metadata": {
    "collapsed": true
   },
   "outputs": [],
   "source": [
    "def test():\n",
    "    assert check_loc(\"33.08 75.28\", \"33.08\", \"75.28\") == True\n",
    "    assert check_loc(\"44.57833333333333 -91.21833333333333\", \"44.5783\", \"-91.2183\") == False\n",
    "    print(\"Everything is fine. . . . . The code works\")"
   ]
  },
  {
   "cell_type": "code",
   "execution_count": 17,
   "metadata": {},
   "outputs": [
    {
     "name": "stdout",
     "output_type": "stream",
     "text": [
      "Everything is fine. . . . . The code works\n"
     ]
    }
   ],
   "source": [
    "if __name__ == \"__main__\":\n",
    "    test()"
   ]
  },
  {
   "cell_type": "code",
   "execution_count": null,
   "metadata": {
    "collapsed": true
   },
   "outputs": [],
   "source": []
  }
 ],
 "metadata": {
  "kernelspec": {
   "display_name": "Python [default]",
   "language": "python",
   "name": "python3"
  },
  "language_info": {
   "codemirror_mode": {
    "name": "ipython",
    "version": 3
   },
   "file_extension": ".py",
   "mimetype": "text/x-python",
   "name": "python",
   "nbconvert_exporter": "python",
   "pygments_lexer": "ipython3",
   "version": "3.6.1"
  }
 },
 "nbformat": 4,
 "nbformat_minor": 2
}
