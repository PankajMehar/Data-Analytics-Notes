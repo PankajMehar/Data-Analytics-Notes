{
 "cells": [
  {
   "cell_type": "code",
   "execution_count": 5,
   "metadata": {
    "collapsed": true
   },
   "outputs": [],
   "source": [
    "import xlrd  # Python module for extracting data from MS Excel ™ spreadsheet files.\n",
    "import pprint   #  pprint module provides a capability to “pretty-print” arbitrary Python data structures"
   ]
  },
  {
   "cell_type": "code",
   "execution_count": 6,
   "metadata": {
    "collapsed": true
   },
   "outputs": [],
   "source": [
    "# URL for data = http://content.udacity-data.com/ud032/ERCOT/2013_ERCOT_Hourly_Load_Data.zip\n",
    "datafile = \"2013_ERCOT_Hourly_Load_Data.xls\"  "
   ]
  },
  {
   "cell_type": "code",
   "execution_count": 7,
   "metadata": {},
   "outputs": [],
   "source": [
    "workbook = xlrd.open_workbook(datafile)  # # Open and read an excel file\n",
    "sheet = workbook.sheet_by_index(0)    # Selecting a sheet of an excel file"
   ]
  },
  {
   "cell_type": "code",
   "execution_count": 8,
   "metadata": {},
   "outputs": [
    {
     "name": "stdout",
     "output_type": "stream",
     "text": [
      "7296\n",
      "10\n"
     ]
    }
   ],
   "source": [
    "# nrows and ncols attributes contain the number of rows and the number of columns for that particular sheet\n",
    "# respectively, in the worksheet.\n",
    "print(sheet.nrows)\n",
    "print(sheet.ncols)"
   ]
  },
  {
   "cell_type": "markdown",
   "metadata": {},
   "source": [
    "## To get a slice of values from a column/row"
   ]
  },
  {
   "cell_type": "code",
   "execution_count": 9,
   "metadata": {},
   "outputs": [
    {
     "data": {
      "text/plain": [
       "[7606.263544000012, 7388.082713999988, 7178.867877999996, 7038.822581000004]"
      ]
     },
     "execution_count": 9,
     "metadata": {},
     "output_type": "execute_result"
    }
   ],
   "source": [
    "column_number = 1\n",
    "CV = sheet.col_values(column_number, start_rowx=1, end_rowx=5)   #(get slice from 1 t0 (5-1)=4)\n",
    "CV"
   ]
  },
  {
   "cell_type": "code",
   "execution_count": 23,
   "metadata": {},
   "outputs": [
    {
     "data": {
      "text/plain": [
       "[41275.125,\n",
       " 7178.867877999996,\n",
       " 1036.0886969999988,\n",
       " 1395.053150000001,\n",
       " 768.1257480000011,\n",
       " 9988.051418000014,\n",
       " 2065.114705999998,\n",
       " 4082.8628599999975,\n",
       " 868.8539380000013,\n",
       " 27383.018395000006]"
      ]
     },
     "execution_count": 23,
     "metadata": {},
     "output_type": "execute_result"
    }
   ],
   "source": [
    "row_number = 3\n",
    "RV = sheet.row_values(row_number, start_colx=0, end_colx=None) # Here slice is taken from the beginning to the end of row.\n",
    "RV"
   ]
  },
  {
   "cell_type": "markdown",
   "metadata": {},
   "source": [
    "## # List comprehension"
   ]
  },
  {
   "cell_type": "code",
   "execution_count": 10,
   "metadata": {
    "collapsed": true
   },
   "outputs": [],
   "source": [
    "# # Here looping through all rows and columns reading all dos data into a python list   \n",
    "#  get the data as list of lists\n",
    "data = [[sheet.cell_value(r,col) for col in range(sheet.ncols)] for r in range(sheet.nrows)]"
   ]
  },
  {
   "cell_type": "code",
   "execution_count": 11,
   "metadata": {},
   "outputs": [
    {
     "name": "stdout",
     "output_type": "stream",
     "text": [
      "\n",
      "Type of data in cell (row 3, col 2):\n",
      "Type of data :  2\n",
      "Data type in that cell :  1036.0886969999988\n"
     ]
    }
   ],
   "source": [
    "# Here data types are represented by numbers--- check documentation for their name\n",
    "print(\"\\nType of data in cell (row 3, col 2):\") \n",
    "print(\"Type of data : \",sheet.cell_type(3, 2))   # To check data type or value type for that particular cell\n",
    "print(\"Data type in that cell : \",sheet.cell_value(3, 2)) ## gets value stored in that cell"
   ]
  },
  {
   "cell_type": "code",
   "execution_count": 12,
   "metadata": {},
   "outputs": [
    {
     "name": "stdout",
     "output_type": "stream",
     "text": [
      "\n",
      "DATES:\n",
      "\n",
      "Type of data in cell (row 1, col 0):\n",
      "3\n",
      "\n",
      "Time in Excel format:\n",
      "41275.041666666664\n",
      "\n",
      " Convert time to a Python datetime tuple, from the Excel float: \n",
      "(2013, 1, 1, 1, 0, 0)\n"
     ]
    }
   ],
   "source": [
    "print(\"\\nDATES:\")\n",
    "print(\"\\nType of data in cell (row 1, col 0):\") \n",
    "print(sheet.cell_type(1, 0))\n",
    "exceltime = sheet.cell_value(1, 0)   # In old excel files dates were represented as floating point numbers\n",
    "print(\"\\nTime in Excel format:\")\n",
    "print(exceltime)\n",
    "print(\"\\n Convert time to a Python datetime tuple, from the Excel float: \")\n",
    "print(xlrd.xldate_as_tuple(exceltime, 0)) # Here put 0 in the input of method didnt understand the reason for it."
   ]
  },
  {
   "cell_type": "code",
   "execution_count": 13,
   "metadata": {},
   "outputs": [
    {
     "name": "stdout",
     "output_type": "stream",
     "text": [
      "Maximum :  18779.025510000003\n",
      "Minimum :  6602.113898999982\n",
      "Average :  10976.933460679751\n"
     ]
    }
   ],
   "source": [
    "coast = []\n",
    "for r in range(1,sheet.nrows):\n",
    "    coast.append(data[r][1])\n",
    "\n",
    "max_coast = max(coast)\n",
    "min_coast = min(coast)\n",
    "avg_coast = sum(coast)/len(coast)\n",
    "print(\"Maximum : \", max_coast)\n",
    "print(\"Minimum : \",min_coast)\n",
    "print(\"Average : \",avg_coast)"
   ]
  },
  {
   "cell_type": "code",
   "execution_count": 14,
   "metadata": {
    "collapsed": true
   },
   "outputs": [],
   "source": [
    "date = []\n",
    "for r in range(1,sheet.nrows):\n",
    "    date.append(data[r][0])"
   ]
  },
  {
   "cell_type": "code",
   "execution_count": 15,
   "metadata": {},
   "outputs": [
    {
     "data": {
      "text/plain": [
       "(2013, 8, 13, 17, 0, 0)"
      ]
     },
     "execution_count": 15,
     "metadata": {},
     "output_type": "execute_result"
    }
   ],
   "source": [
    "index_maxtime = coast.index(max_coast)\n",
    "maxtime = xlrd.xldate_as_tuple(date[index_maxtime], 0)\n",
    "maxtime"
   ]
  },
  {
   "cell_type": "code",
   "execution_count": 16,
   "metadata": {},
   "outputs": [
    {
     "data": {
      "text/plain": [
       "(2013, 2, 3, 4, 0, 0)"
      ]
     },
     "execution_count": 16,
     "metadata": {},
     "output_type": "execute_result"
    }
   ],
   "source": [
    "index_mintime = coast.index(min_coast)\n",
    "mintime = xlrd.xldate_as_tuple(date[index_mintime],0)\n",
    "mintime"
   ]
  },
  {
   "cell_type": "code",
   "execution_count": 17,
   "metadata": {
    "collapsed": true
   },
   "outputs": [],
   "source": [
    "data = {\n",
    "            'maxtime': maxtime,\n",
    "            'maxvalue': max_coast,\n",
    "            'mintime': mintime,\n",
    "            'minvalue': min_coast,\n",
    "            'avgcoast': avg_coast\n",
    "     }"
   ]
  },
  {
   "cell_type": "code",
   "execution_count": 18,
   "metadata": {},
   "outputs": [
    {
     "data": {
      "text/plain": [
       "{'avgcoast': 10976.933460679751,\n",
       " 'maxtime': (2013, 8, 13, 17, 0, 0),\n",
       " 'maxvalue': 18779.025510000003,\n",
       " 'mintime': (2013, 2, 3, 4, 0, 0),\n",
       " 'minvalue': 6602.113898999982}"
      ]
     },
     "execution_count": 18,
     "metadata": {},
     "output_type": "execute_result"
    }
   ],
   "source": [
    "data"
   ]
  },
  {
   "cell_type": "code",
   "execution_count": 19,
   "metadata": {},
   "outputs": [
    {
     "name": "stdout",
     "output_type": "stream",
     "text": [
      "{'maxtime': (2013, 8, 13, 17, 0, 0), 'maxvalue': 18779.025510000003, 'mintime': (2013, 2, 3, 4, 0, 0), 'minvalue': 6602.113898999982, 'avgcoast': 10976.933460679751}\n"
     ]
    }
   ],
   "source": [
    "print(data)"
   ]
  },
  {
   "cell_type": "code",
   "execution_count": 20,
   "metadata": {},
   "outputs": [
    {
     "name": "stdout",
     "output_type": "stream",
     "text": [
      "{'avgcoast': 10976.933460679751,\n",
      " 'maxtime': (2013, 8, 13, 17, 0, 0),\n",
      " 'maxvalue': 18779.025510000003,\n",
      " 'mintime': (2013, 2, 3, 4, 0, 0),\n",
      " 'minvalue': 6602.113898999982}\n"
     ]
    }
   ],
   "source": [
    "pprint.pprint(data) # To get the data output in a nicely structured way"
   ]
  }
 ],
 "metadata": {
  "kernelspec": {
   "display_name": "Python [default]",
   "language": "python",
   "name": "python3"
  },
  "language_info": {
   "codemirror_mode": {
    "name": "ipython",
    "version": 3
   },
   "file_extension": ".py",
   "mimetype": "text/x-python",
   "name": "python",
   "nbconvert_exporter": "python",
   "pygments_lexer": "ipython3",
   "version": "3.6.1"
  }
 },
 "nbformat": 4,
 "nbformat_minor": 2
}
