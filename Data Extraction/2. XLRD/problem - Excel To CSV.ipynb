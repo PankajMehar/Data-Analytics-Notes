{
 "cells": [
  {
   "cell_type": "markdown",
   "metadata": {},
   "source": [
    "'''\n",
    "Find the time and value of max load for each of the regions\n",
    "COAST, EAST, FAR_WEST, NORTH, NORTH_C, SOUTHERN, SOUTH_C, WEST\n",
    "and write the result out in a csv file, using pipe character | as the delimiter.\n",
    "\n",
    "An example output can be seen in the \"example.csv\" file.\n",
    "'''"
   ]
  },
  {
   "cell_type": "code",
   "execution_count": 8,
   "metadata": {
    "collapsed": true
   },
   "outputs": [],
   "source": [
    "import xlrd\n",
    "import os\n",
    "import csv\n",
    "from pprint import pprint"
   ]
  },
  {
   "cell_type": "code",
   "execution_count": 2,
   "metadata": {
    "collapsed": true
   },
   "outputs": [],
   "source": [
    "datafile = \"2013_ERCOT_Hourly_Load_Data.xls\""
   ]
  },
  {
   "cell_type": "code",
   "execution_count": 10,
   "metadata": {},
   "outputs": [
    {
     "name": "stdout",
     "output_type": "stream",
     "text": [
      "{'COAST': {'maxtime': (2013, 8, 13, 17, 0, 0), 'maxval': 18779.025510000003},\n",
      " 'EAST': {'maxtime': (2013, 8, 5, 17, 0, 0), 'maxval': 2380.1654089999956},\n",
      " 'FAR_WEST': {'maxtime': (2013, 6, 26, 17, 0, 0), 'maxval': 2281.2722140000024},\n",
      " 'NORTH': {'maxtime': (2013, 8, 7, 17, 0, 0), 'maxval': 1544.7707140000005},\n",
      " 'NORTH_C': {'maxtime': (2013, 8, 7, 18, 0, 0), 'maxval': 24415.570226999993},\n",
      " 'SOUTHERN': {'maxtime': (2013, 8, 8, 16, 0, 0), 'maxval': 5494.157645},\n",
      " 'SOUTH_C': {'maxtime': (2013, 8, 8, 18, 0, 0), 'maxval': 11433.30491600001},\n",
      " 'WEST': {'maxtime': (2013, 8, 7, 17, 0, 0), 'maxval': 1862.6137649999998}}\n"
     ]
    }
   ],
   "source": [
    "# YOUR CODE HERE\n",
    "# Remember that you can use xlrd.xldate_as_tuple(sometime, 0) to convert\n",
    "# Excel date to Python tuple of (year, month, day, hour, minute, second)\n",
    "    \n",
    "workbook = xlrd.open_workbook(datafile)\n",
    "sheet = workbook.sheet_by_index(0)\n",
    "data = {}\n",
    "# process all rows that contain station data\n",
    "for n in range (1, 9):\n",
    "    station = sheet.cell_value(0, n)\n",
    "    cv = sheet.col_values(n, start_rowx=1, end_rowx=None)\n",
    "    maxval = max(cv)\n",
    "    maxpos = cv.index(maxval) + 1\n",
    "    maxtime = sheet.cell_value(maxpos, 0)\n",
    "    realtime = xlrd.xldate_as_tuple(maxtime, 0)\n",
    "    data[station] = {\"maxval\": maxval,\"maxtime\": realtime}\n",
    "pprint(data)"
   ]
  },
  {
   "cell_type": "code",
   "execution_count": 15,
   "metadata": {},
   "outputs": [],
   "source": [
    "with open(\"output_file.csv\", \"w\") as f:\n",
    "    w = csv.writer(f, delimiter='|')\n",
    "    w.writerow([\"Station\", \"Year\", \"Month\", \"Day\", \"Hour\", \"Max Load\"])\n",
    "    for s in data:\n",
    "        year, month, day, hour, _ , _= data[s][\"maxtime\"]\n",
    "        w.writerow([s, year, month, day, hour, data[s][\"maxval\"]])"
   ]
  },
  {
   "cell_type": "code",
   "execution_count": 16,
   "metadata": {},
   "outputs": [],
   "source": [
    "# No need for this to run\n",
    "# Need to study some functions 'assert', 'with --- of'\n",
    "\n",
    "\n",
    "def test():\n",
    "    data = parse_file(datafile)\n",
    "    save_file(data, outfile)\n",
    "\n",
    "    number_of_rows = 0\n",
    "    stations = []\n",
    "\n",
    "    ans = {'FAR_WEST': {'Max Load': '2281.2722140000024',\n",
    "                        'Year': '2013',\n",
    "                        'Month': '6',\n",
    "                        'Day': '26',\n",
    "                        'Hour': '17'}}\n",
    "    correct_stations = ['COAST', 'EAST', 'FAR_WEST', 'NORTH',\n",
    "                        'NORTH_C', 'SOUTHERN', 'SOUTH_C', 'WEST']\n",
    "    fields = ['Year', 'Month', 'Day', 'Hour', 'Max Load']\n",
    "\n",
    "    with open(outfile) as of:\n",
    "        csvfile = csv.DictReader(of, delimiter=\"|\")\n",
    "        for line in csvfile:\n",
    "            station = line['Station']\n",
    "            if station == 'FAR_WEST':\n",
    "                for field in fields:\n",
    "                    # Check if 'Max Load' is within .1 of answer\n",
    "                    if field == 'Max Load':\n",
    "                        max_answer = round(float(ans[station][field]), 1)\n",
    "                        max_line = round(float(line[field]), 1)\n",
    "                        assert max_answer == max_line\n",
    "\n",
    "                    # Otherwise check for equality\n",
    "                    else:\n",
    "                        assert ans[station][field] == line[field]\n",
    "\n",
    "            number_of_rows += 1\n",
    "            stations.append(station)\n",
    "\n",
    "        # Output should be 8 lines not including header\n",
    "        assert number_of_rows == 8\n",
    "\n",
    "        # Check Station Names\n",
    "        assert set(stations) == set(correct_stations)\n",
    "\n",
    "        \n"
   ]
  },
  {
   "cell_type": "code",
   "execution_count": null,
   "metadata": {
    "collapsed": true
   },
   "outputs": [],
   "source": []
  }
 ],
 "metadata": {
  "kernelspec": {
   "display_name": "Python [default]",
   "language": "python",
   "name": "python3"
  },
  "language_info": {
   "codemirror_mode": {
    "name": "ipython",
    "version": 3
   },
   "file_extension": ".py",
   "mimetype": "text/x-python",
   "name": "python",
   "nbconvert_exporter": "python",
   "pygments_lexer": "ipython3",
   "version": "3.6.1"
  }
 },
 "nbformat": 4,
 "nbformat_minor": 2
}
