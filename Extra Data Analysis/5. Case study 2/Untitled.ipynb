{
 "cells": [
  {
   "cell_type": "markdown",
   "metadata": {},
   "source": [
    "In this second case study, you'll be analyzing [fuel economy data provided by the EPA](https://www.epa.gov/compliance-and-fuel-economy-data/data-cars-used-testing-fuel-economy), or Environmental Protection Agency.\n",
    "\n",
    "### What is Fuel Economy?\n",
    "Excerpt from Wikipedia page on Fuel Economy in Automobiles:\n",
    "\n",
    ">The fuel economy of an automobile is the fuel efficiency relationship between the distance traveled and the amount of fuel consumed by the vehicle. Consumption can be expressed in terms of volume of fuel to travel a distance, or the distance travelled per unit volume of fuel consumed.\n",
    "\n",
    "\n",
    "Here are the web pages from this video:\n",
    "\n",
    "[EPA Fuel Economy Testing](https://www.epa.gov/compliance-and-fuel-economy-data/data-cars-used-testing-fuel-economy)    \n",
    "[DOE Fuel Economy Data](http://www.fueleconomy.gov/feg/download.shtml)  \n",
    "\n",
    "Using Documentatation to Understand Data  \n",
    "Here are the files you saw in the last video. Use them to help you answer the following questions.\n",
    "\n",
    "[README.txt download link](http://www.fueleconomy.gov/feg/epadata/Readme.txt)  \n",
    "[PDF link](http://www.fueleconomy.gov/feg/EPAGreenGuide/GreenVehicleGuideDocumentation.pdf)"
   ]
  },
  {
   "cell_type": "code",
   "execution_count": null,
   "metadata": {},
   "outputs": [],
   "source": []
  }
 ],
 "metadata": {
  "kernelspec": {
   "display_name": "Python 3",
   "language": "python",
   "name": "python3"
  },
  "language_info": {
   "codemirror_mode": {
    "name": "ipython",
    "version": 3
   },
   "file_extension": ".py",
   "mimetype": "text/x-python",
   "name": "python",
   "nbconvert_exporter": "python",
   "pygments_lexer": "ipython3",
   "version": "3.6.3"
  }
 },
 "nbformat": 4,
 "nbformat_minor": 2
}
