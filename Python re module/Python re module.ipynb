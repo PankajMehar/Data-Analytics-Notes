{
 "cells": [
  {
   "cell_type": "markdown",
   "metadata": {
    "collapsed": true
   },
   "source": [
    "# Python Regular Expressions\n",
    "\n",
    "A regular expression is a special sequence of characters that helps to match or find other strings or sets of strings, using a specialized syntax held in a pattern.\n",
    "\n",
    " It is extremely useful for extracting information from text such as code, files, log, spreadsheets or even documents.\n",
    " \n",
    " While using the regular expression the first thing is to recognize is that everything is essentially a character, and we are writing patterns to match a specific sequence of characters also referred as string. Ascii or latin letters are those that are on your keyboards and Unicode is used to match the foreign text. It includes digits and punctuation and all special characters like $,#,@,!,%, etc.\n",
    " "
   ]
  },
  {
   "cell_type": "markdown",
   "metadata": {},
   "source": [
    "__re module__ is used here. The re module raises the exception re.error if an error occurs while compiling or using a regular expression."
   ]
  },
  {
   "cell_type": "code",
   "execution_count": 1,
   "metadata": {
    "collapsed": true
   },
   "outputs": [],
   "source": [
    "import re"
   ]
  },
  {
   "cell_type": "markdown",
   "metadata": {},
   "source": [
    "## 1. re.search() \n",
    "\n",
    "### Syntax : re.search(pattern, text_string, flags=0)\n",
    "It takes a pattern and a text_string to scan, and returns a Match object when the pattern is found in the text_string. If the pattern is not found, search() returns None.\n",
    "\n",
    "flags : You can specify different flags using bitwise OR (|). These are modifiers.\n",
    "\n",
    "search() is also case-sensitive.\n",
    "\n"
   ]
  },
  {
   "cell_type": "code",
   "execution_count": 3,
   "metadata": {
    "collapsed": true
   },
   "outputs": [],
   "source": [
    "patterns = ['name', 'is', 'Hii', 'George']\n",
    "text_string = 'Hello, my name is Jeswin george'"
   ]
  },
  {
   "cell_type": "code",
   "execution_count": 10,
   "metadata": {},
   "outputs": [
    {
     "name": "stdout",
     "output_type": "stream",
     "text": [
      "Searching for 'name' in 'Hello, my name is Jeswin george'\n",
      "Match found\n",
      "\n",
      "Searching for 'is' in 'Hello, my name is Jeswin george'\n",
      "Match found\n",
      "\n",
      "Searching for 'Hii' in 'Hello, my name is Jeswin george'\n",
      "No matches found\n",
      "\n",
      "Searching for 'George' in 'Hello, my name is Jeswin george'\n",
      "No matches found\n",
      "\n"
     ]
    }
   ],
   "source": [
    "for pattern in patterns:\n",
    "    print(\"Searching for '{}' in '{}'\".format(pattern, text_string))\n",
    "    \n",
    "    if re.search(pattern,  text_string):\n",
    "        print('Match found\\n')\n",
    "    else:\n",
    "        print('No matches found\\n')"
   ]
  },
  {
   "cell_type": "markdown",
   "metadata": {},
   "source": [
    "Observe in the above example __pattern 'George'__ is not found in the __text_string 'Hello, my name is Jeswin george'__. Hence , showing that search() is case-sensitive.\n",
    "\n",
    "The Match object returned by search() holds information about the nature of the match, including the original input string, the regular expression used, and the location within the original string where the pattern occurs."
   ]
  },
  {
   "cell_type": "code",
   "execution_count": 11,
   "metadata": {
    "collapsed": true
   },
   "outputs": [],
   "source": [
    "pattern = 'name'\n",
    "text = 'Hello, my name is Jeswin george'"
   ]
  },
  {
   "cell_type": "code",
   "execution_count": 12,
   "metadata": {
    "collapsed": true
   },
   "outputs": [],
   "source": [
    "match = re.search(pattern, text)"
   ]
  },
  {
   "cell_type": "markdown",
   "metadata": {},
   "source": [
    "The __start()__ and __end()__ methods give the integer indexes into the string showing where the text matched by the pattern occurs."
   ]
  },
  {
   "cell_type": "code",
   "execution_count": 17,
   "metadata": {},
   "outputs": [
    {
     "name": "stdout",
     "output_type": "stream",
     "text": [
      "Text 'Hello, my name is Jeswin george' has a matched pattern 'name' starting from index 10 to index 14\n"
     ]
    }
   ],
   "source": [
    "ms = match.start()\n",
    "me = match.end()\n",
    "print(\"Text '{}' has a matched pattern '{}' starting from index {} to index {}\".format(text,pattern,ms,me))"
   ]
  },
  {
   "cell_type": "markdown",
   "metadata": {
    "collapsed": true
   },
   "source": [
    ".match() is used for complete matches. (That is: Does the string exactly match the pattern defined?).\n",
    "\n",
    ".search() searches a string for a match. (That is: Is there a matching pattern within the string?)."
   ]
  },
  {
   "cell_type": "code",
   "execution_count": null,
   "metadata": {
    "collapsed": true
   },
   "outputs": [],
   "source": []
  }
 ],
 "metadata": {
  "kernelspec": {
   "display_name": "Python [default]",
   "language": "python",
   "name": "python3"
  },
  "language_info": {
   "codemirror_mode": {
    "name": "ipython",
    "version": 3
   },
   "file_extension": ".py",
   "mimetype": "text/x-python",
   "name": "python",
   "nbconvert_exporter": "python",
   "pygments_lexer": "ipython3",
   "version": "3.6.1"
  }
 },
 "nbformat": 4,
 "nbformat_minor": 2
}
