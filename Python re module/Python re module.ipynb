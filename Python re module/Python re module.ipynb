{
 "cells": [
  {
   "cell_type": "markdown",
   "metadata": {
    "collapsed": true
   },
   "source": [
    "# Python Regular Expressions\n",
    "\n",
    "A regular expression is a special sequence of characters that helps to match or find other strings or sets of strings, using a specialized syntax held in a pattern.\n",
    "\n",
    " It is extremely useful for extracting information from text such as code, files, log, spreadsheets or even documents.\n",
    " \n",
    " While using the regular expression the first thing is to recognize is that everything is essentially a character, and we are writing patterns to match a specific sequence of characters also referred as string. Ascii or latin letters are those that are on your keyboards and Unicode is used to match the foreign text. It includes digits and punctuation and all special characters like $,#,@,!,%, etc.\n",
    " "
   ]
  },
  {
   "cell_type": "markdown",
   "metadata": {},
   "source": [
    "__re module__ is used here. The re module raises the exception re.error if an error occurs while compiling or using a regular expression."
   ]
  },
  {
   "cell_type": "code",
   "execution_count": 2,
   "metadata": {
    "collapsed": true
   },
   "outputs": [],
   "source": [
    "import re"
   ]
  },
  {
   "cell_type": "markdown",
   "metadata": {},
   "source": [
    "## 1. re.search() \n",
    "\n",
    "### Syntax : re.search(pattern, text_string, flags=0)\n",
    "It takes a pattern and a text_string to scan, and returns a Match object when the pattern is found in the text_string. If the pattern is not found, search() returns None.\n",
    "\n",
    "flags : You can specify different flags using bitwise OR (|). These are modifiers.\n",
    "\n",
    "search() is also case-sensitive.\n",
    "\n"
   ]
  },
  {
   "cell_type": "code",
   "execution_count": 3,
   "metadata": {
    "collapsed": true
   },
   "outputs": [],
   "source": [
    "patterns = ['name', 'is', 'Hii', 'George']\n",
    "text_string = 'Hello, my name is Jeswin george'"
   ]
  },
  {
   "cell_type": "code",
   "execution_count": 4,
   "metadata": {},
   "outputs": [
    {
     "name": "stdout",
     "output_type": "stream",
     "text": [
      "Searching for 'name' in 'Hello, my name is Jeswin george'\n",
      "Match found\n",
      "\n",
      "Searching for 'is' in 'Hello, my name is Jeswin george'\n",
      "Match found\n",
      "\n",
      "Searching for 'Hii' in 'Hello, my name is Jeswin george'\n",
      "No matches found\n",
      "\n",
      "Searching for 'George' in 'Hello, my name is Jeswin george'\n",
      "No matches found\n",
      "\n"
     ]
    }
   ],
   "source": [
    "for pattern in patterns:\n",
    "    print(\"Searching for '{}' in '{}'\".format(pattern, text_string))\n",
    "    \n",
    "    if re.search(pattern,  text_string):\n",
    "        print('Match found\\n')\n",
    "    else:\n",
    "        print('No matches found\\n')"
   ]
  },
  {
   "cell_type": "markdown",
   "metadata": {},
   "source": [
    "Observe in the above example __pattern 'George'__ is not found in the __text_string 'Hello, my name is Jeswin george'__. Hence , showing that search() is case-sensitive.\n",
    "\n",
    "The Match object returned by search() holds information about the nature of the match, including the original input string, the regular expression used, and the location within the original string where the pattern occurs."
   ]
  },
  {
   "cell_type": "code",
   "execution_count": 5,
   "metadata": {
    "collapsed": true
   },
   "outputs": [],
   "source": [
    "pattern = 'name'\n",
    "text = 'Hello, my name is Jeswin george'"
   ]
  },
  {
   "cell_type": "code",
   "execution_count": 6,
   "metadata": {
    "collapsed": true
   },
   "outputs": [],
   "source": [
    "match = re.search(pattern, text)"
   ]
  },
  {
   "cell_type": "markdown",
   "metadata": {},
   "source": [
    "The __start()__ and __end()__ methods give the integer indexes into the string showing where the text matched by the pattern occurs."
   ]
  },
  {
   "cell_type": "code",
   "execution_count": 7,
   "metadata": {},
   "outputs": [
    {
     "name": "stdout",
     "output_type": "stream",
     "text": [
      "Text 'Hello, my name is Jeswin george' has a matched pattern 'name' starting from index 10 to index 14\n"
     ]
    }
   ],
   "source": [
    "ms = match.start()\n",
    "me = match.end()\n",
    "print(\"Text '{}' has a matched pattern '{}' starting from index {} to index {}\".format(text,pattern,ms,me))"
   ]
  },
  {
   "cell_type": "markdown",
   "metadata": {
    "collapsed": true
   },
   "source": [
    "# Flags, Modifeirs and Escape sequences\n",
    "\n",
    "<img src = '1re.PNG'>\n",
    "<img src = '2re.PNG'>\n",
    "<img src = '3re.PNG'>\n",
    "<img src = '4re.PNG'>"
   ]
  },
  {
   "cell_type": "markdown",
   "metadata": {},
   "source": [
    "## 2. re.match()\n",
    "\n",
    "This function attempts to match RE pattern to string with optional flags.\n",
    "\n",
    "Here is the syntax for this function −\n",
    "\n",
    "### re.match(pattern, string, flags=0)\n",
    "\n",
    "The re.match function returns a match object on success, None on failure. \n",
    "\n",
    "We usegroup(num) or groups() function of match object to get matched expression.\n",
    "\n",
    "__group(num=0) : \tThis method returns entire match (or specific subgroup num)__\n",
    "\n",
    "__groups()  :\tThis method returns all matching subgroups in a tuple (empty if there weren't any)__"
   ]
  },
  {
   "cell_type": "code",
   "execution_count": 8,
   "metadata": {
    "collapsed": true
   },
   "outputs": [],
   "source": [
    "line = \" I am the watcher on the walls. I am the shield that guards the realms of men.\"\n",
    "pattern = \"am\"\n",
    "match = re.match(pattern, line)\n",
    "search = re.search(pattern,line)"
   ]
  },
  {
   "cell_type": "code",
   "execution_count": 9,
   "metadata": {},
   "outputs": [
    {
     "name": "stdout",
     "output_type": "stream",
     "text": [
      "Output of re.match is :  None\n",
      "Output of re.search is :  <_sre.SRE_Match object; span=(3, 5), match='am'>\n"
     ]
    }
   ],
   "source": [
    "print(\"Output of re.match is : \",match)\n",
    "print(\"Output of re.search is : \",search)"
   ]
  },
  {
   "cell_type": "markdown",
   "metadata": {},
   "source": [
    "Since the pattern does not appear at the start of the input line, it is not found using match(). The sequence appears two other times in the text, though, so search() finds it. The search() method of a compiled regular expression accepts optional start and end position parameters to limit the search to a substring of the input.\n",
    "\n",
    "## Difference between re.match() and re.search()\n",
    "\n",
    "Python offers two different primitive operations based on regular expressions: match checks for a match only at the beginning of the string, while search checks for a match anywhere in the string"
   ]
  },
  {
   "cell_type": "markdown",
   "metadata": {
    "collapsed": true
   },
   "source": [
    "## 3. re.compile()\n",
    "\n",
    "re includes module-level functions for working with regular expressions as text strings, but it is usually more efficient to compile the expressions your program uses frequently. \n",
    "\n",
    "__The compile() function converts an expression string into a RegexObject.__\n",
    "\n"
   ]
  },
  {
   "cell_type": "code",
   "execution_count": 18,
   "metadata": {},
   "outputs": [
    {
     "name": "stdout",
     "output_type": "stream",
     "text": [
      "Looking for Python in I like programming using python. ->\n",
      "no match\n",
      "Looking for Java in I like programming using python. ->\n",
      "no match\n"
     ]
    }
   ],
   "source": [
    "# Pre-compile the patterns\n",
    "regexes = [ re.compile(p) for p in [ 'Python', 'Java']]\n",
    "text = 'I like programming using python.'\n",
    "\n",
    "for regex in regexes:\n",
    "    print('Looking for {} in {} ->'.format(regex.pattern, text))\n",
    "    \n",
    "    if regex.search(text):\n",
    "        print('found a match!')\n",
    "    else:\n",
    "        print('no match')"
   ]
  },
  {
   "cell_type": "markdown",
   "metadata": {},
   "source": [
    "The module-level functions maintain a cache of compiled expressions, but the size of the cache is limited and using compiled expressions directly means you can avoid the cache lookup overhead. By pre-compiling any expressions your module uses when the module is loaded you shift the compilation work to application startup time, instead of a point where the program is responding to a user action."
   ]
  },
  {
   "cell_type": "markdown",
   "metadata": {},
   "source": [
    "## 4. re.findall()"
   ]
  },
  {
   "cell_type": "code",
   "execution_count": null,
   "metadata": {
    "collapsed": true
   },
   "outputs": [],
   "source": []
  }
 ],
 "metadata": {
  "kernelspec": {
   "display_name": "Python [default]",
   "language": "python",
   "name": "python3"
  },
  "language_info": {
   "codemirror_mode": {
    "name": "ipython",
    "version": 3
   },
   "file_extension": ".py",
   "mimetype": "text/x-python",
   "name": "python",
   "nbconvert_exporter": "python",
   "pygments_lexer": "ipython3",
   "version": "3.6.1"
  }
 },
 "nbformat": 4,
 "nbformat_minor": 2
}
