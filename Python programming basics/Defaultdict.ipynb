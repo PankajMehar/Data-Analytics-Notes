{
 "cells": [
  {
   "cell_type": "markdown",
   "metadata": {},
   "source": [
    "# Using defaultdict in python"
   ]
  },
  {
   "cell_type": "markdown",
   "metadata": {},
   "source": [
    "A __defaultdict__ is just like a normal python dict, but it is initialized with a function (“default factory”) that takes no arguments and provides the default value for a nonexistent key.\n",
    "\n",
    "A defaultdict will never raise a __KeyError__. Any key that does not exist gets the value returned by the default factory."
   ]
  },
  {
   "cell_type": "code",
   "execution_count": 1,
   "metadata": {
    "collapsed": true
   },
   "outputs": [],
   "source": [
    "from collections import defaultdict "
   ]
  },
  {
   "cell_type": "code",
   "execution_count": 2,
   "metadata": {},
   "outputs": [],
   "source": [
    "# Creating a defaultdict named 'match_score'\n",
    "match_score = defaultdict(lambda : 0)\n",
    "match_score[\"Kohli\"] = 53\n",
    "match_score[\"Dhoni\"] = 92\n",
    "match_score[\"Gambhir\"] = 57\n",
    "match_score[\"Yuvraj\"] = 61"
   ]
  },
  {
   "cell_type": "code",
   "execution_count": 3,
   "metadata": {},
   "outputs": [
    {
     "name": "stdout",
     "output_type": "stream",
     "text": [
      "defaultdict(<function <lambda> at 0x000000F4D10626A8>, {'Kohli': 53, 'Dhoni': 92, 'Gambhir': 57, 'Yuvraj': 61})\n"
     ]
    }
   ],
   "source": [
    "print(match_score)"
   ]
  },
  {
   "cell_type": "code",
   "execution_count": 4,
   "metadata": {},
   "outputs": [
    {
     "name": "stdout",
     "output_type": "stream",
     "text": [
      "92\n"
     ]
    }
   ],
   "source": [
    "print(match_score[\"Dhoni\"])"
   ]
  },
  {
   "cell_type": "code",
   "execution_count": 5,
   "metadata": {},
   "outputs": [
    {
     "name": "stdout",
     "output_type": "stream",
     "text": [
      "0\n"
     ]
    }
   ],
   "source": [
    "# Here the key 'Raina' is not defined but instead of giving a KeyError, defaultdict will give the default value of zero to it.\n",
    "print(match_score[\"Raina\"])"
   ]
  },
  {
   "cell_type": "code",
   "execution_count": 6,
   "metadata": {},
   "outputs": [
    {
     "name": "stdout",
     "output_type": "stream",
     "text": [
      "0\n"
     ]
    }
   ],
   "source": [
    "# Similarly\n",
    "print(match_score[\"Jadeja\"])  "
   ]
  },
  {
   "cell_type": "code",
   "execution_count": 7,
   "metadata": {},
   "outputs": [
    {
     "data": {
      "text/plain": [
       "defaultdict(<function __main__.<lambda>>,\n",
       "            {'Dhoni': 92,\n",
       "             'Gambhir': 57,\n",
       "             'Jadeja': 0,\n",
       "             'Kohli': 53,\n",
       "             'Raina': 0,\n",
       "             'Yuvraj': 61})"
      ]
     },
     "execution_count": 7,
     "metadata": {},
     "output_type": "execute_result"
    }
   ],
   "source": [
    "match_score  # The resultant dictionary will contain the 2 new keys : 'Raina' and 'Jadeja' along with other old keys. "
   ]
  },
  {
   "cell_type": "markdown",
   "metadata": {},
   "source": [
    "## defaultdict is also used for counting"
   ]
  },
  {
   "cell_type": "code",
   "execution_count": 8,
   "metadata": {
    "collapsed": true
   },
   "outputs": [],
   "source": [
    "# The string below shows matches won W and lost L by a team\n",
    "matches_result = 'W W W L  L W W W W L L'.split()"
   ]
  },
  {
   "cell_type": "code",
   "execution_count": 9,
   "metadata": {
    "collapsed": true
   },
   "outputs": [],
   "source": [
    "# Creating a defaultdict named net_result\n",
    "net_result = defaultdict(int) # default value is zero for int\n",
    "                               # “lambda: 0″ would also work in this situation"
   ]
  },
  {
   "cell_type": "code",
   "execution_count": 10,
   "metadata": {},
   "outputs": [],
   "source": [
    "# Here counting number of matches won 'W' and number of losses 'L'\n",
    "for result in matches_result:\n",
    "    net_result[result] += 1 "
   ]
  },
  {
   "cell_type": "code",
   "execution_count": 11,
   "metadata": {},
   "outputs": [
    {
     "data": {
      "text/plain": [
       "defaultdict(int, {'L': 4, 'W': 7})"
      ]
     },
     "execution_count": 11,
     "metadata": {},
     "output_type": "execute_result"
    }
   ],
   "source": [
    "net_result"
   ]
  },
  {
   "cell_type": "code",
   "execution_count": 12,
   "metadata": {},
   "outputs": [
    {
     "data": {
      "text/plain": [
       "0"
      ]
     },
     "execution_count": 12,
     "metadata": {},
     "output_type": "execute_result"
    }
   ],
   "source": [
    "# But if the next match is draw 'D' ; Define a new key D\n",
    "net_result['D']"
   ]
  },
  {
   "cell_type": "code",
   "execution_count": 13,
   "metadata": {},
   "outputs": [
    {
     "data": {
      "text/plain": [
       "defaultdict(int, {'D': 0, 'L': 4, 'W': 7})"
      ]
     },
     "execution_count": 13,
     "metadata": {},
     "output_type": "execute_result"
    }
   ],
   "source": [
    "net_result"
   ]
  },
  {
   "cell_type": "code",
   "execution_count": 14,
   "metadata": {},
   "outputs": [
    {
     "data": {
      "text/plain": [
       "defaultdict(int, {'D': 1, 'L': 4, 'W': 7})"
      ]
     },
     "execution_count": 14,
     "metadata": {},
     "output_type": "execute_result"
    }
   ],
   "source": [
    "# And then to add to draw D\n",
    "net_result['D'] += 1\n",
    "net_result"
   ]
  },
  {
   "cell_type": "markdown",
   "metadata": {},
   "source": [
    "## To built a dictionary of list, use a defaultdict providing a default value of list. So a new list is created for each new key.\n",
    "\n",
    "In the next example, a list of states and cities has been made. Aim is to make a dictionary where the keys are the states of India and the values are list of all cities for that particular state. \n",
    "\n",
    "To build this dictionary of lists, we use a defaultdict with a default value of list. A new list is created for each new key."
   ]
  },
  {
   "cell_type": "code",
   "execution_count": 15,
   "metadata": {},
   "outputs": [],
   "source": [
    "# Made a list of states and cities of India\n",
    "state_nd_city = [('Bihar','Patna'),('Kerala','Cochin'), ('Uttarakhand','Chamoli'), ('Kerala','Trivandrum'), \n",
    "                      ('Gujarat','Ahmedabad'), ('Madhya Pradesh','Indore'),('Gujarat','Rajkot'),('Bihar','Gaya'),\n",
    "                      ('Uttarakhand','Dehradun'), ('Gujarat','Gandhinagar')]"
   ]
  },
  {
   "cell_type": "code",
   "execution_count": 16,
   "metadata": {
    "collapsed": true
   },
   "outputs": [],
   "source": [
    "# Creating a defaultdict having list as its defaultvalue\n",
    "cities_by_state = defaultdict(list)"
   ]
  },
  {
   "cell_type": "code",
   "execution_count": 17,
   "metadata": {
    "collapsed": true
   },
   "outputs": [],
   "source": [
    "for state,city in state_nd_city:\n",
    "    cities_by_state[state].append(city)"
   ]
  },
  {
   "cell_type": "code",
   "execution_count": 18,
   "metadata": {},
   "outputs": [
    {
     "data": {
      "text/plain": [
       "defaultdict(list,\n",
       "            {'Bihar': ['Patna', 'Gaya'],\n",
       "             'Gujarat': ['Ahmedabad', 'Rajkot', 'Gandhinagar'],\n",
       "             'Kerala': ['Cochin', 'Trivandrum'],\n",
       "             'Madhya Pradesh': ['Indore'],\n",
       "             'Uttarakhand': ['Chamoli', 'Dehradun']})"
      ]
     },
     "execution_count": 18,
     "metadata": {},
     "output_type": "execute_result"
    }
   ],
   "source": [
    "cities_by_state"
   ]
  }
 ],
 "metadata": {
  "kernelspec": {
   "display_name": "Python [default]",
   "language": "python",
   "name": "python3"
  },
  "language_info": {
   "codemirror_mode": {
    "name": "ipython",
    "version": 3
   },
   "file_extension": ".py",
   "mimetype": "text/x-python",
   "name": "python",
   "nbconvert_exporter": "python",
   "pygments_lexer": "ipython3",
   "version": "3.6.1"
  }
 },
 "nbformat": 4,
 "nbformat_minor": 2
}
