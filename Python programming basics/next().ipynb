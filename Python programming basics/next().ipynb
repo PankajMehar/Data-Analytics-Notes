{
 "cells": [
  {
   "cell_type": "markdown",
   "metadata": {},
   "source": [
    "# next()\n",
    "\n",
    "The next() function returns the next item from the iterator.\n",
    "\n",
    "## syntax of next() is:\n",
    " \n",
    " next(iterator, default)\n",
    " \n",
    "## next() Parameters\n",
    "* iterator - next() retrieves next item from the iterator\n",
    "* default (optional) - this value is returned if the iterator is exhausted (no items left)\n",
    "\n",
    "## Return Value from next()\n",
    "\n",
    "The next() returns the next item from the iterator.\n",
    "\n",
    "If the iterator is exhausted, it returns default value (if provided).\n",
    "\n",
    "If the default parameter is omitted and iterator is exhausted, it raises StopIteration."
   ]
  },
  {
   "cell_type": "code",
   "execution_count": 1,
   "metadata": {},
   "outputs": [
    {
     "name": "stdout",
     "output_type": "stream",
     "text": [
      "<list_iterator object at 0x00000068EF508F98>\n",
      "5\n",
      "9\n",
      "cat\n"
     ]
    },
    {
     "ename": "StopIteration",
     "evalue": "",
     "output_type": "error",
     "traceback": [
      "\u001b[1;31m---------------------------------------------------------------------------\u001b[0m",
      "\u001b[1;31mStopIteration\u001b[0m                             Traceback (most recent call last)",
      "\u001b[1;32m<ipython-input-1-61eee6b2adbb>\u001b[0m in \u001b[0;36m<module>\u001b[1;34m()\u001b[0m\n\u001b[0;32m     16\u001b[0m \u001b[1;31m# This will raise Error\u001b[0m\u001b[1;33m\u001b[0m\u001b[1;33m\u001b[0m\u001b[0m\n\u001b[0;32m     17\u001b[0m \u001b[1;31m# iterator is exhausted\u001b[0m\u001b[1;33m\u001b[0m\u001b[1;33m\u001b[0m\u001b[0m\n\u001b[1;32m---> 18\u001b[1;33m \u001b[0mprint\u001b[0m\u001b[1;33m(\u001b[0m\u001b[0mnext\u001b[0m\u001b[1;33m(\u001b[0m\u001b[0mrandomIterator\u001b[0m\u001b[1;33m)\u001b[0m\u001b[1;33m)\u001b[0m\u001b[1;33m\u001b[0m\u001b[0m\n\u001b[0m",
      "\u001b[1;31mStopIteration\u001b[0m: "
     ]
    }
   ],
   "source": [
    "random = [5, 9, 'cat']\n",
    "\n",
    "# converting list to iterator\n",
    "randomIterator = iter(random)\n",
    "print(randomIterator)\n",
    "\n",
    "# Output: 5\n",
    "print(next(randomIterator))\n",
    "\n",
    "# Output: 9\n",
    "print(next(randomIterator))\n",
    "\n",
    "# Output: 'cat'\n",
    "print(next(randomIterator))\n",
    "\n",
    "# This will raise Error\n",
    "# iterator is exhausted\n",
    "print(next(randomIterator))"
   ]
  },
  {
   "cell_type": "markdown",
   "metadata": {},
   "source": [
    "A list is an iterable and you can get iterator from it by using iter() function in Python.\n",
    "\n",
    "We got error from the last statement in the above program because we tried to get next item when no next item was available (iterator is exhausted).\n",
    "\n",
    "In such cases, you can give a default value as second parameter.\n",
    "\n",
    "## Iterator With Default Value"
   ]
  },
  {
   "cell_type": "code",
   "execution_count": 2,
   "metadata": {},
   "outputs": [
    {
     "name": "stdout",
     "output_type": "stream",
     "text": [
      "5\n",
      "9\n",
      "-1\n",
      "-1\n"
     ]
    }
   ],
   "source": [
    "random = [5, 9]\n",
    "\n",
    "# converting list to iterator\n",
    "randomIterator = iter(random)\n",
    "\n",
    "# Output: 5\n",
    "print(next(randomIterator, '-1'))\n",
    "\n",
    "# Output: 9\n",
    "print(next(randomIterator, '-1'))\n",
    "\n",
    "# randomIterator is exhausted\n",
    "# Output: '-1'\n",
    "print(next(randomIterator, '-1'))\n",
    "print(next(randomIterator, '-1'))"
   ]
  },
  {
   "cell_type": "markdown",
   "metadata": {},
   "source": [
    "Removing the first three elements"
   ]
  },
  {
   "cell_type": "code",
   "execution_count": 8,
   "metadata": {},
   "outputs": [
    {
     "name": "stdout",
     "output_type": "stream",
     "text": [
      "<list_iterator object at 0x00000068EF6B5080>\n"
     ]
    }
   ],
   "source": [
    "t = [3,12,4,11,9,5,8,44]\n",
    "t = iter(t)\n",
    "for i in range(3):\n",
    "    next(t)\n",
    "    \n",
    "print(t)"
   ]
  },
  {
   "cell_type": "code",
   "execution_count": 9,
   "metadata": {},
   "outputs": [
    {
     "name": "stdout",
     "output_type": "stream",
     "text": [
      "11\n",
      "9\n",
      "5\n",
      "8\n",
      "44\n"
     ]
    }
   ],
   "source": [
    "for k in t:\n",
    "    print(k)"
   ]
  },
  {
   "cell_type": "code",
   "execution_count": null,
   "metadata": {
    "collapsed": true
   },
   "outputs": [],
   "source": []
  }
 ],
 "metadata": {
  "kernelspec": {
   "display_name": "Python [default]",
   "language": "python",
   "name": "python3"
  },
  "language_info": {
   "codemirror_mode": {
    "name": "ipython",
    "version": 3
   },
   "file_extension": ".py",
   "mimetype": "text/x-python",
   "name": "python",
   "nbconvert_exporter": "python",
   "pygments_lexer": "ipython3",
   "version": "3.6.1"
  }
 },
 "nbformat": 4,
 "nbformat_minor": 2
}
