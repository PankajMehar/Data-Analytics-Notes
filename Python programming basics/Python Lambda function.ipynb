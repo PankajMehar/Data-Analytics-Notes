{
 "cells": [
  {
   "cell_type": "markdown",
   "metadata": {},
   "source": [
    "# Lambda function"
   ]
  },
  {
   "cell_type": "markdown",
   "metadata": {},
   "source": [
    "__Lambda function__ is also known as an anonymous function and it is defined without a name.\n",
    "\n",
    "While normal functions are defined using the __def__ keyword whereas anonymous functions are defined using the __lambda__ keyword."
   ]
  },
  {
   "cell_type": "markdown",
   "metadata": {},
   "source": [
    "## Syntax of Lambda Function\n",
    "\n",
    "### lambda arguments: expression\n",
    "\n",
    "Lambda functions can have any number of arguments but only one expression. The expression is evaluated and returned."
   ]
  },
  {
   "cell_type": "code",
   "execution_count": 1,
   "metadata": {},
   "outputs": [
    {
     "name": "stdout",
     "output_type": "stream",
     "text": [
      "50\n"
     ]
    }
   ],
   "source": [
    "prdct = lambda x: x * x * 2\n",
    "print(prdct(5))"
   ]
  },
  {
   "cell_type": "markdown",
   "metadata": {},
   "source": [
    "In the above program, __lambda x: x * x * 2__ is the lambda function. Here __x__ is the argument and __x * x * 2__ is the expression that gets evaluated and returned.\n",
    "\n",
    "This function has no name. It returns a function object which is assigned to the identifier __prdct__. We can now call it as a normal function. The statement above __ prdct = lambda x: x * x * 2 __ is same as the function defined below:"
   ]
  },
  {
   "cell_type": "code",
   "execution_count": 2,
   "metadata": {},
   "outputs": [
    {
     "data": {
      "text/plain": [
       "50"
      ]
     },
     "execution_count": 2,
     "metadata": {},
     "output_type": "execute_result"
    }
   ],
   "source": [
    "def prdct(x):\n",
    "    return(x * x * 2)\n",
    "\n",
    "prdct(5)"
   ]
  },
  {
   "cell_type": "markdown",
   "metadata": {},
   "source": [
    "## Use of Lambda Function\n",
    "\n",
    "Used when we require a nameless function for a short period of time.\n",
    "\n",
    "In Python, we generally use it as an argument to a higher-order function (a function that takes in other functions as arguments). Lambda functions are used along with built-in functions like filter(), map() etc.\n",
    "\n",
    "### Example use with filter()\n",
    "\n",
    "The filter(p,t) function in Python takes in a function p and a list t as arguments.\n",
    "\n",
    "The function p takes each and every element of list t and checks whether that element satisfies the condition defined in function p. The function p(x) must take an element x and must return __True/False__.\n",
    "\n",
    "Here instead of function p, __lambda__ function will be used.\n",
    "\n",
    "The example shows use of filter() function to filter out odd numbers from list t."
   ]
  },
  {
   "cell_type": "code",
   "execution_count": 3,
   "metadata": {},
   "outputs": [
    {
     "name": "stdout",
     "output_type": "stream",
     "text": [
      "List t :  [1, 2, 3, 4, 5, 6, 7, 8, 9, 10, 11, 12, 13, 14, 15, 16, 17, 18, 19, 20]\n",
      "Odd numbers list after filtering :  [1, 3, 5, 7, 9, 11, 13, 15, 17, 19]\n"
     ]
    }
   ],
   "source": [
    "t = list(range(1,21))\n",
    "odd_t = list(filter(lambda x: x%2 != 0, t))\n",
    "print(\"List t : \",t)\n",
    "print(\"Odd numbers list after filtering : \",odd_t)"
   ]
  },
  {
   "cell_type": "markdown",
   "metadata": {},
   "source": [
    "### Example use with map()\n",
    "\n",
    "The method map(f,t) is used to apply a function __f__ to each of the elements of a list __t__. \n",
    "\n",
    "The function __f__ takes a single element as its input. \n",
    "\n",
    "Here instead of function f, __lambda__ function will be used."
   ]
  },
  {
   "cell_type": "code",
   "execution_count": 4,
   "metadata": {},
   "outputs": [
    {
     "name": "stdout",
     "output_type": "stream",
     "text": [
      "List t :  [3, 1, 7, 2, 10, 5, 9, 8]\n",
      "List after mapping :  [9, 1, 49, 4, 100, 25, 81, 64]\n"
     ]
    }
   ],
   "source": [
    "t = [3,1,7,2,10,5,9,8]\n",
    "sq_t = list(map(lambda x: x * x, t))\n",
    "print(\"List t : \",t)\n",
    "print(\"List after mapping : \",sq_t)"
   ]
  },
  {
   "cell_type": "markdown",
   "metadata": {},
   "source": [
    "### Example use with defaultdict\n",
    "\n",
    "__lambda__ is used in defaultdict to provide a user-defined default value to a _key_ which has not been defined earlier.  "
   ]
  },
  {
   "cell_type": "code",
   "execution_count": 5,
   "metadata": {
    "collapsed": true
   },
   "outputs": [],
   "source": [
    "from collections import defaultdict"
   ]
  },
  {
   "cell_type": "code",
   "execution_count": 6,
   "metadata": {},
   "outputs": [],
   "source": [
    "# Creating a defaultdict named 'match_score'\n",
    "match_score = defaultdict(lambda : 0)\n",
    "match_score[\"Kohli\"] = 53\n",
    "match_score[\"Dhoni\"] = 92\n",
    "match_score[\"Gambhir\"] = 57\n",
    "match_score[\"Yuvraj\"] = 61"
   ]
  },
  {
   "cell_type": "code",
   "execution_count": 7,
   "metadata": {},
   "outputs": [
    {
     "name": "stdout",
     "output_type": "stream",
     "text": [
      "defaultdict(<function <lambda> at 0x0000000C099A26A8>, {'Kohli': 53, 'Dhoni': 92, 'Gambhir': 57, 'Yuvraj': 61})\n"
     ]
    }
   ],
   "source": [
    "print(match_score)"
   ]
  },
  {
   "cell_type": "code",
   "execution_count": 8,
   "metadata": {},
   "outputs": [
    {
     "name": "stdout",
     "output_type": "stream",
     "text": [
      "0\n"
     ]
    }
   ],
   "source": [
    "# Here the key 'Raina' is not defined but instead of giving a KeyError, defaultdict will give the default value of zero to it.\n",
    "print(match_score[\"Raina\"]) "
   ]
  },
  {
   "cell_type": "code",
   "execution_count": 9,
   "metadata": {},
   "outputs": [
    {
     "name": "stdout",
     "output_type": "stream",
     "text": [
      "0\n"
     ]
    }
   ],
   "source": [
    "# Similarly\n",
    "print(match_score[\"Jadeja\"])  "
   ]
  },
  {
   "cell_type": "code",
   "execution_count": 10,
   "metadata": {},
   "outputs": [
    {
     "data": {
      "text/plain": [
       "defaultdict(<function __main__.<lambda>>,\n",
       "            {'Dhoni': 92,\n",
       "             'Gambhir': 57,\n",
       "             'Jadeja': 0,\n",
       "             'Kohli': 53,\n",
       "             'Raina': 0,\n",
       "             'Yuvraj': 61})"
      ]
     },
     "execution_count": 10,
     "metadata": {},
     "output_type": "execute_result"
    }
   ],
   "source": [
    "match_score  # The resultant dictionary will contain the 2 new keys : 'Raina' and 'Jadeja' along with other old keys."
   ]
  }
 ],
 "metadata": {
  "kernelspec": {
   "display_name": "Python [default]",
   "language": "python",
   "name": "python3"
  },
  "language_info": {
   "codemirror_mode": {
    "name": "ipython",
    "version": 3
   },
   "file_extension": ".py",
   "mimetype": "text/x-python",
   "name": "python",
   "nbconvert_exporter": "python",
   "pygments_lexer": "ipython3",
   "version": "3.6.1"
  }
 },
 "nbformat": 4,
 "nbformat_minor": 2
}
