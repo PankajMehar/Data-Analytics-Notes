{
 "cells": [
  {
   "cell_type": "markdown",
   "metadata": {},
   "source": [
    "# String methods : enumerate, len, replace, split"
   ]
  },
  {
   "cell_type": "code",
   "execution_count": 2,
   "metadata": {
    "collapsed": true
   },
   "outputs": [],
   "source": [
    "# Creating a string\n",
    "name = \"Jeswin George\""
   ]
  },
  {
   "cell_type": "markdown",
   "metadata": {},
   "source": [
    "## 1. __enumerate()__ function \n",
    "\n",
    "It returns an enumerate object. It contains the index and value of all the items in the string as pairs. This can be useful for iteration."
   ]
  },
  {
   "cell_type": "code",
   "execution_count": 3,
   "metadata": {},
   "outputs": [
    {
     "data": {
      "text/plain": [
       "[(0, 'J'),\n",
       " (1, 'e'),\n",
       " (2, 's'),\n",
       " (3, 'w'),\n",
       " (4, 'i'),\n",
       " (5, 'n'),\n",
       " (6, ' '),\n",
       " (7, 'G'),\n",
       " (8, 'e'),\n",
       " (9, 'o'),\n",
       " (10, 'r'),\n",
       " (11, 'g'),\n",
       " (12, 'e')]"
      ]
     },
     "execution_count": 3,
     "metadata": {},
     "output_type": "execute_result"
    }
   ],
   "source": [
    "name_enumerate = list(enumerate(name))\n",
    "name_enumerate"
   ]
  },
  {
   "cell_type": "markdown",
   "metadata": {},
   "source": [
    "## 2. len()\n",
    "\n",
    "It returns the length of the string."
   ]
  },
  {
   "cell_type": "code",
   "execution_count": 4,
   "metadata": {},
   "outputs": [
    {
     "data": {
      "text/plain": [
       "13"
      ]
     },
     "execution_count": 4,
     "metadata": {},
     "output_type": "execute_result"
    }
   ],
   "source": [
    "len(name)"
   ]
  },
  {
   "cell_type": "markdown",
   "metadata": {},
   "source": [
    "## 3. string.replace(old_string, new_string [, count])\n",
    "\n",
    "count (optional) - the number of times you want to replace the old substring with the new substring\n",
    "\n",
    "If count is not specified, replace() method replaces all occurrences of the old substring with the new substring.\n",
    "\n",
    "The replace() method returns a copy of the string where old substring is replaced with the new substring. The original string is unchanged.\n"
   ]
  },
  {
   "cell_type": "code",
   "execution_count": 6,
   "metadata": {},
   "outputs": [
    {
     "name": "stdout",
     "output_type": "stream",
     "text": [
      "Old string is :  98,178\n",
      "New string is :  98178\n"
     ]
    }
   ],
   "source": [
    "old = \"98,178\"\n",
    "new = old.replace(',','')\n",
    "print(\"Old string is : \",old)\n",
    "print(\"New string is : \",new)"
   ]
  },
  {
   "cell_type": "code",
   "execution_count": 10,
   "metadata": {},
   "outputs": [
    {
     "name": "stdout",
     "output_type": "stream",
     "text": [
      "Old string is :  Jeswin George\n",
      "Changed string is :  JEswin GEorge\n"
     ]
    }
   ],
   "source": [
    "change = \"Jeswin George\".replace('e','E',2) # Put count =2 so name is changed only 2 times\n",
    "print(\"Old string is : \",name)\n",
    "print(\"Changed string is : \",change)"
   ]
  },
  {
   "cell_type": "code",
   "execution_count": 11,
   "metadata": {},
   "outputs": [
    {
     "name": "stdout",
     "output_type": "stream",
     "text": [
      "Old string is :  Johnny Johnny\n",
      "Changed string is :  John John\n"
     ]
    }
   ],
   "source": [
    "old_str = \"Johnny Johnny\"\n",
    "new_str = old_str.replace('nny','n')\n",
    "print(\"Old string is : \",old_str)\n",
    "print(\"Changed string is : \",new_str)"
   ]
  },
  {
   "cell_type": "markdown",
   "metadata": {},
   "source": [
    "## 4. string.split([separator [, maxsplit]])\n",
    "\n",
    "The split() method breaks up a string at the specified separator and returns a list of strings.\n",
    "\n",
    "* separator (optional)- The is a delimiter. The string splits at the specified separator.\n",
    "  If the separator is not specified, any whitespace (space, newline etc.) string is a separator.\n",
    "\n",
    "* maxsplit (optional) - The maxsplit defines the maximum number of splits.\n",
    " The default value of maxsplit is -1, meaning, no limit on the number of splits."
   ]
  },
  {
   "cell_type": "code",
   "execution_count": 12,
   "metadata": {},
   "outputs": [
    {
     "data": {
      "text/plain": [
       "['Hello', ',', 'How', 'are', 'you?']"
      ]
     },
     "execution_count": 12,
     "metadata": {},
     "output_type": "execute_result"
    }
   ],
   "source": [
    "text = \"Hello , How are you?\"\n",
    "text.split()"
   ]
  },
  {
   "cell_type": "code",
   "execution_count": 13,
   "metadata": {},
   "outputs": [
    {
     "name": "stdout",
     "output_type": "stream",
     "text": [
      "['Milk', 'Chicken', 'Bread, Butter']\n"
     ]
    }
   ],
   "source": [
    "grocery = 'Milk, Chicken, Bread, Butter'\n",
    "print(grocery.split(', ', 2))"
   ]
  }
 ],
 "metadata": {
  "kernelspec": {
   "display_name": "Python [default]",
   "language": "python",
   "name": "python3"
  },
  "language_info": {
   "codemirror_mode": {
    "name": "ipython",
    "version": 3
   },
   "file_extension": ".py",
   "mimetype": "text/x-python",
   "name": "python",
   "nbconvert_exporter": "python",
   "pygments_lexer": "ipython3",
   "version": "3.6.1"
  }
 },
 "nbformat": 4,
 "nbformat_minor": 2
}
