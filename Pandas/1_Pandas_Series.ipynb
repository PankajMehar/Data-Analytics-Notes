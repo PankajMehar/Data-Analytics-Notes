{
 "cells": [
  {
   "cell_type": "markdown",
   "metadata": {},
   "source": [
    "## Similarities between pandas series and Numpy arrays\n",
    "* Accessing elements    : s[0], s[3:7]\n",
    "* Looping               : for x in S\n",
    "* Convenient functions  : s.mean(), s.max()\n",
    "* Vectorized operations : Eg - S1 + S2\n",
    "\n",
    "\n",
    "# Pandas Series\n",
    "\n",
    "A series is similar to Numpy array but having some extra functionalities. \n",
    "\n",
    "Eg : __S.describe()__ : For a series S this will print out mean deviation, median and other statistics of the pandas series. Such functions are not available for Numpy arrays.\n",
    "\n",
    "## Imp References to study later\n",
    "\n",
    "1. [Blog AnalyticsVidhya](https://www.analyticsvidhya.com/blog/2016/01/12-pandas-techniques-python-data-manipulation/) \n",
    "2. [Blog DataQuest pandas part 1](https://www.dataquest.io/blog/pandas-python-tutorial/)\n",
    "3. [Blog DataQuest pandas part 1](https://www.dataquest.io/blog/pandas-tutorial-python-2/)\n",
    "4. [refernece for notes](https://www.tutorialspoint.com/python_pandas/python_pandas_series.htm)"
   ]
  },
  {
   "cell_type": "markdown",
   "metadata": {},
   "source": [
    "## Series Indices\n",
    "\n",
    "Apart from having extra functionality than numpy arrays. But main difference between pandas series and numpy arrays is that they have __index__.\n",
    "\n",
    "Numpy arrays have position-based indexing but pandas series has both psoiton and label based indexing.\n",
    "\n",
    "## Creating a pandas series"
   ]
  },
  {
   "cell_type": "code",
   "execution_count": 1,
   "metadata": {
    "collapsed": true
   },
   "outputs": [],
   "source": [
    "import pandas as pd   # importing pandas library\n",
    "import numpy as np"
   ]
  },
  {
   "cell_type": "code",
   "execution_count": 2,
   "metadata": {},
   "outputs": [
    {
     "name": "stdout",
     "output_type": "stream",
     "text": [
      "Series([], dtype: float64)\n",
      "Length of the defined pandas series 's' is 0\n"
     ]
    }
   ],
   "source": [
    "# Creating an empty series\n",
    "s = pd.Series()\n",
    "print(s)\n",
    "print(\"Length of the defined pandas series 's' is\", len(s))"
   ]
  },
  {
   "cell_type": "code",
   "execution_count": 3,
   "metadata": {},
   "outputs": [
    {
     "name": "stdout",
     "output_type": "stream",
     "text": [
      "0     2\n",
      "1     4\n",
      "2     8\n",
      "3     9\n",
      "4    19\n",
      "dtype: int64\n"
     ]
    }
   ],
   "source": [
    "# Creating a pandas series from list\n",
    "# As no index is passed, so by default the indexes are taken ranging from 0 to len(data)-1, i.e., 0 to 3 is assigned.\n",
    "\n",
    "s1 = pd.Series([2,4,8,9,19])\n",
    "print(s1)"
   ]
  },
  {
   "cell_type": "code",
   "execution_count": 4,
   "metadata": {},
   "outputs": [
    {
     "name": "stdout",
     "output_type": "stream",
     "text": [
      "a     2\n",
      "b     4\n",
      "c     8\n",
      "d     9\n",
      "e    19\n",
      "dtype: int64\n"
     ]
    }
   ],
   "source": [
    "# Creating a pandas series from list\n",
    "# For this series index is passed and size of index must be same as that of the list/array. \n",
    "s1 = pd.Series([2,4,8,9,19],index=['a','b','c','d','e'])\n",
    "print(s1)"
   ]
  },
  {
   "cell_type": "code",
   "execution_count": 5,
   "metadata": {},
   "outputs": [
    {
     "name": "stdout",
     "output_type": "stream",
     "text": [
      "10    a\n",
      "11    k\n",
      "12    m\n",
      "13    n\n",
      "14    d\n",
      "dtype: object\n"
     ]
    }
   ],
   "source": [
    "# Creating a pandas series from numpy array\n",
    "a = np.array(['a','k','m','n','d'])\n",
    "s2 = pd.Series(a, index = [10,11,12,13,14])\n",
    "print(s2)"
   ]
  },
  {
   "cell_type": "code",
   "execution_count": 6,
   "metadata": {},
   "outputs": [
    {
     "name": "stdout",
     "output_type": "stream",
     "text": [
      "1    a\n",
      "2    k\n",
      "3    m\n",
      "4    n\n",
      "5    d\n",
      "dtype: object\n"
     ]
    }
   ],
   "source": [
    "# Creating a pandas series when both index and data are numpy arrays\n",
    "b = np.array([1,2,3,4,5])\n",
    "s3 = pd.Series(a, index = b)\n",
    "print(s3)"
   ]
  },
  {
   "cell_type": "code",
   "execution_count": null,
   "metadata": {
    "collapsed": true
   },
   "outputs": [],
   "source": []
  }
 ],
 "metadata": {
  "kernelspec": {
   "display_name": "Python [default]",
   "language": "python",
   "name": "python3"
  },
  "language_info": {
   "codemirror_mode": {
    "name": "ipython",
    "version": 3
   },
   "file_extension": ".py",
   "mimetype": "text/x-python",
   "name": "python",
   "nbconvert_exporter": "python",
   "pygments_lexer": "ipython3",
   "version": "3.6.1"
  }
 },
 "nbformat": 4,
 "nbformat_minor": 2
}
