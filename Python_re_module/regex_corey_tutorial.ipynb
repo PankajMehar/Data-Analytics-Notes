{
 "cells": [
  {
   "cell_type": "code",
   "execution_count": 1,
   "metadata": {
    "collapsed": true
   },
   "outputs": [],
   "source": [
    "import re"
   ]
  },
  {
   "cell_type": "markdown",
   "metadata": {},
   "source": [
    "## Important Notes \n",
    "\n",
    "Period . - Any Character Except New Line  \n",
    "\\d      - Digit (0-9)  \n",
    "\\D      - Not a Digit (0-9)  \n",
    "\\w      - Word Character (a-z, A-Z, 0-9, _)  \n",
    "\\W      - Not a Word Character  \n",
    "\\s      - Whitespace (space, tab, newline)  \n",
    "\\S      - Not Whitespace (space, tab, newline)  \n",
    "\n",
    "\\b      - Word Boundary  \n",
    "\\B      - Not a Word Boundary  \n",
    "^       - Beginning of a String  \n",
    "$       - End of a String  \n",
    "\n",
    "[]      - Matches Characters in brackets  \n",
    "[^ ]    - Matches Characters NOT in brackets  \n",
    "|       - Either Or  \n",
    "( )     - Group  \n",
    "\n",
    "Quantifiers:  \n",
    "*       - 0 or More  \n",
    "+       - 1 or More  \n",
    "?       - 0 or One  \n",
    "{3}     - Exact Number  \n",
    "{3,4}   - Range of Numbers (Minimum, Maximum)  \n",
    "\n",
    "\n",
    "#### Sample Regexs ####\n",
    "\n",
    "[a-zA-Z0-9_.+-]+@[a-zA-Z0-9-]+\\.[a-zA-Z0-9-.]+  "
   ]
  },
  {
   "cell_type": "code",
   "execution_count": 2,
   "metadata": {
    "collapsed": true
   },
   "outputs": [],
   "source": [
    "text_to_search = '''\n",
    "abcdefghijklmnopqurtuvwxyzabc\n",
    "ABCDEFGHIJKLMNOPQRSTUVWXYZabc\n",
    "1234567890abc_yahoo\n",
    "\n",
    "\n",
    "Ha HaHa_HA\n",
    "\n",
    "MetaCharacters (Need to be escaped):\n",
    ". ^ $ * + ? { } [ ] \\ | ( )\n",
    "\n",
    "coreyms.com\n",
    "\n",
    "\n",
    "321-555-4321\n",
    "123.555.1234\n",
    "123*555*1234\n",
    "800-555-1234\n",
    "900-555-1234\n",
    "\n",
    "Mr. Schafer\n",
    "Mr Smith\n",
    "Ms Davis\n",
    "Mrs. Robinson\n",
    "Mr. T\n",
    "'''\n",
    "\n",
    "sentence = 'Start a sentence and then bring it to an end'"
   ]
  },
  {
   "cell_type": "code",
   "execution_count": 5,
   "metadata": {},
   "outputs": [
    {
     "name": "stdout",
     "output_type": "stream",
     "text": [
      "Ordinary String : \n",
      "\tTab\n"
     ]
    }
   ],
   "source": [
    "print('Ordinary String : \\n' + '\\tTab')\n"
   ]
  },
  {
   "cell_type": "code",
   "execution_count": 6,
   "metadata": {},
   "outputs": [
    {
     "name": "stdout",
     "output_type": "stream",
     "text": [
      "Raw String : \n",
      "\\tTab\n"
     ]
    }
   ],
   "source": [
    "print('Raw String : \\n' + r'\\tTab')"
   ]
  },
  {
   "cell_type": "code",
   "execution_count": 7,
   "metadata": {},
   "outputs": [
    {
     "name": "stdout",
     "output_type": "stream",
     "text": [
      "<_sre.SRE_Match object; span=(1, 4), match='abc'>\n",
      "<_sre.SRE_Match object; span=(27, 30), match='abc'>\n",
      "<_sre.SRE_Match object; span=(57, 60), match='abc'>\n",
      "<_sre.SRE_Match object; span=(71, 74), match='abc'>\n"
     ]
    }
   ],
   "source": [
    "pattern = re.compile(r'abc')\n",
    "matches = pattern.finditer(text_to_search)\n",
    "\n",
    "for match in matches:\n",
    "    print(match)"
   ]
  },
  {
   "cell_type": "code",
   "execution_count": 8,
   "metadata": {},
   "outputs": [
    {
     "name": "stdout",
     "output_type": "stream",
     "text": [
      "abc\n"
     ]
    }
   ],
   "source": [
    "print(text_to_search[1:4])"
   ]
  },
  {
   "cell_type": "code",
   "execution_count": 10,
   "metadata": {},
   "outputs": [],
   "source": [
    "pattern = re.compile(r'.')  # It will match almost everything\n",
    "matches = pattern.finditer(text_to_search)\n",
    "\n",
    "#for match in matches:\n",
    "#    print(match)"
   ]
  },
  {
   "cell_type": "code",
   "execution_count": 11,
   "metadata": {},
   "outputs": [
    {
     "name": "stdout",
     "output_type": "stream",
     "text": [
      "<_sre.SRE_Match object; span=(123, 124), match='.'>\n",
      "<_sre.SRE_Match object; span=(159, 160), match='.'>\n",
      "<_sre.SRE_Match object; span=(182, 183), match='.'>\n",
      "<_sre.SRE_Match object; span=(186, 187), match='.'>\n",
      "<_sre.SRE_Match object; span=(234, 235), match='.'>\n",
      "<_sre.SRE_Match object; span=(265, 266), match='.'>\n",
      "<_sre.SRE_Match object; span=(278, 279), match='.'>\n"
     ]
    }
   ],
   "source": [
    "# But if backslash (\\) is used it will search only for period(.)\n",
    "pattern = re.compile(r'\\.')  \n",
    "matches = pattern.finditer(text_to_search)\n",
    "\n",
    "for match in matches:\n",
    "    print(match)"
   ]
  },
  {
   "cell_type": "code",
   "execution_count": 13,
   "metadata": {},
   "outputs": [
    {
     "name": "stdout",
     "output_type": "stream",
     "text": [
      "<_sre.SRE_Match object; span=(152, 163), match='coreyms.com'>\n"
     ]
    }
   ],
   "source": [
    "# To match the url  coreyms.com\n",
    "\n",
    "pattern = re.compile(r'coreyms\\.com')  \n",
    "matches = pattern.finditer(text_to_search)\n",
    "#  matches  -----> its prints as <callable_iterator at 0x7a4609e208> so better use for loop\n",
    "\n",
    "for match in matches:\n",
    "    print(match)"
   ]
  },
  {
   "cell_type": "code",
   "execution_count": 15,
   "metadata": {},
   "outputs": [],
   "source": [
    "# To match only the digits\n",
    "\n",
    "pattern = re.compile(r'\\d')  \n",
    "matches = pattern.finditer(text_to_search)\n",
    "\n",
    "# for match in matches:\n",
    "#    print(match)"
   ]
  },
  {
   "cell_type": "markdown",
   "metadata": {},
   "source": [
    "## To search for a word character\n",
    "\\w - Word Character (a-z, A-Z, 0-9, _)"
   ]
  },
  {
   "cell_type": "code",
   "execution_count": 16,
   "metadata": {},
   "outputs": [
    {
     "name": "stdout",
     "output_type": "stream",
     "text": [
      "<_sre.SRE_Match object; span=(0, 1), match='I'>\n",
      "<_sre.SRE_Match object; span=(1, 2), match='_'>\n",
      "<_sre.SRE_Match object; span=(2, 3), match='a'>\n",
      "<_sre.SRE_Match object; span=(3, 4), match='m'>\n",
      "<_sre.SRE_Match object; span=(4, 5), match='_'>\n",
      "<_sre.SRE_Match object; span=(5, 6), match='2'>\n"
     ]
    }
   ],
   "source": [
    "text = 'I[_]am#_2*\\\\|'\n",
    "pattern = re.compile(r'\\w')  \n",
    "matches = pattern.finditer(text)\n",
    "\n",
    "for match in matches:\n",
    "    print(match)"
   ]
  },
  {
   "cell_type": "markdown",
   "metadata": {},
   "source": [
    "### To search for words that are not word characters\n",
    "\n",
    "\\W - Not a Word Character (includes metacharacters, tabs, spaces)"
   ]
  },
  {
   "cell_type": "code",
   "execution_count": 20,
   "metadata": {},
   "outputs": [
    {
     "name": "stdout",
     "output_type": "stream",
     "text": [
      "<_sre.SRE_Match object; span=(0, 1), match='\\n'>\n",
      "<_sre.SRE_Match object; span=(2, 3), match='['>\n",
      "<_sre.SRE_Match object; span=(4, 5), match=']'>\n",
      "<_sre.SRE_Match object; span=(7, 8), match='#'>\n",
      "<_sre.SRE_Match object; span=(10, 11), match='*'>\n",
      "<_sre.SRE_Match object; span=(11, 12), match='\\\\'>\n",
      "<_sre.SRE_Match object; span=(12, 13), match='|'>\n",
      "<_sre.SRE_Match object; span=(13, 14), match=' '>\n",
      "<_sre.SRE_Match object; span=(18, 19), match='\\n'>\n"
     ]
    }
   ],
   "source": [
    "text = '''\n",
    "I[_]am#_2*\\\\| sl99\n",
    "df2'''\n",
    "pattern = re.compile(r'\\W')  \n",
    "matches = pattern.finditer(text)\n",
    "\n",
    "for match in matches:\n",
    "    print(match)"
   ]
  },
  {
   "cell_type": "code",
   "execution_count": null,
   "metadata": {
    "collapsed": true
   },
   "outputs": [],
   "source": []
  }
 ],
 "metadata": {
  "kernelspec": {
   "display_name": "Python 3",
   "language": "python",
   "name": "python3"
  },
  "language_info": {
   "codemirror_mode": {
    "name": "ipython",
    "version": 3
   },
   "file_extension": ".py",
   "mimetype": "text/x-python",
   "name": "python",
   "nbconvert_exporter": "python",
   "pygments_lexer": "ipython3",
   "version": "3.6.3"
  }
 },
 "nbformat": 4,
 "nbformat_minor": 2
}
