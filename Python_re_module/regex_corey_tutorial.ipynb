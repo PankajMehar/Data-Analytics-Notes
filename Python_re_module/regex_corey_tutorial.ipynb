{
 "cells": [
  {
   "cell_type": "code",
   "execution_count": 1,
   "metadata": {
    "collapsed": true
   },
   "outputs": [],
   "source": [
    "import re"
   ]
  },
  {
   "cell_type": "markdown",
   "metadata": {},
   "source": [
    "## Important Notes \n",
    "\n",
    "Period . - Any Character Except New Line  \n",
    "\\d      - Digit (0-9)  \n",
    "\\D      - Not a Digit (0-9)  \n",
    "\\w      - Word Character (a-z, A-Z, 0-9, _)  \n",
    "\\W      - Not a Word Character  \n",
    "\\s      - Whitespace (space, tab, newline)  \n",
    "\\S      - Not Whitespace (space, tab, newline)  \n",
    "\n",
    "### Anchor elements\n",
    "```\n",
    "\\b      - Word Boundary  \n",
    "\\B      - Not a Word Boundary  \n",
    "^       - Beginning of a String  \n",
    "$       - End of a String  \n",
    "\n",
    "```\n",
    "\n",
    "[]      - Matches Characters in brackets  \n",
    "[^ ]    - Matches Characters NOT in brackets  \n",
    "|       - Either Or  \n",
    "( )     - Group  \n",
    "\n",
    "### Quantifiers:  \n",
    "```\n",
    "*       - 0 or More  \n",
    "+       - 1 or More  \n",
    "?       - 0 or One  \n",
    "{3}     - Exact Number  \n",
    "{3,8}   - Range of Numbers (Minimum, Maximum)  \n",
    "```\n",
    "\n",
    "\n",
    "#### Sample Regexs to match all email addresses####\n",
    "\n",
    "[a-zA-Z0-9_.+-]+@[a-zA-Z0-9-]+\\.[a-zA-Z0-9-.]+  "
   ]
  },
  {
   "cell_type": "code",
   "execution_count": 2,
   "metadata": {
    "collapsed": true
   },
   "outputs": [],
   "source": [
    "text_to_search = '''\n",
    "abcdefghijklmnopqurtuvwxyzabc\n",
    "ABCDEFGHIJKLMNOPQRSTUVWXYZabc\n",
    "1234567890abc_yahoo\n",
    "\n",
    "\n",
    "Ha HaHa_HA\n",
    "\n",
    "MetaCharacters (Need to be escaped):\n",
    ". ^ $ * + ? { } [ ] \\ | ( )\n",
    "\n",
    "coreyms.com\n",
    "\n",
    "\n",
    "321-555-4321\n",
    "123.555.1234\n",
    "123*555*1234\n",
    "800-555-1234\n",
    "900-555-1234\n",
    "\n",
    "Mr. Schafer\n",
    "Mr Smith\n",
    "Ms Davis\n",
    "Mrs. Robinson\n",
    "Mr. T\n",
    "\n",
    "cat \n",
    "mat\n",
    "pat\n",
    "bat\n",
    "\n",
    "'''\n",
    "\n",
    "emails = '''\n",
    "CoreyMSchafer@gmail.com\n",
    "corey.schafer@university.edu\n",
    "corey-321-schafer@my-work.net\n",
    "'''\n",
    "\n",
    "sentence = 'Start a sentence and then bring it to an end'"
   ]
  },
  {
   "cell_type": "code",
   "execution_count": 3,
   "metadata": {
    "collapsed": true
   },
   "outputs": [],
   "source": [
    "urls = '''\n",
    "\n",
    "https://www.google.com\n",
    "http://coreyms.com\n",
    "https://youtube.com\n",
    "https://www.nasa.gov\n",
    "'''"
   ]
  },
  {
   "cell_type": "code",
   "execution_count": 4,
   "metadata": {},
   "outputs": [
    {
     "name": "stdout",
     "output_type": "stream",
     "text": [
      "Ordinary String : \n",
      "\tTab\n"
     ]
    }
   ],
   "source": [
    "print('Ordinary String : \\n' + '\\tTab')\n"
   ]
  },
  {
   "cell_type": "code",
   "execution_count": 5,
   "metadata": {},
   "outputs": [
    {
     "name": "stdout",
     "output_type": "stream",
     "text": [
      "Raw String : \n",
      "\\tTab\n"
     ]
    }
   ],
   "source": [
    "print('Raw String : \\n' + r'\\tTab')"
   ]
  },
  {
   "cell_type": "code",
   "execution_count": 6,
   "metadata": {},
   "outputs": [
    {
     "name": "stdout",
     "output_type": "stream",
     "text": [
      "<_sre.SRE_Match object; span=(1, 4), match='abc'>\n",
      "<_sre.SRE_Match object; span=(27, 30), match='abc'>\n",
      "<_sre.SRE_Match object; span=(57, 60), match='abc'>\n",
      "<_sre.SRE_Match object; span=(71, 74), match='abc'>\n"
     ]
    }
   ],
   "source": [
    "pattern = re.compile(r'abc')\n",
    "matches = pattern.finditer(text_to_search)\n",
    "\n",
    "for match in matches:\n",
    "    print(match)"
   ]
  },
  {
   "cell_type": "code",
   "execution_count": 7,
   "metadata": {},
   "outputs": [
    {
     "name": "stdout",
     "output_type": "stream",
     "text": [
      "abc\n"
     ]
    }
   ],
   "source": [
    "print(text_to_search[1:4])"
   ]
  },
  {
   "cell_type": "code",
   "execution_count": 8,
   "metadata": {
    "collapsed": true
   },
   "outputs": [],
   "source": [
    "pattern = re.compile(r'.')  # It will match almost everything\n",
    "matches = pattern.finditer(text_to_search)\n",
    "\n",
    "#for match in matches:\n",
    "#    print(match)"
   ]
  },
  {
   "cell_type": "code",
   "execution_count": 9,
   "metadata": {},
   "outputs": [
    {
     "name": "stdout",
     "output_type": "stream",
     "text": [
      "<_sre.SRE_Match object; span=(132, 133), match='.'>\n",
      "<_sre.SRE_Match object; span=(168, 169), match='.'>\n",
      "<_sre.SRE_Match object; span=(191, 192), match='.'>\n",
      "<_sre.SRE_Match object; span=(195, 196), match='.'>\n",
      "<_sre.SRE_Match object; span=(243, 244), match='.'>\n",
      "<_sre.SRE_Match object; span=(274, 275), match='.'>\n",
      "<_sre.SRE_Match object; span=(287, 288), match='.'>\n"
     ]
    }
   ],
   "source": [
    "# But if backslash (\\) is used it will search only for period(.)\n",
    "pattern = re.compile(r'\\.')  \n",
    "matches = pattern.finditer(text_to_search)\n",
    "\n",
    "for match in matches:\n",
    "    print(match)"
   ]
  },
  {
   "cell_type": "code",
   "execution_count": 10,
   "metadata": {},
   "outputs": [
    {
     "name": "stdout",
     "output_type": "stream",
     "text": [
      "<_sre.SRE_Match object; span=(161, 172), match='coreyms.com'>\n"
     ]
    }
   ],
   "source": [
    "# To match the url  coreyms.com\n",
    "\n",
    "pattern = re.compile(r'coreyms\\.com')  \n",
    "matches = pattern.finditer(text_to_search)\n",
    "#  matches  -----> its prints as <callable_iterator at 0x7a4609e208> so better use for loop\n",
    "\n",
    "for match in matches:\n",
    "    print(match)"
   ]
  },
  {
   "cell_type": "code",
   "execution_count": 11,
   "metadata": {
    "collapsed": true
   },
   "outputs": [],
   "source": [
    "# To match only the digits\n",
    "\n",
    "pattern = re.compile(r'\\d')  \n",
    "matches = pattern.finditer(text_to_search)\n",
    "\n",
    "# for match in matches:\n",
    "#    print(match)"
   ]
  },
  {
   "cell_type": "code",
   "execution_count": 12,
   "metadata": {},
   "outputs": [
    {
     "name": "stdout",
     "output_type": "stream",
     "text": [
      "<_sre.SRE_Match object; span=(214, 226), match='800-555-1234'>\n",
      "<_sre.SRE_Match object; span=(227, 239), match='900-555-1234'>\n"
     ]
    }
   ],
   "source": [
    "# To match only the digits 800-555-1234  and 900-555-1234\n",
    "\n",
    "pattern = re.compile(r'[89]0*[-.]\\d*[-.]\\d*')  \n",
    "matches = pattern.finditer(text_to_search)\n",
    "\n",
    "for match in matches:\n",
    "    print(match)"
   ]
  },
  {
   "cell_type": "code",
   "execution_count": 13,
   "metadata": {},
   "outputs": [
    {
     "name": "stdout",
     "output_type": "stream",
     "text": [
      "<_sre.SRE_Match object; span=(175, 187), match='321-555-4321'>\n",
      "<_sre.SRE_Match object; span=(188, 200), match='123.555.1234'>\n",
      "<_sre.SRE_Match object; span=(214, 226), match='800-555-1234'>\n",
      "<_sre.SRE_Match object; span=(227, 239), match='900-555-1234'>\n"
     ]
    }
   ],
   "source": [
    "# To match the phone numbers\n",
    "\n",
    "pattern = re.compile(r'\\d*[-.]\\d*[-.]\\d*')  \n",
    "matches = pattern.finditer(text_to_search)\n",
    "\n",
    "for match in matches:\n",
    "    print(match)"
   ]
  },
  {
   "cell_type": "markdown",
   "metadata": {},
   "source": [
    "More accurate and better way of doing this is :"
   ]
  },
  {
   "cell_type": "code",
   "execution_count": 14,
   "metadata": {},
   "outputs": [
    {
     "name": "stdout",
     "output_type": "stream",
     "text": [
      "<_sre.SRE_Match object; span=(175, 187), match='321-555-4321'>\n",
      "<_sre.SRE_Match object; span=(188, 200), match='123.555.1234'>\n",
      "<_sre.SRE_Match object; span=(214, 226), match='800-555-1234'>\n",
      "<_sre.SRE_Match object; span=(227, 239), match='900-555-1234'>\n"
     ]
    }
   ],
   "source": [
    "pattern = re.compile(r'\\d{3}[-.]\\d{3}[-.]\\d{4}')  \n",
    "matches = pattern.finditer(text_to_search)\n",
    "\n",
    "for match in matches:\n",
    "    print(match)"
   ]
  },
  {
   "cell_type": "code",
   "execution_count": 15,
   "metadata": {},
   "outputs": [
    {
     "name": "stdout",
     "output_type": "stream",
     "text": [
      "<_sre.SRE_Match object; span=(12, 24), match='615-555-7164'>\n",
      "<_sre.SRE_Match object; span=(102, 114), match='800-555-5669'>\n",
      "<_sre.SRE_Match object; span=(191, 203), match='560-555-5153'>\n",
      "<_sre.SRE_Match object; span=(281, 293), match='900-555-9340'>\n",
      "<_sre.SRE_Match object; span=(378, 390), match='714-555-7405'>\n",
      "<_sre.SRE_Match object; span=(467, 479), match='800-555-6771'>\n",
      "<_sre.SRE_Match object; span=(557, 569), match='783-555-4799'>\n",
      "<_sre.SRE_Match object; span=(647, 659), match='516-555-4615'>\n",
      "<_sre.SRE_Match object; span=(740, 752), match='127-555-1867'>\n",
      "<_sre.SRE_Match object; span=(831, 843), match='608-555-4938'>\n",
      "<_sre.SRE_Match object; span=(917, 929), match='568-555-6051'>\n",
      "<_sre.SRE_Match object; span=(1005, 1017), match='292-555-1875'>\n",
      "<_sre.SRE_Match object; span=(1093, 1105), match='900-555-3205'>\n",
      "<_sre.SRE_Match object; span=(1182, 1194), match='614-555-1166'>\n",
      "<_sre.SRE_Match object; span=(1273, 1285), match='530-555-2676'>\n",
      "<_sre.SRE_Match object; span=(1359, 1371), match='470-555-2750'>\n",
      "<_sre.SRE_Match object; span=(1443, 1455), match='800-555-6089'>\n",
      "<_sre.SRE_Match object; span=(1530, 1542), match='880-555-8319'>\n",
      "<_sre.SRE_Match object; span=(1618, 1630), match='777-555-8378'>\n",
      "<_sre.SRE_Match object; span=(1701, 1713), match='998-555-7385'>\n",
      "<_sre.SRE_Match object; span=(1794, 1806), match='800-555-7100'>\n",
      "<_sre.SRE_Match object; span=(1878, 1890), match='903-555-8277'>\n",
      "<_sre.SRE_Match object; span=(1966, 1978), match='196-555-5674'>\n",
      "<_sre.SRE_Match object; span=(2055, 2067), match='900-555-5118'>\n",
      "<_sre.SRE_Match object; span=(2139, 2151), match='905-555-1630'>\n",
      "<_sre.SRE_Match object; span=(2220, 2232), match='203-555-3475'>\n",
      "<_sre.SRE_Match object; span=(2304, 2316), match='884-555-8444'>\n",
      "<_sre.SRE_Match object; span=(2391, 2403), match='904-555-8559'>\n",
      "<_sre.SRE_Match object; span=(2479, 2491), match='889-555-7393'>\n",
      "<_sre.SRE_Match object; span=(2566, 2578), match='195-555-2405'>\n",
      "<_sre.SRE_Match object; span=(2651, 2663), match='321-555-9053'>\n",
      "<_sre.SRE_Match object; span=(2738, 2750), match='133-555-1711'>\n",
      "<_sre.SRE_Match object; span=(2830, 2842), match='900-555-5428'>\n",
      "<_sre.SRE_Match object; span=(2919, 2931), match='760-555-7147'>\n",
      "<_sre.SRE_Match object; span=(3018, 3030), match='391-555-6621'>\n",
      "<_sre.SRE_Match object; span=(3109, 3121), match='932-555-7724'>\n",
      "<_sre.SRE_Match object; span=(3198, 3210), match='609-555-7908'>\n",
      "<_sre.SRE_Match object; span=(3290, 3302), match='800-555-8810'>\n",
      "<_sre.SRE_Match object; span=(3378, 3390), match='149-555-7657'>\n",
      "<_sre.SRE_Match object; span=(3458, 3470), match='130-555-9709'>\n",
      "<_sre.SRE_Match object; span=(3541, 3553), match='143-555-9295'>\n",
      "<_sre.SRE_Match object; span=(3630, 3642), match='903-555-9878'>\n",
      "<_sre.SRE_Match object; span=(3720, 3732), match='574-555-3194'>\n",
      "<_sre.SRE_Match object; span=(3808, 3820), match='496-555-7533'>\n",
      "<_sre.SRE_Match object; span=(3893, 3905), match='210-555-3757'>\n",
      "<_sre.SRE_Match object; span=(3977, 3989), match='900-555-9598'>\n",
      "<_sre.SRE_Match object; span=(4062, 4074), match='866-555-9844'>\n",
      "<_sre.SRE_Match object; span=(4146, 4158), match='669-555-7159'>\n",
      "<_sre.SRE_Match object; span=(4231, 4243), match='152-555-7417'>\n",
      "<_sre.SRE_Match object; span=(4323, 4335), match='893-555-9832'>\n",
      "<_sre.SRE_Match object; span=(4413, 4425), match='217-555-7123'>\n",
      "<_sre.SRE_Match object; span=(4504, 4516), match='786-555-6544'>\n",
      "<_sre.SRE_Match object; span=(4594, 4606), match='780-555-2574'>\n",
      "<_sre.SRE_Match object; span=(4682, 4694), match='926-555-8735'>\n",
      "<_sre.SRE_Match object; span=(4768, 4780), match='895-555-3539'>\n",
      "<_sre.SRE_Match object; span=(4865, 4877), match='874-555-3949'>\n",
      "<_sre.SRE_Match object; span=(4951, 4963), match='800-555-2420'>\n",
      "<_sre.SRE_Match object; span=(5040, 5052), match='936-555-6340'>\n",
      "<_sre.SRE_Match object; span=(5129, 5141), match='372-555-9809'>\n",
      "<_sre.SRE_Match object; span=(5216, 5228), match='890-555-5618'>\n",
      "<_sre.SRE_Match object; span=(5298, 5310), match='670-555-3005'>\n",
      "<_sre.SRE_Match object; span=(5388, 5400), match='509-555-5997'>\n",
      "<_sre.SRE_Match object; span=(5481, 5493), match='721-555-5632'>\n",
      "<_sre.SRE_Match object; span=(5572, 5584), match='900-555-3567'>\n",
      "<_sre.SRE_Match object; span=(5662, 5674), match='147-555-6830'>\n",
      "<_sre.SRE_Match object; span=(5751, 5763), match='582-555-3426'>\n",
      "<_sre.SRE_Match object; span=(5836, 5848), match='400-555-1706'>\n",
      "<_sre.SRE_Match object; span=(5927, 5939), match='525-555-1793'>\n",
      "<_sre.SRE_Match object; span=(6017, 6029), match='317-555-6700'>\n",
      "<_sre.SRE_Match object; span=(6105, 6117), match='974-555-8301'>\n",
      "<_sre.SRE_Match object; span=(6195, 6207), match='800-555-3216'>\n",
      "<_sre.SRE_Match object; span=(6281, 6293), match='746-555-4094'>\n",
      "<_sre.SRE_Match object; span=(6368, 6380), match='922-555-1773'>\n",
      "<_sre.SRE_Match object; span=(6453, 6465), match='711-555-4427'>\n",
      "<_sre.SRE_Match object; span=(6538, 6550), match='355-555-1872'>\n",
      "<_sre.SRE_Match object; span=(6627, 6639), match='852-555-6521'>\n",
      "<_sre.SRE_Match object; span=(6719, 6731), match='691-555-5773'>\n",
      "<_sre.SRE_Match object; span=(6811, 6823), match='332-555-5441'>\n",
      "<_sre.SRE_Match object; span=(6897, 6909), match='900-555-7755'>\n",
      "<_sre.SRE_Match object; span=(6979, 6991), match='379-555-3685'>\n",
      "<_sre.SRE_Match object; span=(7069, 7081), match='127-555-9682'>\n",
      "<_sre.SRE_Match object; span=(7160, 7172), match='789-555-7032'>\n",
      "<_sre.SRE_Match object; span=(7251, 7263), match='783-555-5135'>\n",
      "<_sre.SRE_Match object; span=(7344, 7356), match='315-555-6507'>\n",
      "<_sre.SRE_Match object; span=(7435, 7447), match='481-555-5835'>\n",
      "<_sre.SRE_Match object; span=(7523, 7535), match='365-555-8287'>\n",
      "<_sre.SRE_Match object; span=(7615, 7627), match='911-555-7535'>\n",
      "<_sre.SRE_Match object; span=(7701, 7713), match='681-555-2460'>\n",
      "<_sre.SRE_Match object; span=(7787, 7799), match='274-555-9800'>\n",
      "<_sre.SRE_Match object; span=(7872, 7884), match='800-555-1372'>\n",
      "<_sre.SRE_Match object; span=(7961, 7973), match='300-555-7821'>\n",
      "<_sre.SRE_Match object; span=(8051, 8063), match='133-555-3889'>\n",
      "<_sre.SRE_Match object; span=(8139, 8151), match='705-555-6863'>\n",
      "<_sre.SRE_Match object; span=(8228, 8240), match='215-555-9449'>\n",
      "<_sre.SRE_Match object; span=(8319, 8331), match='988-555-6112'>\n",
      "<_sre.SRE_Match object; span=(8405, 8417), match='623-555-3006'>\n",
      "<_sre.SRE_Match object; span=(8489, 8501), match='192-555-4977'>\n",
      "<_sre.SRE_Match object; span=(8574, 8586), match='178-555-4899'>\n",
      "<_sre.SRE_Match object; span=(8658, 8670), match='952-555-3089'>\n",
      "<_sre.SRE_Match object; span=(8751, 8763), match='900-555-6426'>\n"
     ]
    }
   ],
   "source": [
    "# To match the phone numbers from a text file\n",
    "\n",
    "pattern = re.compile(r'\\d*[-.]\\d*[-.]\\d*')\n",
    "\n",
    "with open('data.txt', 'r') as f:\n",
    "    contents = f.read()\n",
    "    \n",
    "    matches = pattern.finditer(contents)\n",
    "    \n",
    "    for match in matches:\n",
    "        print(match)"
   ]
  },
  {
   "cell_type": "code",
   "execution_count": 16,
   "metadata": {},
   "outputs": [
    {
     "name": "stdout",
     "output_type": "stream",
     "text": [
      "<_sre.SRE_Match object; span=(292, 295), match='cat'>\n",
      "<_sre.SRE_Match object; span=(297, 300), match='mat'>\n",
      "<_sre.SRE_Match object; span=(301, 304), match='pat'>\n"
     ]
    }
   ],
   "source": [
    "# To match cat, mat and pat\n",
    "\n",
    "pattern = re.compile(r'[^b]at')\n",
    "matches = pattern.finditer(text_to_search)\n",
    "\n",
    "for match in matches:\n",
    "    print(match)"
   ]
  },
  {
   "cell_type": "markdown",
   "metadata": {},
   "source": [
    "## To search for a word character\n",
    "\\w - Word Character (a-z, A-Z, 0-9, _)"
   ]
  },
  {
   "cell_type": "code",
   "execution_count": 17,
   "metadata": {},
   "outputs": [
    {
     "name": "stdout",
     "output_type": "stream",
     "text": [
      "<_sre.SRE_Match object; span=(0, 1), match='I'>\n",
      "<_sre.SRE_Match object; span=(2, 3), match='_'>\n",
      "<_sre.SRE_Match object; span=(4, 5), match='a'>\n",
      "<_sre.SRE_Match object; span=(5, 6), match='m'>\n",
      "<_sre.SRE_Match object; span=(7, 8), match='_'>\n",
      "<_sre.SRE_Match object; span=(8, 9), match='2'>\n"
     ]
    }
   ],
   "source": [
    "text = 'I[_]am#_2*\\\\|'\n",
    "pattern = re.compile(r'\\w')  \n",
    "matches = pattern.finditer(text)\n",
    "\n",
    "for match in matches:\n",
    "    print(match)"
   ]
  },
  {
   "cell_type": "markdown",
   "metadata": {},
   "source": [
    "### To search for words that are not word characters\n",
    "\n",
    "\\W - Not a Word Character (includes metacharacters, tabs, spaces)"
   ]
  },
  {
   "cell_type": "code",
   "execution_count": 18,
   "metadata": {},
   "outputs": [
    {
     "name": "stdout",
     "output_type": "stream",
     "text": [
      "<_sre.SRE_Match object; span=(0, 1), match='\\n'>\n",
      "<_sre.SRE_Match object; span=(2, 3), match='['>\n",
      "<_sre.SRE_Match object; span=(4, 5), match=']'>\n",
      "<_sre.SRE_Match object; span=(7, 8), match='#'>\n",
      "<_sre.SRE_Match object; span=(10, 11), match='*'>\n",
      "<_sre.SRE_Match object; span=(11, 12), match='\\\\'>\n",
      "<_sre.SRE_Match object; span=(12, 13), match='|'>\n",
      "<_sre.SRE_Match object; span=(13, 14), match=' '>\n",
      "<_sre.SRE_Match object; span=(18, 19), match='\\n'>\n"
     ]
    }
   ],
   "source": [
    "text = '''\n",
    "I[_]am#_2*\\\\| sl99\n",
    "df2'''\n",
    "pattern = re.compile(r'\\W')  \n",
    "matches = pattern.finditer(text)\n",
    "\n",
    "for match in matches:\n",
    "    print(match)"
   ]
  },
  {
   "cell_type": "markdown",
   "metadata": {
    "collapsed": true
   },
   "source": [
    "## To match\n",
    "Mr. Schafer  \n",
    "Mr Smith  \n",
    "Ms Davis  \n",
    "Mrs. Robinson  \n",
    "Mr. T  "
   ]
  },
  {
   "cell_type": "code",
   "execution_count": 19,
   "metadata": {},
   "outputs": [
    {
     "name": "stdout",
     "output_type": "stream",
     "text": [
      "<_sre.SRE_Match object; span=(241, 252), match='Mr. Schafer'>\n",
      "<_sre.SRE_Match object; span=(253, 261), match='Mr Smith'>\n",
      "<_sre.SRE_Match object; span=(285, 290), match='Mr. T'>\n"
     ]
    }
   ],
   "source": [
    "pattern = re.compile(r'Mr\\.?\\s[A-Z]\\w*')  \n",
    "matches = pattern.finditer(text_to_search)\n",
    "\n",
    "for match in matches:\n",
    "    print(match)"
   ]
  },
  {
   "cell_type": "code",
   "execution_count": 20,
   "metadata": {},
   "outputs": [
    {
     "name": "stdout",
     "output_type": "stream",
     "text": [
      "<_sre.SRE_Match object; span=(241, 252), match='Mr. Schafer'>\n",
      "<_sre.SRE_Match object; span=(253, 261), match='Mr Smith'>\n",
      "<_sre.SRE_Match object; span=(262, 270), match='Ms Davis'>\n",
      "<_sre.SRE_Match object; span=(271, 284), match='Mrs. Robinson'>\n",
      "<_sre.SRE_Match object; span=(285, 290), match='Mr. T'>\n"
     ]
    }
   ],
   "source": [
    "# To match Mrs. and Ms also with the help of group\n",
    "pattern = re.compile(r'(Mr|Ms|Mrs)\\.?\\s[A-Z]\\w*')  \n",
    "matches = pattern.finditer(text_to_search)\n",
    "\n",
    "for match in matches:\n",
    "    print(match)"
   ]
  },
  {
   "cell_type": "markdown",
   "metadata": {},
   "source": [
    "### To match the following email:\n",
    "CoreyMSchafer@gmail.com  \n",
    "corey.schafer@university.edu  \n",
    "corey-321-schafer@my-work.net "
   ]
  },
  {
   "cell_type": "code",
   "execution_count": 21,
   "metadata": {},
   "outputs": [
    {
     "name": "stdout",
     "output_type": "stream",
     "text": [
      "<_sre.SRE_Match object; span=(1, 24), match='CoreyMSchafer@gmail.com'>\n",
      "<_sre.SRE_Match object; span=(31, 53), match='schafer@university.edu'>\n"
     ]
    }
   ],
   "source": [
    "pattern = re.compile(r'\\w*@\\w*\\.(com|edu|net)')  \n",
    "matches = pattern.finditer(emails)\n",
    "\n",
    "for match in matches:\n",
    "    print(match)"
   ]
  },
  {
   "cell_type": "code",
   "execution_count": 22,
   "metadata": {},
   "outputs": [
    {
     "name": "stdout",
     "output_type": "stream",
     "text": [
      "<_sre.SRE_Match object; span=(1, 24), match='CoreyMSchafer@gmail.com'>\n",
      "<_sre.SRE_Match object; span=(25, 53), match='corey.schafer@university.edu'>\n",
      "<_sre.SRE_Match object; span=(54, 83), match='corey-321-schafer@my-work.net'>\n"
     ]
    }
   ],
   "source": [
    "pattern = re.compile(r'[a-zA-Z0-9-.]+@[a-z-]+\\.(com|edu|net)')  \n",
    "matches = pattern.finditer(emails)\n",
    "\n",
    "for match in matches:\n",
    "    print(match)"
   ]
  },
  {
   "cell_type": "code",
   "execution_count": 23,
   "metadata": {},
   "outputs": [
    {
     "name": "stdout",
     "output_type": "stream",
     "text": [
      "<_sre.SRE_Match object; span=(1, 24), match='CoreyMSchafer@gmail.com'>\n",
      "<_sre.SRE_Match object; span=(25, 53), match='corey.schafer@university.edu'>\n",
      "<_sre.SRE_Match object; span=(54, 83), match='corey-321-schafer@my-work.net'>\n"
     ]
    }
   ],
   "source": [
    "\n",
    "pattern = re.compile(r'[a-zA-Z0-9_.+-]+@[a-zA-Z0-9-]+.[a-zA-Z0-9-.]+')  \n",
    "matches = pattern.finditer(emails)\n",
    "\n",
    "for match in matches:\n",
    "    print(match)"
   ]
  },
  {
   "cell_type": "markdown",
   "metadata": {},
   "source": [
    "### To capture information from groups -- from urls string\n",
    "We only want to capture the domain name followed by the top-level domain.  \n",
    "\n",
    "Eg: google.com,  \n",
    "nasa.gov, etc \n"
   ]
  },
  {
   "cell_type": "code",
   "execution_count": 24,
   "metadata": {},
   "outputs": [
    {
     "name": "stdout",
     "output_type": "stream",
     "text": [
      "<_sre.SRE_Match object; span=(2, 24), match='https://www.google.com'>\n",
      "<_sre.SRE_Match object; span=(25, 43), match='http://coreyms.com'>\n",
      "<_sre.SRE_Match object; span=(44, 63), match='https://youtube.com'>\n",
      "<_sre.SRE_Match object; span=(64, 84), match='https://www.nasa.gov'>\n"
     ]
    }
   ],
   "source": [
    "# Matching urls done by me\n",
    "pattern = re.compile(r'https?://\\w{3}\\.?\\w+\\.(com|gov)')  \n",
    "matches = pattern.finditer(urls)\n",
    "\n",
    "for match in matches:\n",
    "    print(match)"
   ]
  },
  {
   "cell_type": "code",
   "execution_count": 25,
   "metadata": {},
   "outputs": [
    {
     "name": "stdout",
     "output_type": "stream",
     "text": [
      "<_sre.SRE_Match object; span=(2, 24), match='https://www.google.com'>\n",
      "<_sre.SRE_Match object; span=(25, 43), match='http://coreyms.com'>\n",
      "<_sre.SRE_Match object; span=(44, 63), match='https://youtube.com'>\n",
      "<_sre.SRE_Match object; span=(64, 84), match='https://www.nasa.gov'>\n"
     ]
    }
   ],
   "source": [
    "# Matching urls done by corey\n",
    "pattern = re.compile(r'https?://(www\\.)?\\w+\\.\\w+')  \n",
    "matches = pattern.finditer(urls)\n",
    "\n",
    "for match in matches:\n",
    "    print(match)"
   ]
  },
  {
   "cell_type": "code",
   "execution_count": 26,
   "metadata": {},
   "outputs": [
    {
     "name": "stdout",
     "output_type": "stream",
     "text": [
      "<_sre.SRE_Match object; span=(2, 24), match='https://www.google.com'>\n",
      "<_sre.SRE_Match object; span=(25, 43), match='http://coreyms.com'>\n",
      "<_sre.SRE_Match object; span=(44, 63), match='https://youtube.com'>\n",
      "<_sre.SRE_Match object; span=(64, 84), match='https://www.nasa.gov'>\n"
     ]
    }
   ],
   "source": [
    "# Matching urls done by corey\n",
    "# By putting it as groups\n",
    "pattern = re.compile(r'https?://(www\\.)?(\\w+)(\\.\\w+)')  \n",
    "matches = pattern.finditer(urls)\n",
    "\n",
    "for match in matches:\n",
    "    print(match)"
   ]
  },
  {
   "cell_type": "markdown",
   "metadata": {},
   "source": [
    "So in the regular expression above :\n",
    "> 'https?://(www\\.)?(\\w+)(\\.\\w+)'\n",
    "\n",
    "there are 4 groups :\n",
    "- __1st group : group(0)__ - The entire url refered by the url.\n",
    "- __2nd group : group(1)__ - (www\\.)\n",
    "- __3rd group : group(2)__ - (\\w+)   : Domain name\n",
    "- __4th group : group(3)__ - (\\.\\w+) : Top level domain eg .com or .gov\n",
    "\n",
    "The match object has a group method."
   ]
  },
  {
   "cell_type": "code",
   "execution_count": 27,
   "metadata": {},
   "outputs": [
    {
     "name": "stdout",
     "output_type": "stream",
     "text": [
      "https://www.google.com\n",
      "http://coreyms.com\n",
      "https://youtube.com\n",
      "https://www.nasa.gov\n"
     ]
    }
   ],
   "source": [
    "pattern = re.compile(r'https?://(www\\.)?(\\w+)(\\.\\w+)')  \n",
    "matches = pattern.finditer(urls)\n",
    "\n",
    "for match in matches:\n",
    "    print(match.group(0))"
   ]
  },
  {
   "cell_type": "code",
   "execution_count": 28,
   "metadata": {},
   "outputs": [
    {
     "name": "stdout",
     "output_type": "stream",
     "text": [
      "www.\n",
      "None\n",
      "None\n",
      "www.\n"
     ]
    }
   ],
   "source": [
    "pattern = re.compile(r'https?://(www\\.)?(\\w+)(\\.\\w+)')  \n",
    "matches = pattern.finditer(urls)\n",
    "\n",
    "for match in matches:\n",
    "    print(match.group(1))"
   ]
  },
  {
   "cell_type": "code",
   "execution_count": 29,
   "metadata": {},
   "outputs": [
    {
     "name": "stdout",
     "output_type": "stream",
     "text": [
      "google\n",
      "coreyms\n",
      "youtube\n",
      "nasa\n"
     ]
    }
   ],
   "source": [
    "pattern = re.compile(r'https?://(www\\.)?(\\w+)(\\.\\w+)')  \n",
    "matches = pattern.finditer(urls)\n",
    "\n",
    "for match in matches:\n",
    "    print(match.group(2))"
   ]
  },
  {
   "cell_type": "code",
   "execution_count": 30,
   "metadata": {},
   "outputs": [
    {
     "name": "stdout",
     "output_type": "stream",
     "text": [
      ".com\n",
      ".com\n",
      ".com\n",
      ".gov\n"
     ]
    }
   ],
   "source": [
    "pattern = re.compile(r'https?://(www\\.)?(\\w+)(\\.\\w+)')  \n",
    "matches = pattern.finditer(urls)\n",
    "\n",
    "for match in matches:\n",
    "    print(match.group(3))"
   ]
  },
  {
   "cell_type": "code",
   "execution_count": 31,
   "metadata": {},
   "outputs": [
    {
     "name": "stdout",
     "output_type": "stream",
     "text": [
      "\n",
      "\n",
      "google.com\n",
      "coreyms.com\n",
      "youtube.com\n",
      "nasa.gov\n",
      "\n"
     ]
    }
   ],
   "source": [
    "pattern = re.compile(r'https?://(www\\.)?(\\w+)(\\.\\w+)')  \n",
    "subbed_urls = pattern.sub(r'\\2\\3', urls)\n",
    "print(subbed_urls)"
   ]
  },
  {
   "cell_type": "code",
   "execution_count": 32,
   "metadata": {},
   "outputs": [
    {
     "name": "stdout",
     "output_type": "stream",
     "text": [
      "Mr\n",
      "Mr\n",
      "Ms\n",
      "Mrs\n",
      "Mr\n"
     ]
    }
   ],
   "source": [
    "pattern = re.compile(r'(Mr|Ms|Mrs)\\.?\\s[A-Z]\\w*')  \n",
    "matches = pattern.findall(text_to_search)\n",
    "\n",
    "for match in matches:\n",
    "    print(match)"
   ]
  },
  {
   "cell_type": "code",
   "execution_count": 33,
   "metadata": {},
   "outputs": [
    {
     "ename": "TypeError",
     "evalue": "'_sre.SRE_Match' object is not iterable",
     "output_type": "error",
     "traceback": [
      "\u001b[1;31m---------------------------------------------------------------------------\u001b[0m",
      "\u001b[1;31mTypeError\u001b[0m                                 Traceback (most recent call last)",
      "\u001b[1;32m<ipython-input-33-77390ee4c108>\u001b[0m in \u001b[0;36m<module>\u001b[1;34m()\u001b[0m\n\u001b[0;32m      1\u001b[0m \u001b[0mpattern\u001b[0m \u001b[1;33m=\u001b[0m \u001b[0mre\u001b[0m\u001b[1;33m.\u001b[0m\u001b[0mcompile\u001b[0m\u001b[1;33m(\u001b[0m\u001b[1;34mr'Start'\u001b[0m\u001b[1;33m)\u001b[0m\u001b[1;33m\u001b[0m\u001b[0m\n\u001b[0;32m      2\u001b[0m \u001b[0mmatches\u001b[0m \u001b[1;33m=\u001b[0m \u001b[0mpattern\u001b[0m\u001b[1;33m.\u001b[0m\u001b[0mmatch\u001b[0m\u001b[1;33m(\u001b[0m\u001b[0msentence\u001b[0m\u001b[1;33m)\u001b[0m\u001b[1;33m\u001b[0m\u001b[0m\n\u001b[1;32m----> 3\u001b[1;33m \u001b[1;32mfor\u001b[0m \u001b[0mmatch\u001b[0m \u001b[1;32min\u001b[0m \u001b[0mmatches\u001b[0m\u001b[1;33m:\u001b[0m\u001b[1;33m\u001b[0m\u001b[0m\n\u001b[0m\u001b[0;32m      4\u001b[0m     \u001b[0mprint\u001b[0m\u001b[1;33m(\u001b[0m\u001b[0mmatch\u001b[0m\u001b[1;33m)\u001b[0m\u001b[1;33m\u001b[0m\u001b[0m\n",
      "\u001b[1;31mTypeError\u001b[0m: '_sre.SRE_Match' object is not iterable"
     ]
    }
   ],
   "source": [
    "pattern = re.compile(r'Start')\n",
    "matches = pattern.match(sentence)\n",
    "for match in matches:\n",
    "    print(match)"
   ]
  },
  {
   "cell_type": "code",
   "execution_count": 34,
   "metadata": {},
   "outputs": [
    {
     "name": "stdout",
     "output_type": "stream",
     "text": [
      "<_sre.SRE_Match object; span=(0, 5), match='Start'>\n"
     ]
    }
   ],
   "source": [
    "pattern = re.compile(r'Start')\n",
    "matches = pattern.search(sentence)\n",
    "print(matches)"
   ]
  },
  {
   "cell_type": "code",
   "execution_count": 35,
   "metadata": {},
   "outputs": [
    {
     "name": "stdout",
     "output_type": "stream",
     "text": [
      "None\n"
     ]
    }
   ],
   "source": [
    "pattern = re.compile(r'dne')\n",
    "matches = pattern.search(sentence)\n",
    "print(matches)"
   ]
  },
  {
   "cell_type": "code",
   "execution_count": 36,
   "metadata": {},
   "outputs": [
    {
     "name": "stdout",
     "output_type": "stream",
     "text": [
      "<_sre.SRE_Match object; span=(0, 5), match='Start'>\n"
     ]
    }
   ],
   "source": [
    "pattern = re.compile(r'Start', re.IGNORECASE)\n",
    "matches = pattern.search(sentence)\n",
    "print(matches)"
   ]
  },
  {
   "cell_type": "code",
   "execution_count": 37,
   "metadata": {},
   "outputs": [
    {
     "name": "stdout",
     "output_type": "stream",
     "text": [
      "<_sre.SRE_Match object; span=(0, 5), match='Start'>\n"
     ]
    }
   ],
   "source": [
    "pattern = re.compile(r'Start', re.I)\n",
    "matches = pattern.search(sentence)\n",
    "print(matches)"
   ]
  },
  {
   "cell_type": "code",
   "execution_count": null,
   "metadata": {
    "collapsed": true
   },
   "outputs": [],
   "source": []
  },
  {
   "cell_type": "code",
   "execution_count": null,
   "metadata": {
    "collapsed": true
   },
   "outputs": [],
   "source": []
  }
 ],
 "metadata": {
  "kernelspec": {
   "display_name": "Python 3",
   "language": "python",
   "name": "python3"
  },
  "language_info": {
   "codemirror_mode": {
    "name": "ipython",
    "version": 3
   },
   "file_extension": ".py",
   "mimetype": "text/x-python",
   "name": "python",
   "nbconvert_exporter": "python",
   "pygments_lexer": "ipython3",
   "version": "3.6.3"
  }
 },
 "nbformat": 4,
 "nbformat_minor": 2
}
